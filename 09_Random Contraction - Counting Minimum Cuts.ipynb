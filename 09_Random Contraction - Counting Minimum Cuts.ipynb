{
 "cells": [
  {
   "cell_type": "code",
   "execution_count": 1,
   "metadata": {
    "collapsed": true
   },
   "outputs": [],
   "source": [
    "import numpy as np\n",
    "import random\n",
    "import networkx as nx"
   ]
  },
  {
   "cell_type": "code",
   "execution_count": 2,
   "metadata": {
    "collapsed": true
   },
   "outputs": [],
   "source": [
    "G1 = nx.read_adjlist('datasets/MinCut.txt', nodetype=int) #create_using=nx.MultiGraph()   Now, nx.Graph() is default"
   ]
  },
  {
   "cell_type": "code",
   "execution_count": 3,
   "metadata": {},
   "outputs": [
    {
     "data": {
      "text/plain": [
       "2517"
      ]
     },
     "execution_count": 3,
     "metadata": {},
     "output_type": "execute_result"
    }
   ],
   "source": [
    "len(G1.edges())"
   ]
  },
  {
   "cell_type": "code",
   "execution_count": 4,
   "metadata": {},
   "outputs": [
    {
     "data": {
      "text/plain": [
       "200"
      ]
     },
     "execution_count": 4,
     "metadata": {},
     "output_type": "execute_result"
    }
   ],
   "source": [
    "len(G1.nodes())"
   ]
  },
  {
   "cell_type": "code",
   "execution_count": 5,
   "metadata": {},
   "outputs": [
    {
     "name": "stdout",
     "output_type": "stream",
     "text": [
      "1 2 3 4 7\r\n",
      "2 1 3 4\r\n",
      "3 1 2 4\r\n",
      "4 1 2 3 5\r\n",
      "5 4 6 7 8\r\n",
      "6 5 7 8\r\n",
      "7 1 5 6 8\r\n",
      "8 5 6 7"
     ]
    }
   ],
   "source": [
    "!cat datasets/cut_test.txt"
   ]
  },
  {
   "cell_type": "code",
   "execution_count": 6,
   "metadata": {
    "collapsed": true
   },
   "outputs": [],
   "source": [
    "G_t = nx.read_adjlist('datasets/cut_test.txt', nodetype=int)"
   ]
  },
  {
   "cell_type": "code",
   "execution_count": 7,
   "metadata": {},
   "outputs": [
    {
     "data": {
      "text/plain": [
       "[1, 2, 3, 4, 7, 5, 6, 8]"
      ]
     },
     "execution_count": 7,
     "metadata": {},
     "output_type": "execute_result"
    }
   ],
   "source": [
    "G_t.nodes()"
   ]
  },
  {
   "cell_type": "code",
   "execution_count": 8,
   "metadata": {},
   "outputs": [
    {
     "data": {
      "text/plain": [
       "[(1, 2),\n",
       " (1, 3),\n",
       " (1, 4),\n",
       " (1, 7),\n",
       " (2, 3),\n",
       " (2, 4),\n",
       " (3, 4),\n",
       " (4, 5),\n",
       " (7, 5),\n",
       " (7, 6),\n",
       " (7, 8),\n",
       " (5, 6),\n",
       " (5, 8),\n",
       " (6, 8)]"
      ]
     },
     "execution_count": 8,
     "metadata": {},
     "output_type": "execute_result"
    }
   ],
   "source": [
    "G_t.edges()"
   ]
  },
  {
   "cell_type": "code",
   "execution_count": 9,
   "metadata": {},
   "outputs": [
    {
     "data": {
      "text/plain": [
       "14"
      ]
     },
     "execution_count": 9,
     "metadata": {},
     "output_type": "execute_result"
    }
   ],
   "source": [
    "len(G_t.edges())"
   ]
  },
  {
   "cell_type": "code",
   "execution_count": 13,
   "metadata": {
    "collapsed": true
   },
   "outputs": [],
   "source": [
    "# Below is my way, far from ideal\n",
    "# Karger´s min cut algorithm\n",
    "\n",
    "def rc(G):\n",
    "    n = len(G.nodes())\n",
    "    N = int(n**2 * np.log(n))\n",
    "    min_num_edges = None\n",
    "    \n",
    "    for i in range(200):  # for N is too slow\n",
    "        nodes = G.nodes()\n",
    "        edges = G.edges()\n",
    "        while len(nodes) > 2:\n",
    "            r = random.randint(0,len(edges)-1)\n",
    "            cut_edge = edges.pop(r)\n",
    "            cut_node = cut_edge[1]\n",
    "            kept_node = cut_edge[0]\n",
    "            nodes = [x for x in nodes if x != cut_node]\n",
    "            temp = []\n",
    "            for edge in edges:\n",
    "                if edge[0] != cut_node and edge[1] != cut_node:\n",
    "                    temp.append(edge)\n",
    "                \n",
    "                elif edge[0] == cut_node and edge[1] != kept_node:\n",
    "                    temp.append((kept_node, edge[1]))\n",
    "                    \n",
    "                elif edge[1] == cut_node and edge[0] != kept_node:\n",
    "                    temp.append((kept_node, edge[0]))\n",
    "                    \n",
    "            edges = temp\n",
    "            \n",
    "        num_edges = len(edges)\n",
    "        if min_num_edges == None or min_num_edges > num_edges:\n",
    "            min_num_edges = num_edges\n",
    "    \n",
    "    return min_num_edges"
   ]
  },
  {
   "cell_type": "code",
   "execution_count": 14,
   "metadata": {},
   "outputs": [
    {
     "data": {
      "text/plain": [
       "2"
      ]
     },
     "execution_count": 14,
     "metadata": {},
     "output_type": "execute_result"
    }
   ],
   "source": [
    "rc(G_t)"
   ]
  },
  {
   "cell_type": "code",
   "execution_count": 16,
   "metadata": {},
   "outputs": [
    {
     "data": {
      "text/plain": [
       "17"
      ]
     },
     "execution_count": 16,
     "metadata": {},
     "output_type": "execute_result"
    }
   ],
   "source": [
    "rc(G1)"
   ]
  },
  {
   "cell_type": "code",
   "execution_count": null,
   "metadata": {
    "collapsed": true
   },
   "outputs": [],
   "source": [
    "# 2018-10-13"
   ]
  },
  {
   "cell_type": "markdown",
   "metadata": {
    "collapsed": true
   },
   "source": [
    "<img src='images/min_cut1.png' style=\"width:650px\">"
   ]
  },
  {
   "cell_type": "markdown",
   "metadata": {},
   "source": [
    "<img src='images/min_cut2.png' style=\"width:650px\">"
   ]
  },
  {
   "cell_type": "markdown",
   "metadata": {},
   "source": [
    "<img src='images/min_cut3.png' style=\"width:650px\">"
   ]
  },
  {
   "cell_type": "code",
   "execution_count": 10,
   "metadata": {
    "collapsed": true
   },
   "outputs": [],
   "source": [
    "import random\n",
    "import re\n",
    "import copy\n",
    "\n",
    "\n",
    "def load_graph(file_path):\n",
    "    with open(file_path) as f:\n",
    "        lines = f.readlines()\n",
    "    lines = map(lambda s: re.sub('\\s+', ' ', s).strip(), lines)\n",
    "    lines = map(lambda s: s.split(' '), lines)\n",
    "    g = {}\n",
    "    for line in lines:\n",
    "        g[int(line[0])] = list(map(lambda s: int(s), line[1:])) \n",
    "\n",
    "    return g\n",
    "\n",
    "def get_nodes(graph):\n",
    "    return [v for v in graph.keys()]\n",
    "\n",
    "def get_edges(graph):\n",
    "    edges_list = []\n",
    "    for v1 in graph.keys():\n",
    "        for v2 in graph[v1]:\n",
    "            edges_list.append((v1, v2))\n",
    "    return edges_list\n",
    "\n",
    "\n",
    "def contract_edges(g):\n",
    "    nodes = get_nodes(g)\n",
    "    num_of_nodes = len(nodes)\n",
    "    assert num_of_nodes >= 2, \"Stop contraction nodes less than or equal to 2\"\n",
    "    # get a random edge\n",
    "    v1 = nodes[random.randint(0, num_of_nodes - 1)]\n",
    "    k = random.randint(0, len(g[v1]) - 1)\n",
    "    v2 = g[v1].pop(k)\n",
    "    # extend v1 edges and remove v2 from g\n",
    "    g[v1].extend(g[v2])\n",
    "    del g[v2]\n",
    "    # replace occurence of v2 with v1\n",
    "    for p, q in g.items():\n",
    "        g[p] = [v1 if v == v2 else v for v in g[p]]\n",
    "    # remove v1 from itself\n",
    "    g[v1] = [v for v in g[v1] if v != v1]\n",
    "    return g\n",
    "\n",
    "\n",
    "def num_of_cuts(g):\n",
    "    while len(get_nodes(g)) > 2:\n",
    "        contract_edges(g)\n",
    "    key = list(g.keys())[0]\n",
    "    return len(g[key])\n",
    "\n",
    "\n",
    "def min_cuts(g):\n",
    "    min_ = 9999999\n",
    "    for _ in range(0, 10):\n",
    "        new_g = copy.deepcopy(g)\n",
    "        cuts = num_of_cuts(new_g)\n",
    "        if cuts < min_:\n",
    "            min_ = cuts\n",
    "    return min_"
   ]
  },
  {
   "cell_type": "code",
   "execution_count": 11,
   "metadata": {},
   "outputs": [],
   "source": [
    "test_graph = load_graph('datasets/cut_test.txt')"
   ]
  },
  {
   "cell_type": "code",
   "execution_count": 12,
   "metadata": {},
   "outputs": [
    {
     "data": {
      "text/plain": [
       "2"
      ]
     },
     "execution_count": 12,
     "metadata": {},
     "output_type": "execute_result"
    }
   ],
   "source": [
    "min_cuts(test_graph)"
   ]
  },
  {
   "cell_type": "code",
   "execution_count": 13,
   "metadata": {
    "collapsed": true
   },
   "outputs": [],
   "source": [
    "my_graph = load_graph('datasets/MinCut.txt')"
   ]
  },
  {
   "cell_type": "code",
   "execution_count": 14,
   "metadata": {},
   "outputs": [
    {
     "data": {
      "text/plain": [
       "17"
      ]
     },
     "execution_count": 14,
     "metadata": {},
     "output_type": "execute_result"
    }
   ],
   "source": [
    "min_cuts(my_graph)"
   ]
  },
  {
   "cell_type": "code",
   "execution_count": null,
   "metadata": {
    "collapsed": true
   },
   "outputs": [],
   "source": []
  }
 ],
 "metadata": {
  "kernelspec": {
   "display_name": "Python 3",
   "language": "python",
   "name": "python3"
  },
  "language_info": {
   "codemirror_mode": {
    "name": "ipython",
    "version": 3
   },
   "file_extension": ".py",
   "mimetype": "text/x-python",
   "name": "python",
   "nbconvert_exporter": "python",
   "pygments_lexer": "ipython3",
   "version": "3.6.2"
  }
 },
 "nbformat": 4,
 "nbformat_minor": 2
}

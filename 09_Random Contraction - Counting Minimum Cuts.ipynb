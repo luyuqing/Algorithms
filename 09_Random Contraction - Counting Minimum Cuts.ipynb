{
 "cells": [
  {
   "cell_type": "code",
   "execution_count": 1,
   "metadata": {
    "collapsed": true
   },
   "outputs": [],
   "source": [
    "import numpy as np\n",
    "import random\n",
    "import networkx as nx"
   ]
  },
  {
   "cell_type": "code",
   "execution_count": 2,
   "metadata": {
    "collapsed": true
   },
   "outputs": [],
   "source": [
    "G1 = nx.read_adjlist('datasets/MinCut.txt', nodetype=int) #create_using=nx.MultiGraph()   Now, nx.Graph() is default"
   ]
  },
  {
   "cell_type": "code",
   "execution_count": 3,
   "metadata": {},
   "outputs": [
    {
     "data": {
      "text/plain": [
       "2517"
      ]
     },
     "execution_count": 3,
     "metadata": {},
     "output_type": "execute_result"
    }
   ],
   "source": [
    "len(G1.edges())"
   ]
  },
  {
   "cell_type": "code",
   "execution_count": 4,
   "metadata": {},
   "outputs": [
    {
     "data": {
      "text/plain": [
       "200"
      ]
     },
     "execution_count": 4,
     "metadata": {},
     "output_type": "execute_result"
    }
   ],
   "source": [
    "len(G1.nodes())"
   ]
  },
  {
   "cell_type": "code",
   "execution_count": 5,
   "metadata": {},
   "outputs": [
    {
     "name": "stdout",
     "output_type": "stream",
     "text": [
      "1 2 3 4 7\r\n",
      "2 1 3 4\r\n",
      "3 1 2 4\r\n",
      "4 1 2 3 5\r\n",
      "5 4 6 7 8\r\n",
      "6 5 7 8\r\n",
      "7 1 5 6 8\r\n",
      "8 5 6 7"
     ]
    }
   ],
   "source": [
    "!cat datasets/cut_test.txt"
   ]
  },
  {
   "cell_type": "code",
   "execution_count": 6,
   "metadata": {
    "collapsed": true
   },
   "outputs": [],
   "source": [
    "G_t = nx.read_adjlist('datasets/cut_test.txt', nodetype=int)"
   ]
  },
  {
   "cell_type": "code",
   "execution_count": 7,
   "metadata": {},
   "outputs": [
    {
     "data": {
      "text/plain": [
       "[1, 2, 3, 4, 7, 5, 6, 8]"
      ]
     },
     "execution_count": 7,
     "metadata": {},
     "output_type": "execute_result"
    }
   ],
   "source": [
    "G_t.nodes()"
   ]
  },
  {
   "cell_type": "code",
   "execution_count": 8,
   "metadata": {},
   "outputs": [
    {
     "data": {
      "text/plain": [
       "[(1, 2),\n",
       " (1, 3),\n",
       " (1, 4),\n",
       " (1, 7),\n",
       " (2, 3),\n",
       " (2, 4),\n",
       " (3, 4),\n",
       " (4, 5),\n",
       " (7, 5),\n",
       " (7, 6),\n",
       " (7, 8),\n",
       " (5, 6),\n",
       " (5, 8),\n",
       " (6, 8)]"
      ]
     },
     "execution_count": 8,
     "metadata": {},
     "output_type": "execute_result"
    }
   ],
   "source": [
    "G_t.edges()"
   ]
  },
  {
   "cell_type": "code",
   "execution_count": 9,
   "metadata": {},
   "outputs": [
    {
     "data": {
      "text/plain": [
       "14"
      ]
     },
     "execution_count": 9,
     "metadata": {},
     "output_type": "execute_result"
    }
   ],
   "source": [
    "len(G_t.edges())"
   ]
  },
  {
   "cell_type": "code",
   "execution_count": 13,
   "metadata": {
    "collapsed": true
   },
   "outputs": [],
   "source": [
    "# Below is my way, far from ideal\n",
    "# Karger´s min cut algorithm\n",
    "\n",
    "def rc(G):\n",
    "    n = len(G.nodes())\n",
    "    N = int(n**2 * np.log(n))\n",
    "    min_num_edges = None\n",
    "    \n",
    "    for i in range(200):  # for N is too slow\n",
    "        nodes = G.nodes()\n",
    "        edges = G.edges()\n",
    "        while len(nodes) > 2:\n",
    "            r = random.randint(0,len(edges)-1)\n",
    "            cut_edge = edges.pop(r)\n",
    "            cut_node = cut_edge[1]\n",
    "            kept_node = cut_edge[0]\n",
    "            nodes = [x for x in nodes if x != cut_node]\n",
    "            temp = []\n",
    "            for edge in edges:\n",
    "                if edge[0] != cut_node and edge[1] != cut_node:\n",
    "                    temp.append(edge)\n",
    "                \n",
    "                elif edge[0] == cut_node and edge[1] != kept_node:\n",
    "                    temp.append((kept_node, edge[1]))\n",
    "                    \n",
    "                elif edge[1] == cut_node and edge[0] != kept_node:\n",
    "                    temp.append((kept_node, edge[0]))\n",
    "                    \n",
    "            edges = temp\n",
    "            \n",
    "        num_edges = len(edges)\n",
    "        if min_num_edges == None or min_num_edges > num_edges:\n",
    "            min_num_edges = num_edges\n",
    "    \n",
    "    return min_num_edges"
   ]
  },
  {
   "cell_type": "code",
   "execution_count": 14,
   "metadata": {},
   "outputs": [
    {
     "data": {
      "text/plain": [
       "2"
      ]
     },
     "execution_count": 14,
     "metadata": {},
     "output_type": "execute_result"
    }
   ],
   "source": [
    "rc(G_t)"
   ]
  },
  {
   "cell_type": "code",
   "execution_count": 16,
   "metadata": {},
   "outputs": [
    {
     "data": {
      "text/plain": [
       "17"
      ]
     },
     "execution_count": 16,
     "metadata": {},
     "output_type": "execute_result"
    }
   ],
   "source": [
    "rc(G1)"
   ]
  },
  {
   "cell_type": "code",
   "execution_count": null,
   "metadata": {
    "collapsed": true
   },
   "outputs": [],
   "source": []
  }
 ],
 "metadata": {
  "kernelspec": {
   "display_name": "Python 3",
   "language": "python",
   "name": "python3"
  },
  "language_info": {
   "codemirror_mode": {
    "name": "ipython",
    "version": 3
   },
   "file_extension": ".py",
   "mimetype": "text/x-python",
   "name": "python",
   "nbconvert_exporter": "python",
   "pygments_lexer": "ipython3",
   "version": "3.6.2"
  }
 },
 "nbformat": 4,
 "nbformat_minor": 2
}

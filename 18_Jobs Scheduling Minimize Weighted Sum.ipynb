{
 "cells": [
  {
   "cell_type": "code",
   "execution_count": 9,
   "metadata": {},
   "outputs": [],
   "source": [
    "with open('datasets/jobs.txt') as f:\n",
    "    content = [c.split('\\n')[0] for c in f.readlines()]\n",
    "\n",
    "num_of_jobs = int(content[0])\n",
    "# (job_weight, job_length)\n",
    "jobs = [(int(j.split(' ')[0]), int(j.split(' ')[-1])) for j in content[1:]] "
   ]
  },
  {
   "cell_type": "code",
   "execution_count": 50,
   "metadata": {
    "collapsed": true
   },
   "outputs": [],
   "source": [
    "# (weight, length)\n",
    "\n",
    "lst = [(8, 2), (3, 7), (1, 10)]"
   ]
  },
  {
   "cell_type": "code",
   "execution_count": 52,
   "metadata": {},
   "outputs": [
    {
     "data": {
      "text/plain": [
       "62"
      ]
     },
     "execution_count": 52,
     "metadata": {},
     "output_type": "execute_result"
    }
   ],
   "source": [
    "def calc_ws(lst):\n",
    "    cur_t = 0\n",
    "    ws = 0\n",
    "    for t in lst:\n",
    "        cur_t += t[1]\n",
    "        ws += (cur_t * t[0])\n",
    "        \n",
    "    return ws\n",
    "\n",
    "calc_ws(lst)"
   ]
  },
  {
   "cell_type": "code",
   "execution_count": 53,
   "metadata": {},
   "outputs": [
    {
     "data": {
      "text/plain": [
       "69119377652"
      ]
     },
     "execution_count": 53,
     "metadata": {},
     "output_type": "execute_result"
    }
   ],
   "source": [
    "# Your task in this problem is to run the greedy algorithm \n",
    "# that schedules jobs in decreasing order of the difference (weight - length). \n",
    "# if two jobs have equal difference (weight - length), \n",
    "# you should schedule the job with higher weight first.\n",
    "\n",
    "jobs.sort(key=lambda x: (x[0] - x[1], x[0]), reverse=True)\n",
    "calc_ws(jobs)"
   ]
  },
  {
   "cell_type": "code",
   "execution_count": 56,
   "metadata": {},
   "outputs": [
    {
     "data": {
      "text/plain": [
       "67311454237"
      ]
     },
     "execution_count": 56,
     "metadata": {},
     "output_type": "execute_result"
    }
   ],
   "source": [
    "# Your task now is to run the greedy algorithm that schedules jobs (optimally) \n",
    "# in decreasing order of the ratio (weight/length). \n",
    "# In this algorithm, it does not matter how you break ties. \n",
    "\n",
    "jobs.sort(key=lambda t: t[1]/t[0])\n",
    "calc_ws(jobs)"
   ]
  },
  {
   "cell_type": "code",
   "execution_count": null,
   "metadata": {
    "collapsed": true
   },
   "outputs": [],
   "source": []
  }
 ],
 "metadata": {
  "kernelspec": {
   "display_name": "Python 3",
   "language": "python",
   "name": "python3"
  },
  "language_info": {
   "codemirror_mode": {
    "name": "ipython",
    "version": 3
   },
   "file_extension": ".py",
   "mimetype": "text/x-python",
   "name": "python",
   "nbconvert_exporter": "python",
   "pygments_lexer": "ipython3",
   "version": "3.6.2"
  }
 },
 "nbformat": 4,
 "nbformat_minor": 2
}

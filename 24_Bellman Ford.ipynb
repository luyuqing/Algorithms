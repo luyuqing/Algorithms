{
 "cells": [
  {
   "cell_type": "code",
   "execution_count": null,
   "metadata": {},
   "outputs": [],
   "source": [
    "# a graph with n vertices, start from s, end to v\n",
    "# If we assume the optimal shortest distance s->v solution for num_of_edges <= i (0-n) is P(v)\n",
    "# and P'(v) is the optimal solution for <=i-1\n",
    "# then if edges of P < i, P == P'\n",
    "# elif edges of P(v) = i, the last vertex is v, w is the vertex before reaching to v\n",
    "# P(w) must be the optimal solution for s->w for edges<=i-1\n",
    "\n",
    "# Unlike Dijkstra, Bellman Ford also handles negative values\n",
    "# O(mn^2) relevant to indegree of vertice\n"
   ]
  },
  {
   "cell_type": "markdown",
   "metadata": {},
   "source": [
    "### If assume no negative cycle, can stop early when for every v, d(i,v) = d(i-1,v)\n",
    "<br>as for every v, d(i,v) = d(i-1,v)\n",
    "<br>so d(i,v) = d(i-1,v); d(i,w) = d(i-1,w)\n",
    "<br>so d(i-1,v) <= d(i-1,w) + d(wv)\n",
    "<br>as d(i+1,v) = min(d(i,v), d(i,w)+d(wv))\n",
    "<br>which is also min(d(i-1,v), d(i-1,w)+d(wv))\n",
    "<br>so d(i,v) must <= d(i,w)+d(wv)\n",
    "<br>so d(i+1,v) = d(i,v) = d(i-1,v)\n",
    "<br>依此类推，最短距路不会再improve,全都是d(i-1,v)\n",
    "\n",
    "### If and only if for every v in graph with n nodes, if d(n, v) = d(n-1,v) then graph has no negative cycle\n",
    "<br>1st => proof: If there is a d(n,v) != d(n-1,v) then must have negative cycle\n",
    "<br>as can not pass a node twice, d(n,v) here has n edges, there must be a cycle, as a positive cycle can be removed, then must be a negative cycle.\n",
    "<br>2nd <= proof: If for every node v, d(n,v) = d(n-1,v), then no negative cycle\n",
    "<br>https://algo.epfl.ch/_media/en/courses/2011-2012/algorithmique-cycles-2011a.pdf\n",
    "<br>\"bellman_ford_negative_cycle_proof.pdf\""
   ]
  },
  {
   "cell_type": "code",
   "execution_count": null,
   "metadata": {},
   "outputs": [],
   "source": []
  },
  {
   "cell_type": "code",
   "execution_count": 2,
   "metadata": {},
   "outputs": [],
   "source": [
    "import re\n",
    "from collections import defaultdict\n",
    "\n",
    "def file_to_graph(filename):  # head\n",
    "    with open(filename) as f:\n",
    "        content = f.readlines()    \n",
    "    pattern = re.compile('\\d+')\n",
    "    matches = [re.findall(pattern, e) for e in content]  \n",
    "    # first line is number of nodes and edges\n",
    "    num_of_nodes, num_of_edges = [int(x) for x in matches[0]]\n",
    "    integers = [[int(x) for x in n] for n in matches[1:]]\n",
    "    graph = defaultdict(list)\n",
    "    for x in integers:\n",
    "        graph[x[0]].append({'head': x[1], 'length': x[2]})\n",
    "    return graph\n",
    "\n",
    "def file_to_graph_(filename):  # tail\n",
    "    with open(filename) as f:\n",
    "        content = f.readlines()    \n",
    "    pattern = re.compile('\\d+')\n",
    "    matches = [re.findall(pattern, e) for e in content]  \n",
    "    # first line is number of nodes and edges\n",
    "    num_of_nodes, num_of_edges = [int(x) for x in matches[0]]\n",
    "    integers = [[int(x) for x in n] for n in matches[1:]]\n",
    "    graph = defaultdict(list)\n",
    "    for x in integers:\n",
    "        graph[x[1]].append({'tail': x[0], 'length': x[2]})\n",
    "    return graph"
   ]
  },
  {
   "cell_type": "code",
   "execution_count": 3,
   "metadata": {},
   "outputs": [],
   "source": [
    "graph = {\n",
    "    'A': [],\n",
    "    'B': [{'tail': 'A', 'length': 1}],\n",
    "    'C': [{'tail': 'A', 'length': 3}, {'tail': 'B', 'length': 1}],\n",
    "    'D': [{'tail': 'C', 'length': 1}, {'tail': 'B', 'length': 5}],\n",
    "    'E': [{'tail': 'C', 'length': 2}, {'tail': 'D', 'length': 2}]\n",
    "}"
   ]
  },
  {
   "cell_type": "code",
   "execution_count": 4,
   "metadata": {},
   "outputs": [],
   "source": [
    "import numpy as np\n",
    "import pandas as pd\n",
    "\n",
    "def bellman(graph, s):  # s is source\n",
    "    nodes = list(graph.keys())\n",
    "    n = len(nodes)\n",
    "    df = pd.DataFrame(np.full((n+1, n), np.inf), columns=nodes)\n",
    "    df.loc[:, s] = 0\n",
    "    nodes.remove(s)\n",
    "    for i in range(1, n+1):\n",
    "        for v in nodes:\n",
    "            pre_nodes = [x['tail'] for x in graph[v]]\n",
    "            pre_length = [x['length'] for x in graph[v]]\n",
    "            zip_ = list(zip(pre_nodes, pre_length))\n",
    "            min_pre = np.inf\n",
    "            if zip_:\n",
    "                for n in zip_:\n",
    "                    if df.loc[i-1, n[0]] + n[1]< min_pre:\n",
    "                        min_pre = df.loc[i-1, n[0]] + n[1]\n",
    "            df.loc[i, v] = min(df.loc[i-1, v], min_pre)\n",
    "    \n",
    "    assert list(df.iloc[-1, :].values) == list(df.iloc[-2, :].values)  # no negative cycle\n",
    "    return df.iloc[-1, :]  # shortest distance from source to each node\n"
   ]
  },
  {
   "cell_type": "code",
   "execution_count": 5,
   "metadata": {},
   "outputs": [
    {
     "data": {
      "text/plain": [
       "A    0.0\n",
       "B    1.0\n",
       "C    2.0\n",
       "D    3.0\n",
       "E    4.0\n",
       "Name: 5, dtype: float64"
      ]
     },
     "execution_count": 5,
     "metadata": {},
     "output_type": "execute_result"
    }
   ],
   "source": [
    "bellman(graph, 'A')\n"
   ]
  },
  {
   "cell_type": "code",
   "execution_count": null,
   "metadata": {},
   "outputs": [],
   "source": []
  }
 ],
 "metadata": {
  "kernelspec": {
   "display_name": "Python 3",
   "language": "python",
   "name": "python3"
  },
  "language_info": {
   "codemirror_mode": {
    "name": "ipython",
    "version": 3
   },
   "file_extension": ".py",
   "mimetype": "text/x-python",
   "name": "python",
   "nbconvert_exporter": "python",
   "pygments_lexer": "ipython3",
   "version": "3.7.0"
  }
 },
 "nbformat": 4,
 "nbformat_minor": 2
}

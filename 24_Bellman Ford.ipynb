{
 "cells": [
  {
   "cell_type": "code",
   "execution_count": null,
   "metadata": {},
   "outputs": [],
   "source": [
    "# a graph with n vertices, start from s, end to v\n",
    "# If we assume the optimal shortest distance s->v solution for num_of_edges <= i (0-n) is P(v)\n",
    "# and P'(v) is the optimal solution for <=i-1\n",
    "# then if edges of P < i, P == P'\n",
    "# elif edges of P(v) = i, the last vertex is v, w is the vertex before reaching to v\n",
    "# P(w) must be the optimal solution for s->w for edges<=i-1\n",
    "\n",
    "# O(mn) relevant to indegree of vertice"
   ]
  },
  {
   "cell_type": "markdown",
   "metadata": {},
   "source": [
    "\n",
    "All shortest paths:\n",
    "[ [ 0, 2, 1, 0, 2 ],\n",
    "  [ 0, 0, -1, -2, 0 ],\n",
    "  [ 1, 3, 0, 1, 3 ],\n",
    "  [ 2, 4, 1, 0, 2 ],\n",
    "  [ 0, 2, -1, 0, 0 ] ]\n",
    "\n",
    "Shortest shortest path: -2"
   ]
  },
  {
   "cell_type": "code",
   "execution_count": 17,
   "metadata": {},
   "outputs": [],
   "source": [
    "import re\n",
    "from collections import defaultdict\n",
    "\n",
    "def file_to_graph(filename):\n",
    "    with open(filename) as f:\n",
    "        content = f.readlines()    \n",
    "    pattern = re.compile('\\d+')\n",
    "    matches = [re.findall(pattern, e) for e in content]  \n",
    "    # first line is number of nodes and edges\n",
    "    num_of_nodes, num_of_edges = [int(x) for x in matches[0]]\n",
    "    integers = [[int(x) for x in n] for n in matches[1:]]\n",
    "    graph = defaultdict(list)\n",
    "    for x in integers:\n",
    "        graph[x[0]].append({'head': x[1], 'weight': x[2]})\n",
    "    \n",
    "    return graph"
   ]
  },
  {
   "cell_type": "code",
   "execution_count": 19,
   "metadata": {},
   "outputs": [
    {
     "data": {
      "text/plain": [
       "defaultdict(list,\n",
       "            {1: [{'head': 2, 'weight': 2}, {'head': 5, 'weight': 3}],\n",
       "             2: [{'head': 4, 'weight': 2}],\n",
       "             3: [{'head': 1, 'weight': 1}],\n",
       "             4: [{'head': 1, 'weight': 4},\n",
       "              {'head': 3, 'weight': 1},\n",
       "              {'head': 5, 'weight': 2}],\n",
       "             5: [{'head': 3, 'weight': 1}]})"
      ]
     },
     "execution_count": 19,
     "metadata": {},
     "output_type": "execute_result"
    }
   ],
   "source": [
    "graph = file_to_graph('datasets/bellman_ford_test.txt')\n",
    "graph"
   ]
  },
  {
   "cell_type": "code",
   "execution_count": 61,
   "metadata": {},
   "outputs": [],
   "source": [
    "import numpy as np\n",
    "import pandas as pd\n",
    "\n",
    "def bellman(graph, s):  # s is source\n",
    "    nodes = graph.keys()\n",
    "    n = len(nodes)\n",
    "    df = pd.DataFrame(np.full((n, n), np.inf), columns=nodes)\n",
    "    df[s] = 0\n",
    "    return df\n",
    "        \n",
    "            "
   ]
  },
  {
   "cell_type": "code",
   "execution_count": 64,
   "metadata": {},
   "outputs": [
    {
     "data": {
      "text/html": [
       "<div>\n",
       "<style scoped>\n",
       "    .dataframe tbody tr th:only-of-type {\n",
       "        vertical-align: middle;\n",
       "    }\n",
       "\n",
       "    .dataframe tbody tr th {\n",
       "        vertical-align: top;\n",
       "    }\n",
       "\n",
       "    .dataframe thead th {\n",
       "        text-align: right;\n",
       "    }\n",
       "</style>\n",
       "<table border=\"1\" class=\"dataframe\">\n",
       "  <thead>\n",
       "    <tr style=\"text-align: right;\">\n",
       "      <th></th>\n",
       "      <th>1</th>\n",
       "      <th>2</th>\n",
       "      <th>3</th>\n",
       "      <th>4</th>\n",
       "      <th>5</th>\n",
       "    </tr>\n",
       "  </thead>\n",
       "  <tbody>\n",
       "    <tr>\n",
       "      <th>0</th>\n",
       "      <td>0</td>\n",
       "      <td>inf</td>\n",
       "      <td>inf</td>\n",
       "      <td>inf</td>\n",
       "      <td>inf</td>\n",
       "    </tr>\n",
       "    <tr>\n",
       "      <th>1</th>\n",
       "      <td>0</td>\n",
       "      <td>inf</td>\n",
       "      <td>inf</td>\n",
       "      <td>inf</td>\n",
       "      <td>inf</td>\n",
       "    </tr>\n",
       "    <tr>\n",
       "      <th>2</th>\n",
       "      <td>0</td>\n",
       "      <td>inf</td>\n",
       "      <td>inf</td>\n",
       "      <td>inf</td>\n",
       "      <td>inf</td>\n",
       "    </tr>\n",
       "    <tr>\n",
       "      <th>3</th>\n",
       "      <td>0</td>\n",
       "      <td>inf</td>\n",
       "      <td>inf</td>\n",
       "      <td>inf</td>\n",
       "      <td>inf</td>\n",
       "    </tr>\n",
       "    <tr>\n",
       "      <th>4</th>\n",
       "      <td>0</td>\n",
       "      <td>inf</td>\n",
       "      <td>inf</td>\n",
       "      <td>inf</td>\n",
       "      <td>inf</td>\n",
       "    </tr>\n",
       "  </tbody>\n",
       "</table>\n",
       "</div>"
      ],
      "text/plain": [
       "   1    2    3    4    5\n",
       "0  0  inf  inf  inf  inf\n",
       "1  0  inf  inf  inf  inf\n",
       "2  0  inf  inf  inf  inf\n",
       "3  0  inf  inf  inf  inf\n",
       "4  0  inf  inf  inf  inf"
      ]
     },
     "execution_count": 64,
     "metadata": {},
     "output_type": "execute_result"
    }
   ],
   "source": [
    "df = bellman(graph, 1)\n",
    "df"
   ]
  },
  {
   "cell_type": "code",
   "execution_count": null,
   "metadata": {},
   "outputs": [],
   "source": []
  }
 ],
 "metadata": {
  "kernelspec": {
   "display_name": "Python 3",
   "language": "python",
   "name": "python3"
  },
  "language_info": {
   "codemirror_mode": {
    "name": "ipython",
    "version": 3
   },
   "file_extension": ".py",
   "mimetype": "text/x-python",
   "name": "python",
   "nbconvert_exporter": "python",
   "pygments_lexer": "ipython3",
   "version": "3.7.0"
  }
 },
 "nbformat": 4,
 "nbformat_minor": 2
}

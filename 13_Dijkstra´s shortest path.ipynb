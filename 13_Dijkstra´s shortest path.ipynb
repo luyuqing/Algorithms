{
 "cells": [
  {
   "cell_type": "markdown",
   "metadata": {},
   "source": [
    "## Heap sort"
   ]
  },
  {
   "cell_type": "code",
   "execution_count": 1,
   "metadata": {
    "collapsed": true
   },
   "outputs": [],
   "source": [
    "import heapq"
   ]
  },
  {
   "cell_type": "code",
   "execution_count": 2,
   "metadata": {
    "collapsed": true
   },
   "outputs": [],
   "source": [
    "def heapsort(iterable):\n",
    "    #h = []\n",
    "    #for v in iterable:\n",
    "        #heapq.heappush(h, v)\n",
    "    \n",
    "    heapq.heapify(iterable)\n",
    "    \n",
    "    return [heapq.heappop(iterable) for i in range(len(iterable))]"
   ]
  },
  {
   "cell_type": "code",
   "execution_count": 3,
   "metadata": {},
   "outputs": [
    {
     "data": {
      "text/plain": [
       "[0, 1, 2, 3, 4, 5, 6, 7, 8, 9]"
      ]
     },
     "execution_count": 3,
     "metadata": {},
     "output_type": "execute_result"
    }
   ],
   "source": [
    "heapsort([1, 3, 5, 7, 9, 2, 4, 6, 8, 0])"
   ]
  },
  {
   "cell_type": "code",
   "execution_count": 4,
   "metadata": {
    "collapsed": true
   },
   "outputs": [],
   "source": [
    "h = [1, 3, 5, 7, 9, 2, 4, 6, 8, 0]"
   ]
  },
  {
   "cell_type": "code",
   "execution_count": 5,
   "metadata": {
    "collapsed": true
   },
   "outputs": [],
   "source": [
    "heapq.heapify(h)"
   ]
  },
  {
   "cell_type": "code",
   "execution_count": 6,
   "metadata": {},
   "outputs": [
    {
     "data": {
      "text/plain": [
       "[0, 1, 2, 6, 3, 5, 4, 7, 8, 9]"
      ]
     },
     "execution_count": 6,
     "metadata": {},
     "output_type": "execute_result"
    }
   ],
   "source": [
    "h"
   ]
  },
  {
   "cell_type": "code",
   "execution_count": 7,
   "metadata": {
    "collapsed": true
   },
   "outputs": [],
   "source": [
    "p = heapq.heappushpop(h, 13)"
   ]
  },
  {
   "cell_type": "code",
   "execution_count": 8,
   "metadata": {},
   "outputs": [
    {
     "data": {
      "text/plain": [
       "(0, [1, 3, 2, 6, 9, 5, 4, 7, 8, 13])"
      ]
     },
     "execution_count": 8,
     "metadata": {},
     "output_type": "execute_result"
    }
   ],
   "source": [
    "p, h"
   ]
  },
  {
   "cell_type": "code",
   "execution_count": 9,
   "metadata": {
    "collapsed": true
   },
   "outputs": [],
   "source": [
    "p = heapq.heapreplace(h, 13)"
   ]
  },
  {
   "cell_type": "code",
   "execution_count": 10,
   "metadata": {},
   "outputs": [
    {
     "data": {
      "text/plain": [
       "(1, [2, 3, 4, 6, 9, 5, 13, 7, 8, 13])"
      ]
     },
     "execution_count": 10,
     "metadata": {},
     "output_type": "execute_result"
    }
   ],
   "source": [
    "p, h"
   ]
  },
  {
   "cell_type": "markdown",
   "metadata": {},
   "source": [
    "## Dijkstra's algorithm for shortest path"
   ]
  },
  {
   "cell_type": "code",
   "execution_count": 17,
   "metadata": {
    "collapsed": true
   },
   "outputs": [],
   "source": [
    "edges_test = [\n",
    "        (\"A\", \"B\", 7),\n",
    "        (\"A\", \"D\", 5),\n",
    "        (\"B\", \"C\", 8),\n",
    "        (\"B\", \"D\", 9),\n",
    "        (\"B\", \"E\", 7),\n",
    "        (\"C\", \"E\", 5),\n",
    "        (\"D\", \"E\", 15),\n",
    "        (\"D\", \"F\", 6),\n",
    "        (\"E\", \"F\", 8),\n",
    "        (\"E\", \"G\", 9),\n",
    "        (\"F\", \"G\", 11)\n",
    "    ]"
   ]
  },
  {
   "cell_type": "code",
   "execution_count": 18,
   "metadata": {
    "collapsed": true
   },
   "outputs": [],
   "source": [
    "from collections import defaultdict\n",
    "from heapq import heappop, heappush"
   ]
  },
  {
   "cell_type": "code",
   "execution_count": 102,
   "metadata": {
    "collapsed": true
   },
   "outputs": [],
   "source": [
    "graph_test = defaultdict(dict)\n",
    "for e in edges_test:\n",
    "    graph_test[e[0]][e[1]] = e[2] "
   ]
  },
  {
   "cell_type": "code",
   "execution_count": 103,
   "metadata": {},
   "outputs": [
    {
     "data": {
      "text/plain": [
       "defaultdict(dict,\n",
       "            {'A': {'B': 7, 'D': 5},\n",
       "             'B': {'C': 8, 'D': 9, 'E': 7},\n",
       "             'C': {'E': 5},\n",
       "             'D': {'E': 15, 'F': 6},\n",
       "             'E': {'F': 8, 'G': 9},\n",
       "             'F': {'G': 11}})"
      ]
     },
     "execution_count": 103,
     "metadata": {},
     "output_type": "execute_result"
    }
   ],
   "source": [
    "graph_test"
   ]
  },
  {
   "cell_type": "code",
   "execution_count": 104,
   "metadata": {
    "collapsed": true
   },
   "outputs": [],
   "source": [
    "def dijkstra(g, s): \n",
    "    h = [(0, s)]\n",
    "    dist = dict()\n",
    "    \n",
    "    while h:\n",
    "        d, v = heappop(h)\n",
    "        if v not in dist:\n",
    "            dist[v] = d\n",
    "            \n",
    "            for n, e in g[v].items(): # unnecessary for if n not in dist, because it will be done with previous code\n",
    "                heappush(h, (e+d, n))\n",
    "    \n",
    "    return dist"
   ]
  },
  {
   "cell_type": "code",
   "execution_count": 105,
   "metadata": {},
   "outputs": [
    {
     "data": {
      "text/plain": [
       "{'A': 0, 'B': 7, 'C': 15, 'D': 5, 'E': 14, 'F': 11, 'G': 22}"
      ]
     },
     "execution_count": 105,
     "metadata": {},
     "output_type": "execute_result"
    }
   ],
   "source": [
    "dijkstra(graph_test, 'A')"
   ]
  },
  {
   "cell_type": "code",
   "execution_count": 106,
   "metadata": {
    "collapsed": true
   },
   "outputs": [],
   "source": [
    "def dijkstra_(g, s, t): \n",
    "    h = [(0, s)]\n",
    "    dist = dict()\n",
    "    \n",
    "    while h:\n",
    "        d, v = heappop(h)\n",
    "        if v not in dist:\n",
    "            dist[v] = d\n",
    "            if v == t:\n",
    "                return (v, d)\n",
    "            \n",
    "            for n, e in g[v].items(): # unnecessary for if n not in dist, because it will be done with above code\n",
    "                heappush(h, (e+d, n))\n",
    "    \n",
    "    return (t, 1000000)"
   ]
  },
  {
   "cell_type": "code",
   "execution_count": 107,
   "metadata": {},
   "outputs": [
    {
     "data": {
      "text/plain": [
       "('F', 11)"
      ]
     },
     "execution_count": 107,
     "metadata": {},
     "output_type": "execute_result"
    }
   ],
   "source": [
    "dijkstra_(graph_test, 'A', 'F')"
   ]
  },
  {
   "cell_type": "code",
   "execution_count": 95,
   "metadata": {},
   "outputs": [
    {
     "data": {
      "text/plain": [
       "[['1', '2,3', '5,5', '8,4'],\n",
       " [''],\n",
       " ['2', '5,5', '6,7', '1,3', '3,2'],\n",
       " [''],\n",
       " ['3', '2,2', '6,2', '7,6', '4,3'],\n",
       " [''],\n",
       " ['4', '3,3', '7,7', '11,2'],\n",
       " [''],\n",
       " ['5', '1,5', '2,5', '8,7', '6,4'],\n",
       " [''],\n",
       " ['6', '5,4', '2,7', '3,2', '7,4', '10,3', '9,4', '8,5'],\n",
       " [''],\n",
       " ['7', '6,4', '3,6', '4,7', '11,6', '10,4'],\n",
       " [''],\n",
       " ['8', '1,4', '5,7', '6,5', '9,2'],\n",
       " [''],\n",
       " ['9', '8,2', '6,4', '10,6'],\n",
       " [''],\n",
       " ['10', '9,6', '6,3', '7,4', '11,5'],\n",
       " [''],\n",
       " ['11', '10,5', '7,6', '4,2']]"
      ]
     },
     "execution_count": 95,
     "metadata": {},
     "output_type": "execute_result"
    }
   ],
   "source": [
    "with open('datasets/Dijkstra_test2.txt', 'r') as f:\n",
    "    line = [line.strip() for line in f]\n",
    "    line = [line.split(' ') for line in line]\n",
    "\n",
    "line"
   ]
  },
  {
   "cell_type": "code",
   "execution_count": 96,
   "metadata": {},
   "outputs": [
    {
     "data": {
      "text/plain": [
       "[['1', '2,3', '5,5', '8,4'],\n",
       " ['2', '5,5', '6,7', '1,3', '3,2'],\n",
       " ['3', '2,2', '6,2', '7,6', '4,3'],\n",
       " ['4', '3,3', '7,7', '11,2'],\n",
       " ['5', '1,5', '2,5', '8,7', '6,4'],\n",
       " ['6', '5,4', '2,7', '3,2', '7,4', '10,3', '9,4', '8,5'],\n",
       " ['7', '6,4', '3,6', '4,7', '11,6', '10,4'],\n",
       " ['8', '1,4', '5,7', '6,5', '9,2'],\n",
       " ['9', '8,2', '6,4', '10,6'],\n",
       " ['10', '9,6', '6,3', '7,4', '11,5'],\n",
       " ['11', '10,5', '7,6', '4,2']]"
      ]
     },
     "execution_count": 96,
     "metadata": {},
     "output_type": "execute_result"
    }
   ],
   "source": [
    "line = [x for x in line if x != ['']]\n",
    "line"
   ]
  },
  {
   "cell_type": "code",
   "execution_count": 97,
   "metadata": {},
   "outputs": [
    {
     "data": {
      "text/plain": [
       "{1: ['2,3', '5,5', '8,4'],\n",
       " 2: ['5,5', '6,7', '1,3', '3,2'],\n",
       " 3: ['2,2', '6,2', '7,6', '4,3'],\n",
       " 4: ['3,3', '7,7', '11,2'],\n",
       " 5: ['1,5', '2,5', '8,7', '6,4'],\n",
       " 6: ['5,4', '2,7', '3,2', '7,4', '10,3', '9,4', '8,5'],\n",
       " 7: ['6,4', '3,6', '4,7', '11,6', '10,4'],\n",
       " 8: ['1,4', '5,7', '6,5', '9,2'],\n",
       " 9: ['8,2', '6,4', '10,6'],\n",
       " 10: ['9,6', '6,3', '7,4', '11,5'],\n",
       " 11: ['10,5', '7,6', '4,2']}"
      ]
     },
     "execution_count": 97,
     "metadata": {},
     "output_type": "execute_result"
    }
   ],
   "source": [
    "graph_t = dict()\n",
    "\n",
    "for l in line:\n",
    "    graph_t[int(l[0])] = l[1:]   \n",
    "\n",
    "graph_t"
   ]
  },
  {
   "cell_type": "code",
   "execution_count": 98,
   "metadata": {},
   "outputs": [
    {
     "data": {
      "text/plain": [
       "defaultdict(dict,\n",
       "            {1: {2: 3, 5: 5, 8: 4},\n",
       "             2: {1: 3, 3: 2, 5: 5, 6: 7},\n",
       "             3: {2: 2, 4: 3, 6: 2, 7: 6},\n",
       "             4: {3: 3, 7: 7, 11: 2},\n",
       "             5: {1: 5, 2: 5, 6: 4, 8: 7},\n",
       "             6: {2: 7, 3: 2, 5: 4, 7: 4, 8: 5, 9: 4, 10: 3},\n",
       "             7: {3: 6, 4: 7, 6: 4, 10: 4, 11: 6},\n",
       "             8: {1: 4, 5: 7, 6: 5, 9: 2},\n",
       "             9: {6: 4, 8: 2, 10: 6},\n",
       "             10: {6: 3, 7: 4, 9: 6, 11: 5},\n",
       "             11: {4: 2, 7: 6, 10: 5}})"
      ]
     },
     "execution_count": 98,
     "metadata": {},
     "output_type": "execute_result"
    }
   ],
   "source": [
    "graph_test = defaultdict(dict)\n",
    "\n",
    "for key, value in graph_t.items():\n",
    "    new_value = [v.split(',') for v in value]\n",
    "    for n in new_value:\n",
    "        graph_test[key][int(n[0])] = int(n[1])\n",
    "\n",
    "graph_test"
   ]
  },
  {
   "cell_type": "code",
   "execution_count": 99,
   "metadata": {},
   "outputs": [
    {
     "data": {
      "text/plain": [
       "{1: 0, 2: 3, 3: 5, 4: 8, 5: 5, 6: 7, 7: 11, 8: 4, 9: 6, 10: 10, 11: 10}"
      ]
     },
     "execution_count": 99,
     "metadata": {},
     "output_type": "execute_result"
    }
   ],
   "source": [
    "dijkstra(graph_test, 1)"
   ]
  },
  {
   "cell_type": "code",
   "execution_count": 36,
   "metadata": {
    "collapsed": true
   },
   "outputs": [],
   "source": [
    "with open('datasets/Dijkstra.txt', 'r') as f:\n",
    "    line = [line.strip() for line in f]\n",
    "    line = [line.split('\\t') for line in line]"
   ]
  },
  {
   "cell_type": "code",
   "execution_count": 62,
   "metadata": {
    "collapsed": true
   },
   "outputs": [],
   "source": [
    "graph = dict()\n",
    "\n",
    "for l in line:\n",
    "    graph[int(l[0])] = l[1:]    "
   ]
  },
  {
   "cell_type": "code",
   "execution_count": 63,
   "metadata": {
    "collapsed": true
   },
   "outputs": [],
   "source": [
    "graph_ = defaultdict(dict)\n",
    "\n",
    "for key, value in graph.items():\n",
    "    new_value = [v.split(',') for v in value]\n",
    "    for n in new_value:\n",
    "        graph_[key][int(n[0])] = int(n[1])"
   ]
  },
  {
   "cell_type": "code",
   "execution_count": 110,
   "metadata": {},
   "outputs": [
    {
     "data": {
      "text/plain": [
       "[(7, 2599),\n",
       " (37, 2610),\n",
       " (59, 2947),\n",
       " (82, 2052),\n",
       " (99, 2367),\n",
       " (115, 2399),\n",
       " (133, 2029),\n",
       " (165, 2442),\n",
       " (188, 2505),\n",
       " (197, 3068)]"
      ]
     },
     "execution_count": 110,
     "metadata": {},
     "output_type": "execute_result"
    }
   ],
   "source": [
    "[dijkstra_(graph_, 1, x) for x in [7,37,59,82,99,115,133,165,188,197]]"
   ]
  },
  {
   "cell_type": "code",
   "execution_count": null,
   "metadata": {
    "collapsed": true
   },
   "outputs": [],
   "source": []
  },
  {
   "cell_type": "code",
   "execution_count": 4,
   "metadata": {
    "collapsed": true
   },
   "outputs": [],
   "source": [
    "# 2018-10-20\n",
    "\n",
    "from heapq import heappush, heappop"
   ]
  },
  {
   "cell_type": "code",
   "execution_count": 40,
   "metadata": {},
   "outputs": [],
   "source": [
    "test_graph = {'A': {'B': 7, 'D': 5},\n",
    "              'B': {'C': 8, 'D': 9, 'E': 7},\n",
    "              'C': {'E': 5},\n",
    "              'D': {'E': 15, 'F': 6},\n",
    "              'E': {'F': 8, 'G': 9},\n",
    "              'F': {'G': 11},\n",
    "              'G': {}}"
   ]
  },
  {
   "cell_type": "code",
   "execution_count": 52,
   "metadata": {
    "collapsed": true
   },
   "outputs": [],
   "source": [
    "# compute from the source node, to every other node\n",
    "# the shortest distance and bookkeep path\n",
    "\n",
    "def dijkstra(g, s):\n",
    "    h = [(0, s)]\n",
    "    dist = {}\n",
    "    \n",
    "    while h:\n",
    "        d, *nodes = heappop(h)\n",
    "        node = nodes[-1]\n",
    "        if node not in dist:           \n",
    "            dist[node] = (d, nodes) # shortest distance and path\n",
    "            for v, el in g[node].items():  # el is edge_length\n",
    "                if v not in dist:\n",
    "                    # make a copy of nodes, as list is mutuable object\n",
    "                    new_nodes = nodes[:]\n",
    "                    new_nodes.append(v)\n",
    "                    heappush(h, (d+el, *new_nodes))\n",
    "    return dist"
   ]
  },
  {
   "cell_type": "code",
   "execution_count": 53,
   "metadata": {},
   "outputs": [
    {
     "data": {
      "text/plain": [
       "{'A': (0, ['A']),\n",
       " 'B': (7, ['A', 'B']),\n",
       " 'C': (15, ['A', 'B', 'C']),\n",
       " 'D': (5, ['A', 'D']),\n",
       " 'E': (14, ['A', 'B', 'E']),\n",
       " 'F': (11, ['A', 'D', 'F']),\n",
       " 'G': (22, ['A', 'D', 'F', 'G'])}"
      ]
     },
     "execution_count": 53,
     "metadata": {},
     "output_type": "execute_result"
    }
   ],
   "source": [
    "dijkstra(test_graph, 'A')"
   ]
  },
  {
   "cell_type": "code",
   "execution_count": null,
   "metadata": {
    "collapsed": true
   },
   "outputs": [],
   "source": []
  }
 ],
 "metadata": {
  "kernelspec": {
   "display_name": "Python 3",
   "language": "python",
   "name": "python3"
  },
  "language_info": {
   "codemirror_mode": {
    "name": "ipython",
    "version": 3
   },
   "file_extension": ".py",
   "mimetype": "text/x-python",
   "name": "python",
   "nbconvert_exporter": "python",
   "pygments_lexer": "ipython3",
   "version": "3.6.2"
  }
 },
 "nbformat": 4,
 "nbformat_minor": 2
}

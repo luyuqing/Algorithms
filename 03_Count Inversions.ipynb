{
 "cells": [
  {
   "cell_type": "code",
   "execution_count": 1,
   "metadata": {
    "collapsed": true
   },
   "outputs": [],
   "source": [
    "# calculate the number of (i, j) pair in an arry where arr[i] < arr[j]\n",
    "# useful for collaborative filtering, measure two array´s similarity\n",
    "# this solution piggyback on merge sort, therefore is sort_and_count_inversions\n",
    "\n",
    "def count_split_inv(arr1, arr2): # both arrays are sorted in advance\n",
    "    out = []\n",
    "    cnt_split = 0\n",
    "    i = 0\n",
    "    j = 0\n",
    "    while i < len(arr1) and j < len(arr2):\n",
    "        if arr1[i] < arr2[j]:\n",
    "            out.append(arr1[i])\n",
    "            i += 1\n",
    "        elif arr1[i] > arr2[j]:\n",
    "            out.append(arr2[j])\n",
    "            j += 1\n",
    "            cnt_split += len(arr1) - i\n",
    "    \n",
    "    while i < len(arr1):\n",
    "        out.append(arr1[i])\n",
    "        i += 1\n",
    "    \n",
    "    while j < len(arr2):\n",
    "        out.append(arr2[j])\n",
    "        j += 1\n",
    "        \n",
    "    return (out, cnt_split)\n",
    "\n",
    "\n",
    "def count_inv(arr):\n",
    "    if len(arr) == 1:\n",
    "        out = arr\n",
    "        cnt = 0\n",
    "        return (out, cnt)\n",
    "    \n",
    "    elif len(arr) > 1:\n",
    "        mid = len(arr) // 2\n",
    "        (out_l, cnt_l) = count_inv(arr[:mid])\n",
    "        (out_r, cnt_r) = count_inv(arr[mid:])\n",
    "        (out, cnt_split) = count_split_inv(out_l, out_r)\n",
    "        \n",
    "        cnt_total = cnt_l + cnt_r + cnt_split\n",
    "        \n",
    "        return (out, cnt_total)\n",
    "        \n",
    "     "
   ]
  },
  {
   "cell_type": "code",
   "execution_count": 2,
   "metadata": {},
   "outputs": [
    {
     "data": {
      "text/plain": [
       "([1, 2, 3, 4, 5, 6], 3)"
      ]
     },
     "execution_count": 2,
     "metadata": {},
     "output_type": "execute_result"
    }
   ],
   "source": [
    "count_inv([1,3,5,2,4,6])"
   ]
  },
  {
   "cell_type": "code",
   "execution_count": 3,
   "metadata": {},
   "outputs": [
    {
     "data": {
      "text/plain": [
       "([1, 2, 3, 4, 5, 6], 5)"
      ]
     },
     "execution_count": 3,
     "metadata": {},
     "output_type": "execute_result"
    }
   ],
   "source": [
    "count_inv([1,5,3,4,2,6])"
   ]
  },
  {
   "cell_type": "code",
   "execution_count": 20,
   "metadata": {
    "collapsed": true
   },
   "outputs": [],
   "source": [
    "f = open('datasets/IntegerArray.txt', 'r')"
   ]
  },
  {
   "cell_type": "code",
   "execution_count": 21,
   "metadata": {
    "collapsed": true
   },
   "outputs": [],
   "source": [
    "integer_array = [line.strip() for line in f]"
   ]
  },
  {
   "cell_type": "code",
   "execution_count": 23,
   "metadata": {
    "collapsed": true
   },
   "outputs": [],
   "source": [
    "integer_array = [int(line) for line in integer_array]"
   ]
  },
  {
   "cell_type": "code",
   "execution_count": 25,
   "metadata": {
    "collapsed": true
   },
   "outputs": [],
   "source": [
    "_, count = count_inv(integer_array)"
   ]
  },
  {
   "cell_type": "code",
   "execution_count": 27,
   "metadata": {},
   "outputs": [
    {
     "data": {
      "text/plain": [
       "2407905288"
      ]
     },
     "execution_count": 27,
     "metadata": {},
     "output_type": "execute_result"
    }
   ],
   "source": [
    "count"
   ]
  },
  {
   "cell_type": "code",
   "execution_count": null,
   "metadata": {
    "collapsed": true
   },
   "outputs": [],
   "source": []
  },
  {
   "cell_type": "code",
   "execution_count": 1,
   "metadata": {
    "collapsed": true
   },
   "outputs": [],
   "source": [
    "# 2018-09-23\n",
    "\n",
    "def count_inv(arr):\n",
    "    if len(arr) == 1:\n",
    "        return (arr, 0)\n",
    "    else:\n",
    "        mid = len(arr) // 2\n",
    "        lefthalf = arr[:mid]\n",
    "        righthalf = arr[mid:]\n",
    "        (arr_l, cnt_l) = count_inv(lefthalf)\n",
    "        (arr_r, cnt_r) = count_inv(righthalf)\n",
    "        (arr_, cnt_split) = count_split_inv(arr_l, arr_r)\n",
    "        cnt_total = cnt_l + cnt_r + cnt_split\n",
    "        return (arr_, cnt_total)\n",
    "\n",
    "\n",
    "def count_split_inv(arr1, arr2):\n",
    "    arr = []\n",
    "    cnt = 0\n",
    "    i = 0\n",
    "    j = 0\n",
    "    \n",
    "    while i < len(arr1) and j < len(arr2):\n",
    "        if arr1[i] <= arr2[j]:\n",
    "            arr.append(arr1[i])\n",
    "            i += 1\n",
    "        else:\n",
    "            arr.append(arr2[j])\n",
    "            j += 1\n",
    "            cnt += len(arr) - i\n",
    "    \n",
    "    while i < len(arr1):\n",
    "        arr.append(arr1[i])\n",
    "        i += 1\n",
    "        \n",
    "    while j < len(arr2):\n",
    "        arr.append(arr2[j])\n",
    "        j += 1\n",
    "    \n",
    "    return (arr, cnt)"
   ]
  },
  {
   "cell_type": "code",
   "execution_count": 2,
   "metadata": {},
   "outputs": [
    {
     "data": {
      "text/plain": [
       "([1, 2, 3, 4, 5, 6], 3)"
      ]
     },
     "execution_count": 2,
     "metadata": {},
     "output_type": "execute_result"
    }
   ],
   "source": [
    "count_inv([1,3,5,2,4,6])"
   ]
  },
  {
   "cell_type": "code",
   "execution_count": 3,
   "metadata": {},
   "outputs": [
    {
     "data": {
      "text/plain": [
       "([1, 2, 3, 4, 5, 6], 5)"
      ]
     },
     "execution_count": 3,
     "metadata": {},
     "output_type": "execute_result"
    }
   ],
   "source": [
    "count_inv([1,5,3,4,2,6])"
   ]
  },
  {
   "cell_type": "code",
   "execution_count": null,
   "metadata": {
    "collapsed": true
   },
   "outputs": [],
   "source": []
  }
 ],
 "metadata": {
  "kernelspec": {
   "display_name": "Python 3",
   "language": "python",
   "name": "python3"
  },
  "language_info": {
   "codemirror_mode": {
    "name": "ipython",
    "version": 3
   },
   "file_extension": ".py",
   "mimetype": "text/x-python",
   "name": "python",
   "nbconvert_exporter": "python",
   "pygments_lexer": "ipython3",
   "version": "3.6.2"
  }
 },
 "nbformat": 4,
 "nbformat_minor": 2
}

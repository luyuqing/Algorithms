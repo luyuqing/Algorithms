{
 "cells": [
  {
   "cell_type": "code",
   "execution_count": 1,
   "metadata": {
    "collapsed": true
   },
   "outputs": [],
   "source": [
    "# from collections import Counter\n",
    "# Counter(['red', 'blue', 'red', 'green', 'blue', 'blue'])\n",
    "# -> Counter({'blue': 3, 'green': 1, 'red': 2})\n",
    "\n",
    "# dict.fromkeys(['a', 'b', 'c'])\n",
    "# -> {'a': None, 'b': None, 'c': None}\n",
    "# dict.fromkeys(['a', 'b', 'c'], 1)\n",
    "# -> {'a': 1, 'b': 1, 'c': 1}\n",
    "\n",
    "test_data = {\n",
    "    'a': 5,\n",
    "    'b': 9,\n",
    "    'c': 12,\n",
    "    'd': 13,\n",
    "    'e': 16,\n",
    "    'f': 45\n",
    "}"
   ]
  },
  {
   "cell_type": "markdown",
   "metadata": {},
   "source": [
    "<img src='images/21_Huffman.png' width=600>"
   ]
  },
  {
   "cell_type": "code",
   "execution_count": 2,
   "metadata": {},
   "outputs": [],
   "source": [
    "from heapq import heappop, heappush\n",
    "from collections import namedtuple\n",
    "\n",
    "class Node:\n",
    "    def __init__(self, key, value):\n",
    "        self.key = key\n",
    "        self.value = value\n",
    "        self.parent = None\n",
    "        self.left_child = None\n",
    "        self.right_child = None\n",
    "        self.is_meta = False\n",
    "        \n",
    "    def __repr__(self):\n",
    "        return '<Node key={} value={}>'.format(self.key, self.value)\n",
    "\n",
    "    \n",
    "def build_tree(data):\n",
    "    assert isinstance(data, dict), 'Must be type of dict.'\n",
    "    nodes = [Node(k, v) for k, v in data.items()]\n",
    "    h = []\n",
    "    for n in nodes:\n",
    "        heappush(h, (n.value, n))\n",
    "    i = 0\n",
    "    \n",
    "    while len(h) > 1:\n",
    "        a = heappop(h)\n",
    "        b = heappop(h)   \n",
    "        sum_ = a[0] + b[0]\n",
    "        key_ = 'meta'+str(i)\n",
    "        meta_node = Node(key_, sum_)\n",
    "        meta_node.left_child = a[1]\n",
    "        meta_node.right_child = b[1]\n",
    "        meta_node.is_meta = True\n",
    "        a[1].parent = meta_node\n",
    "        b[1].parent = meta_node       \n",
    "        i += 1\n",
    "        nodes.append(meta_node)\n",
    "        heappush(h, (meta_node.value, meta_node))\n",
    "    \n",
    "    return nodes\n",
    "\n",
    "\n",
    "def traverse(tree):\n",
    "    cur_node = tree[-1]\n",
    "    bits = []\n",
    "    output = {}\n",
    "    traverse_(cur_node, bits, output)\n",
    "    return output\n",
    "    \n",
    "\n",
    "def traverse_(node, bits, output):\n",
    "    left_child = node.left_child\n",
    "    right_child = node.right_child\n",
    "    l_bits = bits[:]\n",
    "    r_bits = bits[:]\n",
    "    if left_child is not None:\n",
    "        l_bits.append(0)\n",
    "        if left_child.is_meta is False:\n",
    "            output[left_child.key] = l_bits\n",
    "        else:\n",
    "            traverse_(left_child, l_bits, output)\n",
    "    if right_child is not None:\n",
    "        r_bits.append(1)\n",
    "        if right_child.is_meta is False:            \n",
    "            output[right_child.key] = r_bits\n",
    "        else:\n",
    "            traverse_(right_child, r_bits, output)"
   ]
  },
  {
   "cell_type": "code",
   "execution_count": 3,
   "metadata": {},
   "outputs": [
    {
     "data": {
      "text/plain": [
       "[<Node key=a value=5>,\n",
       " <Node key=b value=9>,\n",
       " <Node key=c value=12>,\n",
       " <Node key=d value=13>,\n",
       " <Node key=e value=16>,\n",
       " <Node key=f value=45>,\n",
       " <Node key=meta0 value=14>,\n",
       " <Node key=meta1 value=25>,\n",
       " <Node key=meta2 value=30>,\n",
       " <Node key=meta3 value=55>,\n",
       " <Node key=meta4 value=100>]"
      ]
     },
     "execution_count": 3,
     "metadata": {},
     "output_type": "execute_result"
    }
   ],
   "source": [
    "t = build_tree(test_data)\n",
    "t"
   ]
  },
  {
   "cell_type": "code",
   "execution_count": 4,
   "metadata": {},
   "outputs": [
    {
     "data": {
      "text/plain": [
       "{'a': [1, 1, 0, 0],\n",
       " 'b': [1, 1, 0, 1],\n",
       " 'c': [1, 0, 0],\n",
       " 'd': [1, 0, 1],\n",
       " 'e': [1, 1, 1],\n",
       " 'f': [0]}"
      ]
     },
     "execution_count": 4,
     "metadata": {},
     "output_type": "execute_result"
    }
   ],
   "source": [
    "traverse(t)"
   ]
  },
  {
   "cell_type": "code",
   "execution_count": null,
   "metadata": {
    "collapsed": true
   },
   "outputs": [],
   "source": []
  }
 ],
 "metadata": {
  "kernelspec": {
   "display_name": "Python 3",
   "language": "python",
   "name": "python3"
  },
  "language_info": {
   "codemirror_mode": {
    "name": "ipython",
    "version": 3
   },
   "file_extension": ".py",
   "mimetype": "text/x-python",
   "name": "python",
   "nbconvert_exporter": "python",
   "pygments_lexer": "ipython3",
   "version": "3.6.2"
  }
 },
 "nbformat": 4,
 "nbformat_minor": 2
}

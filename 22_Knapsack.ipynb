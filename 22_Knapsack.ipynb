{
 "cells": [
  {
   "cell_type": "code",
   "execution_count": 76,
   "metadata": {},
   "outputs": [
    {
     "data": {
      "text/plain": [
       "array([[  0.,   0.,   0.,   0.,   0.,   0.,   0.,   0.,   0.,   0.,  60.,\n",
       "         60.,  60.,  60.,  60.,  60.,  60.,  60.,  60.,  60.,  60.,  60.,\n",
       "         60.,  60.,  60.,  60.,  60.,  60.,  60.,  60.,  60.,  60.,  60.,\n",
       "         60.,  60.,  60.,  60.,  60.,  60.,  60.,  60.,  60.,  60.,  60.,\n",
       "         60.,  60.,  60.,  60.,  60.,  60.,  60.],\n",
       "       [  0.,   0.,   0.,   0.,   0.,   0.,   0.,   0.,   0.,   0.,  60.,\n",
       "         60.,  60.,  60.,  60.,  60.,  60.,  60.,  60.,  60., 100., 100.,\n",
       "        100., 100., 100., 100., 100., 100., 100., 100., 160., 160., 160.,\n",
       "        160., 160., 160., 160., 160., 160., 160., 160., 160., 160., 160.,\n",
       "        160., 160., 160., 160., 160., 160., 160.],\n",
       "       [  0.,   0.,   0.,   0.,   0.,   0.,   0.,   0.,   0.,   0.,  60.,\n",
       "         60.,  60.,  60.,  60.,  60.,  60.,  60.,  60.,  60., 100., 100.,\n",
       "        100., 100., 100., 100., 100., 100., 100., 100., 160., 160., 160.,\n",
       "        160., 160., 160., 160., 160., 160., 160., 180., 180., 180., 180.,\n",
       "        180., 180., 180., 180., 180., 180., 220.]])"
      ]
     },
     "execution_count": 76,
     "metadata": {},
     "output_type": "execute_result"
    }
   ],
   "source": [
    "# n items that have 2 parameters: value and weight, a limitation of maximum Weight is set\n",
    "# compute: the subset that acheives the max sum value subject to the max weight limit\n",
    "# for ith item, parameters are v_i,  w_i. subset_i is the subset to ith item \n",
    "# that sum_v_i and sum_w_i not over W\n",
    "# if ith item is not included in subset_i, then subset_i-1 achieves sum_vi_i-1 must == sum_v_i\n",
    "# if ith item is included in subset_i, let's say sum_v_i-1' is the biggest value that sum_w_i-1 not over W-w_i,\n",
    "# sum_v_i must == sum_v_i-1' + w_i\n",
    "\n",
    "\n",
    "# we need 2 for loops, for every i and every w(0-W)\n",
    "# lst_w -> list of weight, lst_v -> list of value, W -> weight limit\n",
    "import numpy as np\n",
    "def knapsack(lst_w, lst_v, W):\n",
    "    assert len(lst_w) == len(lst_v)\n",
    "    n = len(lst_v)  # num of items\n",
    "    mapping = np.zeros((n, W+1))\n",
    "    for i in range(n):\n",
    "        for w in range(W+1):\n",
    "            if w == 0:\n",
    "                mapping[i][w] = 0\n",
    "            elif i == 0:\n",
    "                if lst_w[i] > w:\n",
    "                    mapping[i][w] = 0\n",
    "                else:\n",
    "                    mapping[i][w] = lst_v[i]\n",
    "            elif lst_w[i] > w:\n",
    "                mapping[i][w] = mapping[i-1][w]\n",
    "            else:\n",
    "                mapping[i][w] = max(mapping[i-1][w], mapping[i-1][w-lst_w[i]]+lst_v[i])\n",
    "    return mapping\n",
    "\n",
    "\n",
    "lst_w = [10, 20, 30] \n",
    "lst_v = [60, 100, 120] \n",
    "W = 50\n",
    "\n",
    "\n",
    "knapsack(lst_w, lst_v, W)"
   ]
  },
  {
   "cell_type": "code",
   "execution_count": null,
   "metadata": {},
   "outputs": [],
   "source": []
  }
 ],
 "metadata": {
  "kernelspec": {
   "display_name": "Python 3",
   "language": "python",
   "name": "python3"
  },
  "language_info": {
   "codemirror_mode": {
    "name": "ipython",
    "version": 3
   },
   "file_extension": ".py",
   "mimetype": "text/x-python",
   "name": "python",
   "nbconvert_exporter": "python",
   "pygments_lexer": "ipython3",
   "version": "3.7.0"
  }
 },
 "nbformat": 4,
 "nbformat_minor": 2
}

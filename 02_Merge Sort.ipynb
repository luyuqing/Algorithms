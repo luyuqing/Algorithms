{
 "cells": [
  {
   "cell_type": "code",
   "execution_count": 5,
   "metadata": {
    "collapsed": true
   },
   "outputs": [],
   "source": [
    "# assume unique numbers in arr, NO two numbers are equal\n",
    "\n",
    "def merge_sort(arr):\n",
    "    if len(arr) == 1:\n",
    "        return arr\n",
    "    \n",
    "    elif len(arr) > 1:\n",
    "        mid = len(arr) // 2\n",
    "        lefthalf = arr[:mid]\n",
    "        righthalf = arr[mid:]\n",
    "        out_left = merge_sort(lefthalf)\n",
    "        out_right = merge_sort(righthalf)\n",
    "        \n",
    "        out = []\n",
    "        i = 0\n",
    "        j = 0\n",
    "        \n",
    "        while i < len(out_left) and j < len(out_right):\n",
    "            if out_left[i] < out_right[j]:\n",
    "                out.append(out_left[i])\n",
    "                i += 1\n",
    "            else:\n",
    "                out.append(out_right[j])\n",
    "                j += 1\n",
    "                \n",
    "        while i < len(out_left):\n",
    "            out.append(out_left[i])\n",
    "            i += 1\n",
    "            \n",
    "        while j < len(out_right):\n",
    "            out.append(out_right[j])\n",
    "            j += 1\n",
    "            \n",
    "        return out\n",
    "   "
   ]
  },
  {
   "cell_type": "code",
   "execution_count": 6,
   "metadata": {},
   "outputs": [
    {
     "data": {
      "text/plain": [
       "[1, 2, 4, 5, 6, 7, 8, 11, 23]"
      ]
     },
     "execution_count": 6,
     "metadata": {},
     "output_type": "execute_result"
    }
   ],
   "source": [
    "merge_sort([11,2,5,4,7,6,8,1,23])"
   ]
  },
  {
   "cell_type": "code",
   "execution_count": null,
   "metadata": {
    "collapsed": true
   },
   "outputs": [],
   "source": [
    "# another solution\n",
    "def merge_sort(arr):\n",
    "\tif len(arr) > 1:\n",
    "\t\tmid = len(arr) // 2\n",
    "\t\tlefthalf = arr[:mid]\n",
    "\t\trighthalf = arr[mid:]\n",
    "\t\tmerge_sort(lefthalf)\n",
    "\t\tmerge_sort(righthalf)\n",
    "\t\n",
    "\t\tk = 0\n",
    "\t\ti = 0\n",
    "\t\tj = 0\n",
    "\t\t\n",
    "\t\twhile i < len(lefthalf) and j < len(righthalf):\n",
    "\t\t\tif lefthalf[i] <= righthalf[j]:\n",
    "\t\t\t\tarr[k] = lefthalf[i]\n",
    "\t\t\t\ti += 1\n",
    "\t\t\telse:\n",
    "\t\t\t\tarr[k] = righthalf[j]\n",
    "\t\t\t\tj += 1\n",
    "\t\t\tk += 1\n",
    "\n",
    "\t\twhile i < len(lefthalf):\n",
    "\t\t\tarr[k] = lefthalf[i]\n",
    "\t\t\tk += 1\n",
    "\t\t\ti += 1\n",
    "\t\t\t\n",
    "\t\twhile j < len(righthalf):\n",
    "\t\t\tarr[k] = righthalf[j]\n",
    "\t\t\tk += 1\n",
    "\t\t\tj += 1"
   ]
  }
 ],
 "metadata": {
  "kernelspec": {
   "display_name": "Python 3",
   "language": "python",
   "name": "python3"
  },
  "language_info": {
   "codemirror_mode": {
    "name": "ipython",
    "version": 3
   },
   "file_extension": ".py",
   "mimetype": "text/x-python",
   "name": "python",
   "nbconvert_exporter": "python",
   "pygments_lexer": "ipython3",
   "version": "3.6.2"
  }
 },
 "nbformat": 4,
 "nbformat_minor": 2
}

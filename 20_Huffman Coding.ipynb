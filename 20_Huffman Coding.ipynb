{
 "cells": [
  {
   "cell_type": "code",
   "execution_count": 24,
   "metadata": {
    "collapsed": true
   },
   "outputs": [],
   "source": [
    "# from collections import Counter\n",
    "# Counter(['red', 'blue', 'red', 'green', 'blue', 'blue'])\n",
    "# -> Counter({'blue': 3, 'green': 1, 'red': 2})\n",
    "\n",
    "# dict.fromkeys(['a', 'b', 'c'])\n",
    "# -> {'a': None, 'b': None, 'c': None}\n",
    "# dict.fromkeys(['a', 'b', 'c'], 1)\n",
    "# -> {'a': 1, 'b': 1, 'c': 1}\n",
    "\n",
    "test_data = {\n",
    "    'a': 5,\n",
    "    'b': 9,\n",
    "    'c': 12,\n",
    "    'd': 13,\n",
    "    'e': 16,\n",
    "    'f': 45\n",
    "}"
   ]
  },
  {
   "cell_type": "markdown",
   "metadata": {},
   "source": [
    "<img src='images/21_Huffman.png' width=600>"
   ]
  },
  {
   "cell_type": "code",
   "execution_count": 25,
   "metadata": {
    "collapsed": true
   },
   "outputs": [],
   "source": [
    "from heapq import heappop, heappush\n",
    "from collections import namedtuple\n",
    "\n",
    "class Node:\n",
    "    def __init__(self, key, value):\n",
    "        self.key = key\n",
    "        self.value = value\n",
    "        self.parent = None\n",
    "        self.left_child = None\n",
    "        self.right_child = None\n",
    "        self.is_meta = False\n",
    "        \n",
    "    def __repr__(self):\n",
    "        return '<Node key={} value={}>'.format(self.key, self.value)\n",
    "\n",
    "    \n",
    "def build_tree(data):\n",
    "    assert isinstance(data, dict), 'Must be type of dict.'\n",
    "    nodes = [Node(k, v) for k, v in data.items()]\n",
    "    h = []\n",
    "    for n in nodes:\n",
    "        heappush(h, (n.value, n))\n",
    "    i = 0\n",
    "    \n",
    "    while len(h) > 1:\n",
    "        a = heappop(h)\n",
    "        b = heappop(h)   \n",
    "        sum_ = a[0] + b[0]\n",
    "        key_ = 'meta'+str(i)\n",
    "        meta_node = Node(key_, sum_)\n",
    "        meta_node.left_child = a[1]\n",
    "        meta_node.right_child = b[1]\n",
    "        meta_node.is_meta = True\n",
    "        a[1].parent = meta_node\n",
    "        b[1].parent = meta_node       \n",
    "        i += 1\n",
    "        nodes.append(meta_node)\n",
    "        heappush(h, (meta_node.value, meta_node))\n",
    "    \n",
    "    return nodes\n",
    "\n",
    "\n",
    "def traverse(tree):\n",
    "    cur_node = tree[-1]\n",
    "    bits = []\n",
    "    output = {}\n",
    "    traverse_(cur_node, bits, output)\n",
    "    return output\n",
    "    \n",
    "\n",
    "def traverse_(node, bits, output):\n",
    "    left_child = node.left_child\n",
    "    right_child = node.right_child\n",
    "    l_bits = bits[:]\n",
    "    r_bits = bits[:]\n",
    "    if left_child is not None:\n",
    "        l_bits.append(0)\n",
    "        if left_child.is_meta is False:\n",
    "            output[left_child.key] = l_bits\n",
    "        else:\n",
    "            traverse_(left_child, l_bits, output)\n",
    "    if right_child is not None:\n",
    "        r_bits.append(1)\n",
    "        if right_child.is_meta is False:            \n",
    "            output[right_child.key] = r_bits\n",
    "        else:\n",
    "            traverse_(right_child, r_bits, output)"
   ]
  },
  {
   "cell_type": "code",
   "execution_count": 26,
   "metadata": {},
   "outputs": [
    {
     "data": {
      "text/plain": [
       "[<Node key=a value=5>,\n",
       " <Node key=b value=9>,\n",
       " <Node key=c value=12>,\n",
       " <Node key=d value=13>,\n",
       " <Node key=e value=16>,\n",
       " <Node key=f value=45>,\n",
       " <Node key=meta0 value=14>,\n",
       " <Node key=meta1 value=25>,\n",
       " <Node key=meta2 value=30>,\n",
       " <Node key=meta3 value=55>,\n",
       " <Node key=meta4 value=100>]"
      ]
     },
     "execution_count": 26,
     "metadata": {},
     "output_type": "execute_result"
    }
   ],
   "source": [
    "t = build_tree(test_data)\n",
    "t"
   ]
  },
  {
   "cell_type": "code",
   "execution_count": 27,
   "metadata": {},
   "outputs": [
    {
     "data": {
      "text/plain": [
       "{'a': [1, 1, 0, 0],\n",
       " 'b': [1, 1, 0, 1],\n",
       " 'c': [1, 0, 0],\n",
       " 'd': [1, 0, 1],\n",
       " 'e': [1, 1, 1],\n",
       " 'f': [0]}"
      ]
     },
     "execution_count": 27,
     "metadata": {},
     "output_type": "execute_result"
    }
   ],
   "source": [
    "traverse(t)"
   ]
  },
  {
   "cell_type": "code",
   "execution_count": null,
   "metadata": {
    "collapsed": true
   },
   "outputs": [],
   "source": []
  },
  {
   "cell_type": "markdown",
   "metadata": {},
   "source": [
    "This file describes an instance of the problem. It has the following format:\n",
    "\n",
    "[number_of_symbols]\n",
    "\n",
    "[weight of symbol #1]\n",
    "\n",
    "[weight of symbol #2]\n",
    "\n",
    "...\n",
    "\n",
    "For example, the third line of the file is \"6852892,\" indicating that the weight of the second symbol of the alphabet is 6852892. (We're using weights instead of frequencies, like in the \"A More Complex Example\" video.)\n",
    "\n",
    "Your task in this problem is to run the Huffman coding algorithm from lecture on this data set. What is the maximum length of a codeword in the resulting Huffman code?\n",
    "\n",
    "ADVICE: If you're not getting the correct answer, try debugging your algorithm using some small test cases. And then post them to the discussion forum!"
   ]
  },
  {
   "cell_type": "code",
   "execution_count": 28,
   "metadata": {
    "collapsed": true
   },
   "outputs": [],
   "source": [
    "with open('datasets/huffman.txt') as f:\n",
    "    data = f.readlines()\n",
    "\n",
    "import re\n",
    "pattern = re.compile('\\d+')\n",
    "data = [int(re.findall(pattern, d)[0]) for d in data]\n",
    "amount = data[0]  # 1000\n",
    "data = data[1:]"
   ]
  },
  {
   "cell_type": "code",
   "execution_count": 45,
   "metadata": {
    "collapsed": true
   },
   "outputs": [],
   "source": [
    "data_ = {i: w for i, w in enumerate(data)}"
   ]
  },
  {
   "cell_type": "code",
   "execution_count": 30,
   "metadata": {
    "collapsed": true
   },
   "outputs": [],
   "source": [
    "tree_ = build_tree(data_)"
   ]
  },
  {
   "cell_type": "code",
   "execution_count": 38,
   "metadata": {},
   "outputs": [
    {
     "name": "stdout",
     "output_type": "stream",
     "text": [
      "471\n"
     ]
    }
   ],
   "source": [
    "for k, v in data_.items():\n",
    "    if v == min(data_):\n",
    "        print(k)"
   ]
  },
  {
   "cell_type": "code",
   "execution_count": 41,
   "metadata": {},
   "outputs": [
    {
     "data": {
      "text/plain": [
       "19"
      ]
     },
     "execution_count": 41,
     "metadata": {},
     "output_type": "execute_result"
    }
   ],
   "source": [
    "len(traverse(tree_)[471])"
   ]
  },
  {
   "cell_type": "code",
   "execution_count": 56,
   "metadata": {
    "collapsed": true
   },
   "outputs": [],
   "source": [
    "max_ = 0\n",
    "key = None\n",
    "for k, v in data_.items():\n",
    "    if v > max_:\n",
    "        max_ = v\n",
    "        key = k"
   ]
  },
  {
   "cell_type": "code",
   "execution_count": 58,
   "metadata": {},
   "outputs": [
    {
     "data": {
      "text/plain": [
       "9"
      ]
     },
     "execution_count": 58,
     "metadata": {},
     "output_type": "execute_result"
    }
   ],
   "source": [
    "len(traverse(tree_)[342])"
   ]
  },
  {
   "cell_type": "code",
   "execution_count": null,
   "metadata": {
    "collapsed": true
   },
   "outputs": [],
   "source": []
  }
 ],
 "metadata": {
  "kernelspec": {
   "display_name": "Python 3",
   "language": "python",
   "name": "python3"
  },
  "language_info": {
   "codemirror_mode": {
    "name": "ipython",
    "version": 3
   },
   "file_extension": ".py",
   "mimetype": "text/x-python",
   "name": "python",
   "nbconvert_exporter": "python",
   "pygments_lexer": "ipython3",
   "version": "3.6.2"
  }
 },
 "nbformat": 4,
 "nbformat_minor": 2
}

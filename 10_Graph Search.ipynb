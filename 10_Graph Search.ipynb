{
 "cells": [
  {
   "cell_type": "code",
   "execution_count": 1,
   "metadata": {},
   "outputs": [
    {
     "name": "stdout",
     "output_type": "stream",
     "text": [
      "A B C E\r\n",
      "B A D E\r\n",
      "C A F G\r\n",
      "D B\r\n",
      "E A B D\r\n",
      "F C\r\n",
      "G C"
     ]
    }
   ],
   "source": [
    "!cat datasets/sample.txt"
   ]
  },
  {
   "cell_type": "markdown",
   "metadata": {},
   "source": [
    "line = \"ajones Alice Jones 44 F alice@alicejones.net\"\n",
    "<br>\n",
    "identifier, *userdata=line.split()\n",
    "<br>\n",
    "identifier\n",
    "<br>\n",
    "'ajones'\n",
    "<br>\n",
    "userdata\n",
    "<br>\n",
    "['Alice', 'Jones', '44', 'F', 'alice@alicejones.net']"
   ]
  },
  {
   "cell_type": "code",
   "execution_count": 2,
   "metadata": {},
   "outputs": [
    {
     "data": {
      "text/plain": [
       "{'A': ['B', 'C', 'E'],\n",
       " 'B': ['A', 'D', 'E'],\n",
       " 'C': ['A', 'F', 'G'],\n",
       " 'D': ['B'],\n",
       " 'E': ['A', 'B', 'D'],\n",
       " 'F': ['C'],\n",
       " 'G': ['C']}"
      ]
     },
     "execution_count": 2,
     "metadata": {},
     "output_type": "execute_result"
    }
   ],
   "source": [
    "with open('datasets/sample.txt', 'r') as f:\n",
    "    a = [line.strip() for line in f]\n",
    "\n",
    "graph = dict()\n",
    "for n in a:\n",
    "    x = n.split()\n",
    "    graph[x[0]] = x[1:]\n",
    "\n",
    "graph"
   ]
  },
  {
   "cell_type": "code",
   "execution_count": 3,
   "metadata": {
    "collapsed": true
   },
   "outputs": [],
   "source": [
    "import random"
   ]
  },
  {
   "cell_type": "code",
   "execution_count": 4,
   "metadata": {
    "collapsed": true
   },
   "outputs": [],
   "source": [
    "# breath first search WITHOUT tracking levels\n",
    "\n",
    "\n",
    "def bfs(g): \n",
    "    start = random.choice(list(graph.keys()))\n",
    "    explored = []\n",
    "    queue = [start]\n",
    "    \n",
    "    while queue:\n",
    "        temp = queue.pop(0)\n",
    "        explored.append(temp)\n",
    "        \n",
    "        for x in g[temp]:\n",
    "            if x not in explored and x not in queue:\n",
    "                queue.append(x)\n",
    "                \n",
    "    return explored\n"
   ]
  },
  {
   "cell_type": "code",
   "execution_count": 5,
   "metadata": {},
   "outputs": [
    {
     "data": {
      "text/plain": [
       "['G', 'C', 'A', 'F', 'B', 'E', 'D']"
      ]
     },
     "execution_count": 5,
     "metadata": {},
     "output_type": "execute_result"
    }
   ],
   "source": [
    "bfs(graph)"
   ]
  },
  {
   "cell_type": "code",
   "execution_count": 6,
   "metadata": {
    "collapsed": true
   },
   "outputs": [],
   "source": [
    "# breath first search with LEVEL tracked\n",
    "\n",
    "def bfs_level(g):\n",
    "    start = random.choice(list(graph.keys()))\n",
    "    explored = []\n",
    "    queue = [start]\n",
    "    curr_level = 0\n",
    "    level_nodes = dict()\n",
    "    \n",
    "    while queue:\n",
    "        temp_list = []\n",
    "        for i in queue:\n",
    "            temp = g[i]\n",
    "            for j in temp:\n",
    "                if j not in explored and j not in queue:\n",
    "                    temp_list.append(j)\n",
    "        \n",
    "        level_nodes[curr_level] = []\n",
    "        for k in queue:\n",
    "            explored.append(k)\n",
    "            level_nodes[curr_level].append(k)\n",
    "            \n",
    "        curr_level += 1\n",
    "        queue = temp_list\n",
    "        \n",
    "    return (explored, curr_level, level_nodes)"
   ]
  },
  {
   "cell_type": "code",
   "execution_count": 7,
   "metadata": {},
   "outputs": [
    {
     "data": {
      "text/plain": [
       "(['G', 'C', 'A', 'F', 'B', 'E', 'D', 'D'],\n",
       " 5,\n",
       " {0: ['G'], 1: ['C'], 2: ['A', 'F'], 3: ['B', 'E'], 4: ['D', 'D']})"
      ]
     },
     "execution_count": 7,
     "metadata": {},
     "output_type": "execute_result"
    }
   ],
   "source": [
    "bfs_level(graph)"
   ]
  },
  {
   "cell_type": "code",
   "execution_count": 8,
   "metadata": {
    "collapsed": true
   },
   "outputs": [],
   "source": [
    "graph1 = {\n",
    "    'A' : ['B','S'],\n",
    "    'B' : ['A'],\n",
    "    'C' : ['D','E','F','S'],\n",
    "    'D' : ['C'],\n",
    "    'E' : ['C','H'],\n",
    "    'F' : ['C','G'],\n",
    "    'G' : ['F','S'],\n",
    "    'H' : ['E','G'],\n",
    "    'S' : ['A','C','G']\n",
    "}"
   ]
  },
  {
   "cell_type": "code",
   "execution_count": 9,
   "metadata": {
    "collapsed": true
   },
   "outputs": [],
   "source": [
    "# depth first search\n",
    "# connected component\n",
    "\n",
    "def dfs(g, start):\n",
    "    explored = set()\n",
    "    stack = [start]\n",
    "    \n",
    "    while stack:\n",
    "        vertex = stack.pop()\n",
    "        #if vertex not in explored:\n",
    "        explored.add(vertex)\n",
    "        stack.extend(set(g[vertex]) - explored)\n",
    "    \n",
    "    return explored\n",
    "    "
   ]
  },
  {
   "cell_type": "code",
   "execution_count": 10,
   "metadata": {},
   "outputs": [
    {
     "data": {
      "text/plain": [
       "{'A', 'B', 'C', 'D', 'E', 'F', 'G', 'H', 'S'}"
      ]
     },
     "execution_count": 10,
     "metadata": {},
     "output_type": "execute_result"
    }
   ],
   "source": [
    "dfs(graph1, 'A')"
   ]
  },
  {
   "cell_type": "code",
   "execution_count": 11,
   "metadata": {
    "collapsed": true
   },
   "outputs": [],
   "source": [
    "# depth first search \n",
    "# recursive\n",
    "\n",
    "def dfs_recur(g, vertex, explored=None):\n",
    "    if explored == None:\n",
    "        explored = set()\n",
    "    \n",
    "    explored.add(vertex)\n",
    "    for n in g[vertex]:\n",
    "        if n not in explored:\n",
    "            dfs_recur(g, n, explored)\n",
    "    \n",
    "    return explored\n"
   ]
  },
  {
   "cell_type": "code",
   "execution_count": 12,
   "metadata": {},
   "outputs": [
    {
     "data": {
      "text/plain": [
       "{'A', 'B', 'C', 'D', 'E', 'F', 'G', 'H', 'S'}"
      ]
     },
     "execution_count": 12,
     "metadata": {},
     "output_type": "execute_result"
    }
   ],
   "source": [
    "dfs_recur(graph1, 'A')"
   ]
  },
  {
   "cell_type": "code",
   "execution_count": null,
   "metadata": {
    "collapsed": true
   },
   "outputs": [],
   "source": []
  }
 ],
 "metadata": {
  "kernelspec": {
   "display_name": "Python 3",
   "language": "python",
   "name": "python3"
  },
  "language_info": {
   "codemirror_mode": {
    "name": "ipython",
    "version": 3
   },
   "file_extension": ".py",
   "mimetype": "text/x-python",
   "name": "python",
   "nbconvert_exporter": "python",
   "pygments_lexer": "ipython3",
   "version": "3.6.2"
  }
 },
 "nbformat": 4,
 "nbformat_minor": 2
}

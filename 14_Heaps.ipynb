{
 "cells": [
  {
   "cell_type": "markdown",
   "metadata": {},
   "source": [
    "<img src='images/14_heaps_application1.png' width=500>"
   ]
  },
  {
   "cell_type": "markdown",
   "metadata": {},
   "source": [
    "<img src='images/14_heaps_application2.png' width=500>"
   ]
  },
  {
   "cell_type": "markdown",
   "metadata": {},
   "source": [
    "### Note to balance the Low heap and High heap, so everytime to extract median, it´s either extract min from low heap or extract max from high heap"
   ]
  },
  {
   "cell_type": "markdown",
   "metadata": {},
   "source": [
    "<img src='images/14_heaps_application3.png' width=500>"
   ]
  },
  {
   "cell_type": "markdown",
   "metadata": {},
   "source": [
    "<img src='images/14_heaps_application4.png' width=500>"
   ]
  },
  {
   "cell_type": "code",
   "execution_count": 1,
   "metadata": {
    "collapsed": true
   },
   "outputs": [],
   "source": [
    "from heapq import heappush, heappop, heapify\n",
    "\n",
    "# heapify takes O(n) linear time\n",
    "# insert or extractmin takes O(logn) time\n",
    "\n",
    "class MinHeap:\n",
    "    def __init__(self):\n",
    "        self.heap = []\n",
    "    \n",
    "    @property\n",
    "    def length(self):\n",
    "        return len(self.heap)\n",
    "    \n",
    "    def parent(self, i):\n",
    "        return (i-1)//2\n",
    "    \n",
    "    def left_child(self, i):\n",
    "        return i*2+1\n",
    "    \n",
    "    def right_child(self, i):\n",
    "        return (i+1)*2\n",
    "    \n",
    "    def has_left_child(self, i):\n",
    "        if self.left_child(i) < self.length:\n",
    "            return True\n",
    "        else:\n",
    "            return False\n",
    "    \n",
    "    def has_right_child(self, i):\n",
    "        if self.right_child(i) < self.length:\n",
    "            return True\n",
    "        else:\n",
    "            return False\n",
    "    \n",
    "    def extract_min(self):\n",
    "        return heappop(self.heap)\n",
    "    \n",
    "    def get_min(self):\n",
    "        return self.heap[0]\n",
    "    \n",
    "    def insert_key(self, k):\n",
    "        heappush(self.heap, k)\n",
    "    \n",
    "    def decrease_key(self, i, new_val):\n",
    "        self.heap[i] = new_val\n",
    "        while i!=0 and self.heap[i] < self.heap[self.parent(i)]:\n",
    "            self.heap[i], self.heap[self.parent(i)] = (self.heap[self.parent(i)], self.heap[i])\n",
    "    \n",
    "    def increase_key(self, i, new_val):\n",
    "        self.heap[i] = new_val\n",
    "        while self.has_left_child(i):\n",
    "            if self.has_right_child(i):\n",
    "                child_dict = {self.left_child(i): self.heap[self.left_child(i)], self.right_child(i): self.heap[self.right_child(i)]}\n",
    "                min_child = min(child_dict, key=child_dict.get)\n",
    "            else:\n",
    "                min_child = self.left_child(i)\n",
    "                \n",
    "            if self.heap[i] > self.heap[min_child]: \n",
    "                self.heap[i], self.heap[min_child] = (self.heap[min_child], self.heap[i])\n",
    "                i = min_child\n",
    "            else:\n",
    "                return\n",
    "        \n",
    "    def replace_key(self, i, new_val):\n",
    "        if self.heap[i] > new_val:\n",
    "            self.decrease_key(i, new_val)\n",
    "        elif self.heap[i] < new_val:\n",
    "            self.increase_key(i, new_val)\n",
    "        elif self.heap[i] == new_val:\n",
    "            return\n",
    "    \n",
    "    def delete_key(self, i):\n",
    "        self.decrease_key(i, float('-inf'))\n",
    "        self.extract_min()"
   ]
  },
  {
   "cell_type": "code",
   "execution_count": 2,
   "metadata": {
    "collapsed": true
   },
   "outputs": [],
   "source": [
    "class MaxHeap:\n",
    "    def __init__(self):\n",
    "        self.heap = []\n",
    "    \n",
    "    @property\n",
    "    def length(self):\n",
    "        return len(self.heap)\n",
    "    \n",
    "    def parent(self, i):\n",
    "        return (i-1)//2\n",
    "    \n",
    "    def left_child(self, i):\n",
    "        return i*2+1\n",
    "    \n",
    "    def right_child(self, i):\n",
    "        return (i+1)*2\n",
    "    \n",
    "    def has_left_child(self, i):\n",
    "        if self.left_child(i) < self.length:\n",
    "            return True\n",
    "        else:\n",
    "            return False\n",
    "    \n",
    "    def has_right_child(self, i):\n",
    "        if self.right_child(i) < self.length:\n",
    "            return True\n",
    "        else:\n",
    "            return False\n",
    "          \n",
    "    def bub_up(self, i):\n",
    "        while i != 0 and self.heap[i] > self.heap[self.parent(i)]:\n",
    "            self.heap[i], self.heap[self.parent(i)] = (self.heap[self.parent(i)], self.heap[i])\n",
    "            i = self.parent(i)\n",
    "            \n",
    "    def insert_key(self, key):\n",
    "        self.heap.append(key)\n",
    "        length = self.length\n",
    "        self.bub_up(length-1)\n",
    "        \n",
    "    def bub_down(self, i):\n",
    "        while self.has_left_child(i):\n",
    "            if self.has_right_child(i):\n",
    "                child_dict = {self.left_child(i): self.heap[self.left_child(i)], self.right_child(i): self.heap[self.right_child(i)]}\n",
    "                max_child = max(child_dict, key=child_dict.get)\n",
    "            else:\n",
    "                max_child = self.left_child(i)\n",
    "            if self.heap[i] < self.heap[max_child]:\n",
    "                self.heap[i], self.heap[max_child] = (self.heap[max_child], self.heap[i])\n",
    "                i = max_child\n",
    "            else:\n",
    "                return \n",
    "    \n",
    "    def extract_max(self):\n",
    "        length = self.length\n",
    "        self.heap[0], self.heap[length-1] = (self.heap[length-1], self.heap[0])\n",
    "        p = self.heap.pop(-1)\n",
    "        self.bub_down(0)\n",
    "        return p\n",
    "                \n",
    "    def get_max(self):\n",
    "        return self.heap[0]"
   ]
  },
  {
   "cell_type": "code",
   "execution_count": 3,
   "metadata": {},
   "outputs": [],
   "source": [
    "heapObj = MaxHeap()\n",
    "heapObj.insert_key(3)\n",
    "heapObj.insert_key(2)\n",
    "heapObj.insert_key(15)\n",
    "heapObj.insert_key(5)\n",
    "heapObj.insert_key(4)\n",
    "heapObj.insert_key(45)\n",
    "heapObj.insert_key(27)\n",
    "heapObj.insert_key(6)\n",
    "heapObj.insert_key(13)"
   ]
  },
  {
   "cell_type": "code",
   "execution_count": 4,
   "metadata": {},
   "outputs": [
    {
     "data": {
      "text/plain": [
       "[45, 13, 27, 6, 4, 3, 15, 2, 5]"
      ]
     },
     "execution_count": 4,
     "metadata": {},
     "output_type": "execute_result"
    }
   ],
   "source": [
    "heapObj.heap"
   ]
  },
  {
   "cell_type": "code",
   "execution_count": 5,
   "metadata": {},
   "outputs": [
    {
     "data": {
      "text/plain": [
       "[27, 13, 15, 6, 4, 3, 5, 2]"
      ]
     },
     "execution_count": 5,
     "metadata": {},
     "output_type": "execute_result"
    }
   ],
   "source": [
    "heapObj.extract_max()\n",
    "heapObj.heap"
   ]
  },
  {
   "cell_type": "code",
   "execution_count": 6,
   "metadata": {
    "collapsed": true
   },
   "outputs": [],
   "source": [
    "def compute_median(low, high, key):\n",
    "    median = None\n",
    "    max_low = low.get_max()\n",
    "    min_high = high.get_min()\n",
    "    \n",
    "    if low.length == high.length:\n",
    "        if key < max_low:\n",
    "            low.insert_key(key)\n",
    "            median = max_low\n",
    "        elif key > min_high:\n",
    "            high.insert_key(key)\n",
    "            median = min_high\n",
    "        elif key>max_low and key<min_high:\n",
    "            low.insert_key(key)\n",
    "            median = key\n",
    "    \n",
    "    elif low.length > high.length:\n",
    "        if key < max_low:\n",
    "            p = low.extract_max()\n",
    "            high.insert_key(p)\n",
    "            low.insert_key(key)\n",
    "            median = low.get_max()\n",
    "        else:\n",
    "            high.insert_key(key)\n",
    "            median = max_low\n",
    "    \n",
    "    else:\n",
    "        if key < min_high:\n",
    "            low.insert_key(key)\n",
    "            median = low.get_max()\n",
    "        else:\n",
    "            p = high.extract_min()\n",
    "            low.insert_key(p)\n",
    "            high.insert_key(key)\n",
    "            median = low.get_max()\n",
    "    \n",
    "    return median"
   ]
  },
  {
   "cell_type": "code",
   "execution_count": 7,
   "metadata": {
    "collapsed": true
   },
   "outputs": [],
   "source": [
    "def compute_medians(data): # Assume unique values in list of data\n",
    "    medians = []\n",
    "    heapL = MaxHeap()\n",
    "    heapH = MinHeap()\n",
    "    \n",
    "    if data[0] < data[1]:\n",
    "        heapL.insert_key(data[0])\n",
    "        heapH.insert_key(data[1])\n",
    "        medians.append(data[0])\n",
    "        medians.append(data[0])\n",
    "    else:\n",
    "        heapL.insert_key(data[1])\n",
    "        heapH.insert_key(data[0])\n",
    "        medians.append(data[0])\n",
    "        medians.append(data[1])\n",
    "        \n",
    "    del data[0:2]\n",
    "        \n",
    "    while data:\n",
    "        n = data.pop(0)\n",
    "        median = compute_median(heapL, heapH, n)\n",
    "        medians.append(median)\n",
    "    \n",
    "    return medians"
   ]
  },
  {
   "cell_type": "code",
   "execution_count": 8,
   "metadata": {
    "collapsed": true
   },
   "outputs": [],
   "source": [
    "with open('datasets/Median_test3.txt') as f:\n",
    "    line_test = [int(line.strip()) for line in f]"
   ]
  },
  {
   "cell_type": "code",
   "execution_count": 9,
   "metadata": {},
   "outputs": [
    {
     "data": {
      "text/plain": [
       "[6331, 2793, 1640, 9290, 225, 625, 6195, 2303, 5685, 1354]"
      ]
     },
     "execution_count": 9,
     "metadata": {},
     "output_type": "execute_result"
    }
   ],
   "source": [
    "line_test"
   ]
  },
  {
   "cell_type": "code",
   "execution_count": 10,
   "metadata": {},
   "outputs": [
    {
     "data": {
      "text/plain": [
       "[6331, 2793, 2793, 2793, 2793, 1640, 2793, 2303, 2793, 2303]"
      ]
     },
     "execution_count": 10,
     "metadata": {},
     "output_type": "execute_result"
    }
   ],
   "source": [
    "medians_test = compute_medians(line_test)\n",
    "medians_test"
   ]
  },
  {
   "cell_type": "code",
   "execution_count": 11,
   "metadata": {},
   "outputs": [
    {
     "data": {
      "text/plain": [
       "29335"
      ]
     },
     "execution_count": 11,
     "metadata": {},
     "output_type": "execute_result"
    }
   ],
   "source": [
    "import numpy as np\n",
    "np.sum(np.array(medians_test))"
   ]
  },
  {
   "cell_type": "code",
   "execution_count": 12,
   "metadata": {},
   "outputs": [
    {
     "data": {
      "text/plain": [
       "46831213"
      ]
     },
     "execution_count": 12,
     "metadata": {},
     "output_type": "execute_result"
    }
   ],
   "source": [
    "\n",
    "with open('datasets/Median.txt') as f:\n",
    "    data = [int(line.strip()) for line in f]\n",
    "\n",
    "medians = compute_medians(data)\n",
    "\n",
    "np.sum(np.array(medians))"
   ]
  },
  {
   "cell_type": "code",
   "execution_count": null,
   "metadata": {
    "collapsed": true
   },
   "outputs": [],
   "source": []
  }
 ],
 "metadata": {
  "kernelspec": {
   "display_name": "Python 3",
   "language": "python",
   "name": "python3"
  },
  "language_info": {
   "codemirror_mode": {
    "name": "ipython",
    "version": 3
   },
   "file_extension": ".py",
   "mimetype": "text/x-python",
   "name": "python",
   "nbconvert_exporter": "python",
   "pygments_lexer": "ipython3",
   "version": "3.6.2"
  }
 },
 "nbformat": 4,
 "nbformat_minor": 2
}

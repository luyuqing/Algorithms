{
 "cells": [
  {
   "cell_type": "code",
   "execution_count": 2,
   "metadata": {},
   "outputs": [],
   "source": [
    "# Floyd Warshall algorithm  O(n^3)\n",
    "\n",
    "# Let's say P[i,j,k] is shortest distance solution from i to j, with k ∈ {1,2..k} allowed to be intermidiary point\n",
    "# If k is not inside intermidary points for i->j\n",
    "# P[i,j,k] must == P[i,j,k-1]\n",
    "# Elif k is a intermediary point\n",
    "# P[i,j,k] must == P[i,k,k-1] + P[j,k,k-1]\n",
    "\n",
    "# P[i,i, n] must = 0\n",
    "# when k = 0, \n",
    "# if i==j, P[i,j,k] = 0\n",
    "# if i, j connected, P[i,j,k] = Cij(distance bewteen i and j)\n",
    "# else P[i,j,k] = positive inf\n",
    "\n",
    "# if graph has a negative cycle, will get P[i, i, n] < 0 for at least one i at the end of algorithm"
   ]
  },
  {
   "cell_type": "code",
   "execution_count": 3,
   "metadata": {},
   "outputs": [],
   "source": [
    "import re\n",
    "from collections import defaultdict\n",
    "\n",
    "def file_to_graph(filename):  # head\n",
    "    with open(filename) as f:\n",
    "        content = f.readlines()    \n",
    "    pattern = re.compile('\\d+')\n",
    "    matches = [re.findall(pattern, e) for e in content]  \n",
    "    # first line is number of nodes and edges\n",
    "    num_of_nodes, num_of_edges = [int(x) for x in matches[0]]\n",
    "    integers = [[int(x) for x in n] for n in matches[1:]]\n",
    "    graph = defaultdict(list)\n",
    "    for x in integers:\n",
    "        graph[x[0]].append({'head': x[1], 'length': x[2]})\n",
    "    return graph\n",
    "\n",
    "def file_to_graph_(filename):  # tail\n",
    "    with open(filename) as f:\n",
    "        content = f.readlines()    \n",
    "    pattern = re.compile('\\d+')\n",
    "    matches = [re.findall(pattern, e) for e in content]  \n",
    "    # first line is number of nodes and edges\n",
    "    num_of_nodes, num_of_edges = [int(x) for x in matches[0]]\n",
    "    integers = [[int(x) for x in n] for n in matches[1:]]\n",
    "    graph = defaultdict(list)\n",
    "    for x in integers:\n",
    "        graph[x[1]].append({'tail': x[0], 'length': x[2]})\n",
    "    return graph"
   ]
  },
  {
   "cell_type": "code",
   "execution_count": 38,
   "metadata": {},
   "outputs": [
    {
     "data": {
      "text/plain": [
       "defaultdict(list,\n",
       "            {1: [{'head': 2, 'length': 2}, {'head': 5, 'length': 3}],\n",
       "             2: [{'head': 4, 'length': 2}],\n",
       "             3: [{'head': 1, 'length': 1}],\n",
       "             4: [{'head': 1, 'length': 4},\n",
       "              {'head': 3, 'length': 1},\n",
       "              {'head': 5, 'length': 2}],\n",
       "             5: [{'head': 3, 'length': 1}]})"
      ]
     },
     "execution_count": 38,
     "metadata": {},
     "output_type": "execute_result"
    }
   ],
   "source": [
    "graph = file_to_graph('datasets/bellman_ford_test.txt')\n",
    "graph"
   ]
  },
  {
   "cell_type": "code",
   "execution_count": 7,
   "metadata": {},
   "outputs": [],
   "source": [
    "import numpy as np\n",
    "import pandas as pd\n",
    "\n",
    "def floyd(graph):\n",
    "    nodes = list(graph.keys())\n",
    "    n = len(nodes)\n",
    "    panel = pd.Panel(np.full((n+1, n, n), np.inf), \n",
    "                     items=range(0, n+1),\n",
    "                     major_axis=range(1, n+1),\n",
    "                     minor_axis=range(1, n+1))\n",
    "    df = panel.to_frame()\n",
    "    # set values for k = 0\n",
    "    for i in range(1,n+1):\n",
    "        df.loc[i,i].loc[0] = 0\n",
    "        tails = graph[i]\n",
    "        for t in tails:\n",
    "            df.loc[i, t['head']].loc[0] = t['length']\n",
    "    # main logic\n",
    "    for k in range(1, n+1):\n",
    "        for i in range(1, n+1):\n",
    "            for j in range(1, n+1):\n",
    "                m1 = df.loc[i,j].loc[k-1]\n",
    "                m2 = df.loc[i,k].loc[k-1] + df.loc[k,j].loc[k-1]\n",
    "                df.loc[i,j].loc[k] = min(m1, m2)\n",
    "    # get shortest distance and check negative cycle\n",
    "    output = df[n] # k = n, get shortest distance for each pair of i,j\n",
    "    for i in range(1, n+1):\n",
    "        if output[i][i] < 0:\n",
    "            raise ValueError('Negative cycle found!')\n",
    "            \n",
    "    return output # to get the shortest_dist from i to j, do output[i][j] or output.loc[i, j]"
   ]
  },
  {
   "cell_type": "code",
   "execution_count": 9,
   "metadata": {},
   "outputs": [
    {
     "name": "stderr",
     "output_type": "stream",
     "text": [
      "/Library/Frameworks/Python.framework/Versions/3.7/lib/python3.7/site-packages/ipykernel_launcher.py:1: FutureWarning: \n",
      "Panel is deprecated and will be removed in a future version.\n",
      "The recommended way to represent these types of 3-dimensional data are with a MultiIndex on a DataFrame, via the Panel.to_frame() method\n",
      "Alternatively, you can use the xarray package http://xarray.pydata.org/en/stable/.\n",
      "Pandas provides a `.to_xarray()` method to help automate this conversion.\n",
      "\n",
      "  \"\"\"Entry point for launching an IPython kernel.\n"
     ]
    },
    {
     "data": {
      "text/plain": [
       "4.0"
      ]
     },
     "execution_count": 9,
     "metadata": {},
     "output_type": "execute_result"
    }
   ],
   "source": [
    "x = floyd(graph)\n",
    "x[1,4]"
   ]
  },
  {
   "cell_type": "code",
   "execution_count": 25,
   "metadata": {},
   "outputs": [
    {
     "data": {
      "text/plain": [
       "defaultdict(dict,\n",
       "            {1: {2: 2, 5: 3},\n",
       "             2: {4: 2},\n",
       "             3: {1: 1},\n",
       "             4: {1: 4, 3: 1, 5: 2},\n",
       "             5: {3: 1}})"
      ]
     },
     "execution_count": 25,
     "metadata": {},
     "output_type": "execute_result"
    }
   ],
   "source": [
    "from collections import defaultdict\n",
    "\n",
    "def convert_graph(graph):\n",
    "    out = defaultdict(dict)\n",
    "    for k, v in graph.items():\n",
    "        for x in v:\n",
    "            out[k][x['head']] = x['length']\n",
    "    return out\n",
    "\n",
    "def convert_graph_list(graph):\n",
    "    out = []\n",
    "    for k, v in graph.items():\n",
    "        for x in v:\n",
    "            out.append((k, x['head'], x['length']))\n",
    "    return out\n",
    "\n",
    "gg = convert_graph(graph)\n",
    "gg"
   ]
  },
  {
   "cell_type": "code",
   "execution_count": 33,
   "metadata": {},
   "outputs": [],
   "source": [
    "# Johnson's algorithm\n",
    "\n",
    "import networkx as nx\n",
    "g = nx.DiGraph()\n",
    "g.add_weighted_edges_from([(1, 2, 2), (1, 5, 3), (2,4, 2), (3, 1, 1), (4, 1, 4),(4,3,1),(4,5,2),(5,3,1)])\n",
    "paths = nx.johnson(g, weight='weight')\n",
    "return paths  # shortest paths for each pair \n",
    "\n",
    "def calc_length(graph, path):\n",
    "    output = 0\n",
    "    for i in range(len(path)-1):\n",
    "        output += graph[path[i]][path[i+1]]\n",
    "    return output"
   ]
  },
  {
   "cell_type": "code",
   "execution_count": 34,
   "metadata": {},
   "outputs": [
    {
     "data": {
      "text/plain": [
       "4"
      ]
     },
     "execution_count": 34,
     "metadata": {},
     "output_type": "execute_result"
    }
   ],
   "source": [
    "calc_length(gg, paths[1][4])  # the shortest path length from 1 to 4"
   ]
  },
  {
   "cell_type": "code",
   "execution_count": 40,
   "metadata": {},
   "outputs": [],
   "source": [
    "g1 = file_to_graph('datasets/g1.txt')\n",
    "g2 = file_to_graph('datasets/g2.txt')\n",
    "g3 = file_to_graph('datasets/g3.txt')"
   ]
  },
  {
   "cell_type": "code",
   "execution_count": 49,
   "metadata": {},
   "outputs": [],
   "source": [
    "# In this assignment you will implement one or more algorithms for the all-pairs shortest-path problem.\n",
    "# Here are data files describing three graphs:\n",
    "\n",
    "# The first line indicates the number of vertices and edges, respectively. \n",
    "# Each subsequent line describes an edge (the first two numbers are its tail and head, respectively) \n",
    "# and its length (the third number). \n",
    "# NOTE: some of the edge lengths are negative. \n",
    "# NOTE: These graphs may or may not have negative-cost cycles.\n",
    "\n",
    "# Your task is to compute the \"shortest shortest path\". Precisely, you must first identify which, \n",
    "# if any, of the three graphs have no negative cycles. For each such graph, you should compute \n",
    "# all-pairs shortest paths and remember the smallest one \n",
    "# (i.e., compute minu,vExistVd(u,v), where d(u,v) denotes the shortest-path distance from u to v).\n",
    "\n",
    "# If each of the three graphs has a negative-cost cycle, then enter \"NULL\" in the box below. \n",
    "# If exactly one graph has no negative-cost cycles, then enter the length of its shortest shortest \n",
    "# path in the box below. If two or more of the graphs have no negative-cost cycles, then enter the \n",
    "# smallest of the lengths of their shortest shortest paths in the box below.\n",
    "\n",
    "# OPTIONAL: You can use whatever algorithm you like to solve this question. If you have extra time, \n",
    "# try comparing the performance of different all-pairs shortest-path algorithms!\n",
    "\n",
    "GRAPH_test_1_FILENAME = \"data/tests/all-pairs-shortest-path-graph-test-1.txt\" # result: negative cycle\n",
    "GRAPH_test_2_FILENAME = \"data/tests/all-pairs-shortest-path-graph-test-2.txt\" # result: negative cycle\n",
    "GRAPH_test_3_FILENAME = \"data/tests/all-pairs-shortest-path-graph-test-3.txt\" # result: -3\n",
    "\n",
    "GRAPH_1_FILENAME = \"data/all-pairs-shortest-path-graph-1.txt\" # result: negative cycle\n",
    "GRAPH_2_FILENAME = \"data/all-pairs-shortest-path-graph-2.txt\" # result: negative cycle\n",
    "GRAPH_3_FILENAME = \"data/all-pairs-shortest-path-graph-3.txt\" # result: -19\n",
    "\n",
    "# graphs = [GRAPH_1_FILENAME, GRAPH_2_FILENAME, GRAPH_3_FILENAME] # result: -19\n",
    "graphs = [GRAPH_test_1_FILENAME, GRAPH_test_2_FILENAME, GRAPH_test_3_FILENAME] # result: -3\n",
    "\n",
    "\n",
    "def initialize(graph, source):\n",
    "    destination = {}\n",
    "    predecessor = {}\n",
    "    for vertice in graph:\n",
    "        destination[vertice] = float('Inf')\n",
    "        predecessor[vertice] = None\n",
    "    destination[source] = 0\n",
    "    return destination, predecessor\n",
    "\n",
    "def relax(vertice, previous, graph, distance, predecessor):\n",
    "    if distance[previous] > distance[vertice] + graph[vertice][previous]:\n",
    "        distance[previous] = distance[vertice] + graph[vertice][previous]\n",
    "        predecessor[previous] = vertice\n",
    "\n",
    "def bellman_ford(graph, source):\n",
    "    global has_cycle\n",
    "\n",
    "    distance, predecessor = initialize(graph, source)\n",
    "    for i in range(len(graph)-1):\n",
    "        for u in graph:\n",
    "            for v in graph[u]:\n",
    "                relax(u, v, graph, distance, predecessor)\n",
    "\n",
    "    # check for negative cycles\n",
    "    for u in graph:\n",
    "        for v in graph[u]:\n",
    "            if distance[v] > distance[u] + graph[u][v]:\n",
    "                has_cycle = True\n",
    "\n",
    "    return distance, predecessor\n",
    "\n",
    "def getSmallest(distances, smallest):\n",
    "    for idx in distances:\n",
    "        if not smallest or distances[idx] < smallest:\n",
    "            smallest = distances[idx]\n",
    "\n",
    "    return smallest\n",
    "\n",
    "smallest = False\n",
    "\n",
    "for g in graphs:\n",
    "\n",
    "    small = False\n",
    "    has_cycle = False\n",
    "    inFile = open(g, 'r') \n",
    "\n",
    "    num_vertices = 0\n",
    "    num_edges = 0\n",
    "    graph = {}\n",
    "    vertices = []\n",
    "\n",
    "    # initializing the graph with an array of edges [tale, head]\n",
    "    for f in inFile:\n",
    "        if(num_vertices == 0):\n",
    "            num_vertices, num_edges = map(int, f.split())\n",
    "        else: \n",
    "            tale, head, length = map(int, f.split())\n",
    "            if tale not in vertices:\n",
    "                vertices.append(tale)\n",
    "            if head not in vertices:\n",
    "                vertices.append(head)\n",
    "            if tale not in graph:\n",
    "                graph[tale] = {}\n",
    "            graph[tale][head] = length\n",
    "\n",
    "    vertices = sorted(vertices)\n",
    "\n",
    "    # adding vertices without outgoing edges\n",
    "    for vertice in vertices:\n",
    "        if vertice not in graph:\n",
    "            graph[vertice] = {}\n",
    "\n",
    "    for vertice in vertices:\n",
    "        d, p = bellman_ford(graph, vertice)\n",
    "        small = getSmallest(d, small)\n",
    "\n",
    "    if has_cycle:\n",
    "        continue\n",
    "    elif not smallest or smallest > small:\n",
    "        smallest = small\n",
    "\n",
    "\n",
    "if not smallest:\n",
    "    print 'result: NULL'\n",
    "else:\n",
    "    print 'result: ' + str(smallest)\n"
   ]
  },
  {
   "cell_type": "code",
   "execution_count": null,
   "metadata": {},
   "outputs": [],
   "source": []
  }
 ],
 "metadata": {
  "kernelspec": {
   "display_name": "Python 3",
   "language": "python",
   "name": "python3"
  },
  "language_info": {
   "codemirror_mode": {
    "name": "ipython",
    "version": 3
   },
   "file_extension": ".py",
   "mimetype": "text/x-python",
   "name": "python",
   "nbconvert_exporter": "python",
   "pygments_lexer": "ipython3",
   "version": "3.7.0"
  }
 },
 "nbformat": 4,
 "nbformat_minor": 2
}

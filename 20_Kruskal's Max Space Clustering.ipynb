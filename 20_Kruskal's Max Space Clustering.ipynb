{
 "cells": [
  {
   "cell_type": "markdown",
   "metadata": {},
   "source": [
    "<img src='images/union-find.png' width=600>"
   ]
  },
  {
   "cell_type": "code",
   "execution_count": 140,
   "metadata": {
    "collapsed": true
   },
   "outputs": [],
   "source": [
    "# n = 5\n",
    "# Expected result for test1:\n",
    "# For K = 2 -> 8\n",
    "# For K = 3 -> 4\n",
    "# For K = 4 -> 1\n",
    "\n",
    "test1 = [\n",
    "    (1, 2, 1),\n",
    "    (1, 3, 4),\n",
    "    (1, 4, 5),\n",
    "    (1, 5, 10),\n",
    "    (2, 3, 5),\n",
    "    (2, 4, 4),\n",
    "    (2, 5, 8),\n",
    "    (3, 4, 1),\n",
    "    (3, 5, 12),\n",
    "    (4, 5, 11)\n",
    "]\n",
    "\n",
    "# n = 5\n",
    "# Expected result:\n",
    "# For K = 2 -> 5\n",
    "# For K = 3 -> 2\n",
    "# For K = 4 -> 1\n",
    "\n",
    "test2 = [\n",
    "    (1, 2, 1),\n",
    "    (1, 3, 2),\n",
    "    (1, 4, 4),\n",
    "    (1, 5, 5),\n",
    "    (2, 3, 4),\n",
    "    (2, 4, 3),\n",
    "    (2, 5, 6),\n",
    "    (3, 4, 1),\n",
    "    (3, 5, 7),\n",
    "    (4, 5, 8)\n",
    "]\n"
   ]
  },
  {
   "cell_type": "code",
   "execution_count": 118,
   "metadata": {
    "collapsed": true
   },
   "outputs": [],
   "source": [
    "from collections import defaultdict\n",
    "def convert_graph(lst):\n",
    "    graph = defaultdict(dict)\n",
    "    for t in lst:\n",
    "        graph[t[0]][t[1]] = t[2]\n",
    "        graph[t[1]][t[0]] = t[2]\n",
    "    return graph\n"
   ]
  },
  {
   "cell_type": "code",
   "execution_count": 124,
   "metadata": {},
   "outputs": [],
   "source": [
    "class UnionFind:\n",
    "    def __init__(self, n):\n",
    "        self.node = n\n",
    "        self.leader = self\n",
    "        self.members = [self]\n",
    "    def __repr__(self):\n",
    "        return '<UnionFind {}>'.format(self.node)\n",
    "    \n",
    "\n",
    "def union(uf1, uf2, s):  # s: remove node from set\n",
    "    assert isinstance(uf1, UnionFind) and isinstance(uf2, UnionFind), 'Not instance of UnionFind' \n",
    "    # cluster that has more members will keep leader point\n",
    "    # whereas cluster with fewer members will update leader point\n",
    "    # if number of members eqal\n",
    "    # the node with smaller value keep leader point\n",
    "    \n",
    "    if uf1.leader is uf2.leader:\n",
    "        return \n",
    "\n",
    "    if len(uf1.leader.members) <= len(uf2.leader.members):\n",
    "        s.remove(uf1.leader.node)\n",
    "        uf2.leader.members.extend(uf1.leader.members)\n",
    "        for uf in uf1.leader.members:\n",
    "            uf.leader = uf2.leader\n",
    "            uf.members = []\n",
    "    else:\n",
    "        s.remove(uf2.leader.node)\n",
    "        uf1.leader.members.extend(uf2.leader.members)\n",
    "        for uf in uf2.leader.members:\n",
    "            uf.leader = uf1.leader\n",
    "            uf.members = []\n",
    "                \n",
    "\n",
    "def cluster(lst, k):\n",
    "    graph = convert_graph(lst)\n",
    "    nodes = set(graph.keys())\n",
    "    \n",
    "    lst.sort(key=lambda x: x[2])\n",
    "    ufs = {n: UnionFind(n) for n in nodes}\n",
    "    \n",
    "    i = 0\n",
    "    while len(nodes) > k:\n",
    "        edge = lst[i]\n",
    "        union(ufs[edge[0]], ufs[edge[1]], nodes)\n",
    "        i += 1\n",
    "\n",
    "    return ufs, nodes, lst[i:]\n",
    "\n",
    "\n",
    "def max_space(ufs, nodes, lst_rest):\n",
    "    cur_len = len(nodes)\n",
    "    \n",
    "    i = 0\n",
    "    while len(nodes) == cur_len:\n",
    "        edge = lst[i]\n",
    "        space = edge[2]\n",
    "        union(ufs[edge[0]], ufs[edge[1]], nodes)\n",
    "        i += 1\n",
    "        \n",
    "    return space\n",
    "\n",
    "\n",
    "import copy\n",
    "def max_space_(lst, k):\n",
    "    graph = convert_graph(lst)\n",
    "    nodes = set(graph.keys())\n",
    "    \n",
    "    lst.sort(key=lambda x: x[2])\n",
    "    ufs = {n: UnionFind(n) for n in nodes}\n",
    "    \n",
    "    i = 0\n",
    "    while len(nodes) >= k:\n",
    "        edge = lst[i]\n",
    "        space = edge[2]\n",
    "        union(ufs[edge[0]], ufs[edge[1]], nodes)\n",
    "        i += 1\n",
    "        \n",
    "    return space"
   ]
  },
  {
   "cell_type": "code",
   "execution_count": 122,
   "metadata": {},
   "outputs": [
    {
     "data": {
      "text/plain": [
       "({1: <UnionFind 1>,\n",
       "  2: <UnionFind 2>,\n",
       "  3: <UnionFind 3>,\n",
       "  4: <UnionFind 4>,\n",
       "  5: <UnionFind 5>},\n",
       " {4, 5},\n",
       " [(2, 4, 4),\n",
       "  (1, 4, 5),\n",
       "  (2, 3, 5),\n",
       "  (2, 5, 8),\n",
       "  (1, 5, 10),\n",
       "  (4, 5, 11),\n",
       "  (3, 5, 12)])"
      ]
     },
     "execution_count": 122,
     "metadata": {},
     "output_type": "execute_result"
    }
   ],
   "source": [
    "ufs, nodes, lst = cluster(test1, 2)\n",
    "ufs, nodes, lst "
   ]
  },
  {
   "cell_type": "code",
   "execution_count": 123,
   "metadata": {},
   "outputs": [
    {
     "data": {
      "text/plain": [
       "8"
      ]
     },
     "execution_count": 123,
     "metadata": {},
     "output_type": "execute_result"
    }
   ],
   "source": [
    "max_space(ufs, nodes, lst)"
   ]
  },
  {
   "cell_type": "code",
   "execution_count": 128,
   "metadata": {},
   "outputs": [
    {
     "data": {
      "text/plain": [
       "4"
      ]
     },
     "execution_count": 128,
     "metadata": {},
     "output_type": "execute_result"
    }
   ],
   "source": [
    "max_space_(test1, 3)"
   ]
  },
  {
   "cell_type": "code",
   "execution_count": 144,
   "metadata": {},
   "outputs": [
    {
     "data": {
      "text/plain": [
       "5"
      ]
     },
     "execution_count": 144,
     "metadata": {},
     "output_type": "execute_result"
    }
   ],
   "source": [
    "max_space_(test2, 2)"
   ]
  },
  {
   "cell_type": "code",
   "execution_count": 130,
   "metadata": {},
   "outputs": [],
   "source": [
    "with open('datasets/clustering1.txt') as f:\n",
    "    content = f.readlines()\n",
    "    \n",
    "num_of_nodes = int(content[0].strip())\n",
    "\n",
    "import re\n",
    "pattern = re.compile('\\d+')\n",
    "edges = [re.findall(pattern, e) for e in content[1:]]\n",
    "edges = [tuple([int(i) for i in j])for j in edges]"
   ]
  },
  {
   "cell_type": "code",
   "execution_count": 131,
   "metadata": {},
   "outputs": [
    {
     "data": {
      "text/plain": [
       "500"
      ]
     },
     "execution_count": 131,
     "metadata": {},
     "output_type": "execute_result"
    }
   ],
   "source": [
    "num_of_nodes"
   ]
  },
  {
   "cell_type": "code",
   "execution_count": 139,
   "metadata": {},
   "outputs": [
    {
     "data": {
      "text/plain": [
       "106"
      ]
     },
     "execution_count": 139,
     "metadata": {},
     "output_type": "execute_result"
    }
   ],
   "source": [
    "max_space_(edges, 4)"
   ]
  },
  {
   "cell_type": "code",
   "execution_count": null,
   "metadata": {
    "collapsed": true
   },
   "outputs": [],
   "source": []
  },
  {
   "cell_type": "markdown",
   "metadata": {
    "collapsed": true
   },
   "source": [
    "The format is:\n",
    "\n",
    "[# of nodes] [# of bits for each node’s label]\n",
    "\n",
    "[first bit of node 1] … [last bit of node 1]\n",
    "\n",
    "[first bit of node 2] … [last bit of node 2]\n",
    "\n",
    "…\n",
    "\n",
    "For example, the third line of the file “0 1 1 0 0 1 1 0 0 1 0 1 1 1 1 1 1 0 1 0 1 1 0 1” denotes the 24 bits associated with node #2.\n",
    "\n",
    "The distance between two nodes u and v in this problem is defined as the Hamming distance— the number of differing bits — between the two nodes’ labels. For example, the Hamming distance between the 24-bit label of node #2 above and the label “0 1 0 0 0 1 0 0 0 1 0 1 1 1 1 1 1 0 1 0 0 1 0 1” is 3 (since they differ in the 3rd, 7th, and 21st bits).\n",
    "\n",
    "The question is: what is the largest value of k such that there is a k-clustering with spacing at least 3? That is, how many clusters are needed to ensure that no pair of nodes with all but 2 bits in common get split into different clusters?\n",
    "\n",
    "NOTE: The graph implicitly defined by the data file is so big that you probably can’t write it out explicitly, let alone sort the edges by cost. So you will have to be a little creative to complete this part of the question. For example, is there some way you can identify the smallest distances without explicitly looking at every pair of nodes?"
   ]
  },
  {
   "cell_type": "code",
   "execution_count": 276,
   "metadata": {},
   "outputs": [],
   "source": [
    "# convert every node to a decimal int\n",
    "# 1d and 2d distance functions\n",
    "# hashtable for each node with uf data structure\n",
    "\n",
    "def convert_nodes(lst):\n",
    "    output = {}\n",
    "    for n in lst:\n",
    "        number = 0\n",
    "        # convert bits to decimal\n",
    "        for j, m in enumerate(reversed(n)):\n",
    "            if m == 1:\n",
    "                number += 2**j\n",
    "        output[number] = UnionFind(number)\n",
    "        uf = UnionFind(i)\n",
    "    return output\n",
    "\n",
    "# when two binary number differ only by 1 bit, the equivalent values of decimal\n",
    "def distance_1d(bits):\n",
    "    p1 = []\n",
    "    for n in range(0, bits):\n",
    "        p1.append(2**n)\n",
    "    return p1\n",
    "\n",
    "# when two binary number differ by 2 bit, the equivalent values of decimal\n",
    "def distance_2d(bits):\n",
    "    p2 = set()\n",
    "    for n in range(0, bits):\n",
    "        for m in (x for x in range(0, bits) if x != n):\n",
    "            p2.add(2**n + 2**m)\n",
    "    return list(p2) \n",
    "\n",
    "def distance_all(bits):\n",
    "    p1 = distance_1d(bits)\n",
    "    p2 = distance_2d(bits)\n",
    "    p = list(set(p1 + p2))\n",
    "    return p\n",
    "\n",
    "def cluster_(ufs_dict, nodes_set, diff_lst):\n",
    "    for n in nodes_set:\n",
    "        pv = [n - x for x in diff_lst] + [n + x for x in diff_lst]\n",
    "        for v in pv:\n",
    "            if v in ufs_dict:\n",
    "                union(ufs_dict[n], ufs_dict[v], nodes_set)\n",
    "    return ufs_dict, nodes_set, len(nodes_set)"
   ]
  },
  {
   "cell_type": "code",
   "execution_count": 279,
   "metadata": {
    "collapsed": true
   },
   "outputs": [],
   "source": [
    "# Expected result 6\n",
    "\n",
    "with open('datasets/clustering_test.txt') as f:\n",
    "    content = f.readlines()\n",
    "\n",
    "num, bits = [int(x) for x in re.findall(pattern, content[0])]\n",
    "nodes = [re.findall(pattern, n) for n in content[1:]]\n",
    "nodes = [[int(i) for i in j]for j in nodes]\n",
    "ufs = convert_nodes(nodes)\n",
    "n_set = set(ufs)\n",
    "d_lst = distance_all(bits)"
   ]
  },
  {
   "cell_type": "code",
   "execution_count": null,
   "metadata": {
    "collapsed": true
   },
   "outputs": [],
   "source": [
    "cluster_(ufs, n_set, d_lst)"
   ]
  }
 ],
 "metadata": {
  "kernelspec": {
   "display_name": "Python 3",
   "language": "python",
   "name": "python3"
  },
  "language_info": {
   "codemirror_mode": {
    "name": "ipython",
    "version": 3
   },
   "file_extension": ".py",
   "mimetype": "text/x-python",
   "name": "python",
   "nbconvert_exporter": "python",
   "pygments_lexer": "ipython3",
   "version": "3.6.2"
  }
 },
 "nbformat": 4,
 "nbformat_minor": 2
}

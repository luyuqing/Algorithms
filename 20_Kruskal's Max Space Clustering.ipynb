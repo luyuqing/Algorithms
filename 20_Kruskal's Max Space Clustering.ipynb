{
 "cells": [
  {
   "cell_type": "markdown",
   "metadata": {},
   "source": [
    "<img src='images/union-find.png' width=600>"
   ]
  },
  {
   "cell_type": "code",
   "execution_count": 140,
   "metadata": {
    "collapsed": true
   },
   "outputs": [],
   "source": [
    "# n = 5\n",
    "# Expected result for test1:\n",
    "# For K = 2 -> 8\n",
    "# For K = 3 -> 4\n",
    "# For K = 4 -> 1\n",
    "\n",
    "test1 = [\n",
    "    (1, 2, 1),\n",
    "    (1, 3, 4),\n",
    "    (1, 4, 5),\n",
    "    (1, 5, 10),\n",
    "    (2, 3, 5),\n",
    "    (2, 4, 4),\n",
    "    (2, 5, 8),\n",
    "    (3, 4, 1),\n",
    "    (3, 5, 12),\n",
    "    (4, 5, 11)\n",
    "]\n",
    "\n",
    "# n = 5\n",
    "# Expected result:\n",
    "# For K = 2 -> 5\n",
    "# For K = 3 -> 2\n",
    "# For K = 4 -> 1\n",
    "\n",
    "test2 = [\n",
    "    (1, 2, 1),\n",
    "    (1, 3, 2),\n",
    "    (1, 4, 4),\n",
    "    (1, 5, 5),\n",
    "    (2, 3, 4),\n",
    "    (2, 4, 3),\n",
    "    (2, 5, 6),\n",
    "    (3, 4, 1),\n",
    "    (3, 5, 7),\n",
    "    (4, 5, 8)\n",
    "]\n"
   ]
  },
  {
   "cell_type": "code",
   "execution_count": 118,
   "metadata": {
    "collapsed": true
   },
   "outputs": [],
   "source": [
    "from collections import defaultdict\n",
    "def convert_graph(lst):\n",
    "    graph = defaultdict(dict)\n",
    "    for t in lst:\n",
    "        graph[t[0]][t[1]] = t[2]\n",
    "        graph[t[1]][t[0]] = t[2]\n",
    "    return graph\n"
   ]
  },
  {
   "cell_type": "code",
   "execution_count": 124,
   "metadata": {},
   "outputs": [],
   "source": [
    "class UnionFind:\n",
    "    def __init__(self, n):\n",
    "        self.node = n\n",
    "        self.leader = self\n",
    "        self.members = [self]\n",
    "    def __repr__(self):\n",
    "        return '<UnionFind {}>'.format(self.node)\n",
    "    \n",
    "\n",
    "def union(uf1, uf2, s):  # s: remove node from set\n",
    "    assert isinstance(uf1, UnionFind) and isinstance(uf2, UnionFind), 'Not instance of UnionFind' \n",
    "    # cluster that has more members will keep leader point\n",
    "    # whereas cluster with fewer members will update leader point\n",
    "    # if number of members eqal\n",
    "    # the node with smaller value keep leader point\n",
    "    \n",
    "    if uf1.leader is uf2.leader:\n",
    "        return \n",
    "\n",
    "    if len(uf1.leader.members) <= len(uf2.leader.members):\n",
    "        s.remove(uf1.leader.node)\n",
    "        uf2.leader.members.extend(uf1.leader.members)\n",
    "        for uf in uf1.leader.members:\n",
    "            uf.leader = uf2.leader\n",
    "            uf.members = []\n",
    "    else:\n",
    "        s.remove(uf2.leader.node)\n",
    "        uf1.leader.members.extend(uf2.leader.members)\n",
    "        for uf in uf2.leader.members:\n",
    "            uf.leader = uf1.leader\n",
    "            uf.members = []\n",
    "                \n",
    "\n",
    "def cluster(lst, k):\n",
    "    graph = convert_graph(lst)\n",
    "    nodes = set(graph.keys())\n",
    "    \n",
    "    lst.sort(key=lambda x: x[2])\n",
    "    ufs = {n: UnionFind(n) for n in nodes}\n",
    "    \n",
    "    i = 0\n",
    "    while len(nodes) > k:\n",
    "        edge = lst[i]\n",
    "        union(ufs[edge[0]], ufs[edge[1]], nodes)\n",
    "        i += 1\n",
    "\n",
    "    return ufs, nodes, lst[i:]\n",
    "\n",
    "\n",
    "def max_space(ufs, nodes, lst_rest):\n",
    "    cur_len = len(nodes)\n",
    "    \n",
    "    i = 0\n",
    "    while len(nodes) == cur_len:\n",
    "        edge = lst[i]\n",
    "        space = edge[2]\n",
    "        union(ufs[edge[0]], ufs[edge[1]], nodes)\n",
    "        i += 1\n",
    "        \n",
    "    return space\n",
    "\n",
    "\n",
    "import copy\n",
    "def max_space_(lst, k):\n",
    "    graph = convert_graph(lst)\n",
    "    nodes = set(graph.keys())\n",
    "    \n",
    "    lst.sort(key=lambda x: x[2])\n",
    "    ufs = {n: UnionFind(n) for n in nodes}\n",
    "    \n",
    "    i = 0\n",
    "    while len(nodes) >= k:\n",
    "        edge = lst[i]\n",
    "        space = edge[2]\n",
    "        union(ufs[edge[0]], ufs[edge[1]], nodes)\n",
    "        i += 1\n",
    "        \n",
    "    return space"
   ]
  },
  {
   "cell_type": "code",
   "execution_count": 122,
   "metadata": {},
   "outputs": [
    {
     "data": {
      "text/plain": [
       "({1: <UnionFind 1>,\n",
       "  2: <UnionFind 2>,\n",
       "  3: <UnionFind 3>,\n",
       "  4: <UnionFind 4>,\n",
       "  5: <UnionFind 5>},\n",
       " {4, 5},\n",
       " [(2, 4, 4),\n",
       "  (1, 4, 5),\n",
       "  (2, 3, 5),\n",
       "  (2, 5, 8),\n",
       "  (1, 5, 10),\n",
       "  (4, 5, 11),\n",
       "  (3, 5, 12)])"
      ]
     },
     "execution_count": 122,
     "metadata": {},
     "output_type": "execute_result"
    }
   ],
   "source": [
    "ufs, nodes, lst = cluster(test1, 2)\n",
    "ufs, nodes, lst "
   ]
  },
  {
   "cell_type": "code",
   "execution_count": 123,
   "metadata": {},
   "outputs": [
    {
     "data": {
      "text/plain": [
       "8"
      ]
     },
     "execution_count": 123,
     "metadata": {},
     "output_type": "execute_result"
    }
   ],
   "source": [
    "max_space(ufs, nodes, lst)"
   ]
  },
  {
   "cell_type": "code",
   "execution_count": 128,
   "metadata": {},
   "outputs": [
    {
     "data": {
      "text/plain": [
       "4"
      ]
     },
     "execution_count": 128,
     "metadata": {},
     "output_type": "execute_result"
    }
   ],
   "source": [
    "max_space_(test1, 3)"
   ]
  },
  {
   "cell_type": "code",
   "execution_count": 144,
   "metadata": {},
   "outputs": [
    {
     "data": {
      "text/plain": [
       "5"
      ]
     },
     "execution_count": 144,
     "metadata": {},
     "output_type": "execute_result"
    }
   ],
   "source": [
    "max_space_(test2, 2)"
   ]
  },
  {
   "cell_type": "code",
   "execution_count": 130,
   "metadata": {},
   "outputs": [],
   "source": [
    "with open('datasets/clustering1.txt') as f:\n",
    "    content = f.readlines()\n",
    "    \n",
    "num_of_nodes = int(content[0].strip())\n",
    "\n",
    "import re\n",
    "pattern = re.compile('\\d+')\n",
    "edges = [re.findall(pattern, e) for e in content[1:]]\n",
    "edges = [tuple([int(i) for i in j])for j in edges]"
   ]
  },
  {
   "cell_type": "code",
   "execution_count": 131,
   "metadata": {},
   "outputs": [
    {
     "data": {
      "text/plain": [
       "500"
      ]
     },
     "execution_count": 131,
     "metadata": {},
     "output_type": "execute_result"
    }
   ],
   "source": [
    "num_of_nodes"
   ]
  },
  {
   "cell_type": "code",
   "execution_count": 139,
   "metadata": {},
   "outputs": [
    {
     "data": {
      "text/plain": [
       "106"
      ]
     },
     "execution_count": 139,
     "metadata": {},
     "output_type": "execute_result"
    }
   ],
   "source": [
    "max_space_(edges, 4)"
   ]
  },
  {
   "cell_type": "code",
   "execution_count": null,
   "metadata": {
    "collapsed": true
   },
   "outputs": [],
   "source": []
  },
  {
   "cell_type": "code",
   "execution_count": 154,
   "metadata": {
    "collapsed": true
   },
   "outputs": [],
   "source": [
    "# Expected result 6\n",
    "\n",
    "with open('datasets/clustering_test.txt') as f:\n",
    "    content = f.readlines()\n",
    "\n",
    "num, bits = [int(x) for x in re.findall(pattern, content[0])]\n",
    "nodes = [re.findall(pattern, n) for n in content[1:]]\n",
    "nodes = [tuple([int(i) for i in j])for j in nodes]"
   ]
  },
  {
   "cell_type": "code",
   "execution_count": 152,
   "metadata": {},
   "outputs": [],
   "source": []
  },
  {
   "cell_type": "code",
   "execution_count": null,
   "metadata": {
    "collapsed": true
   },
   "outputs": [],
   "source": []
  }
 ],
 "metadata": {
  "kernelspec": {
   "display_name": "Python 3",
   "language": "python",
   "name": "python3"
  },
  "language_info": {
   "codemirror_mode": {
    "name": "ipython",
    "version": 3
   },
   "file_extension": ".py",
   "mimetype": "text/x-python",
   "name": "python",
   "nbconvert_exporter": "python",
   "pygments_lexer": "ipython3",
   "version": "3.6.2"
  }
 },
 "nbformat": 4,
 "nbformat_minor": 2
}

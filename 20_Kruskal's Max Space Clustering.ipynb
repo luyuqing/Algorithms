{
 "cells": [
  {
   "cell_type": "markdown",
   "metadata": {},
   "source": [
    "<img src='images/union-find.png' width=600>"
   ]
  },
  {
   "cell_type": "code",
   "execution_count": 62,
   "metadata": {
    "collapsed": true
   },
   "outputs": [],
   "source": [
    "# n = 5\n",
    "# Expected result:\n",
    "# For K = 2 -> 8\n",
    "# For K = 3 -> 4\n",
    "# For K = 4 -> 1\n",
    "\n",
    "test1 = [\n",
    "    (1, 2, 1),\n",
    "    (1, 3, 4),\n",
    "    (1, 4, 5),\n",
    "    (1, 5, 10),\n",
    "    (2, 3, 5),\n",
    "    (2, 4, 4),\n",
    "    (2, 5, 8),\n",
    "    (3, 4, 1),\n",
    "    (3, 5, 12),\n",
    "    (4, 5, 11)\n",
    "]"
   ]
  },
  {
   "cell_type": "code",
   "execution_count": 63,
   "metadata": {
    "collapsed": true
   },
   "outputs": [],
   "source": [
    "from collections import defaultdict\n",
    "def convert_graph(lst):\n",
    "    graph = defaultdict(dict)\n",
    "    for t in lst:\n",
    "        graph[t[0]][t[1]] = t[2]\n",
    "        graph[t[1]][t[0]] = t[2]\n",
    "    return graph"
   ]
  },
  {
   "cell_type": "code",
   "execution_count": 74,
   "metadata": {},
   "outputs": [],
   "source": [
    "class UnionFind:\n",
    "    def __init__(self, n):\n",
    "        self.node = n\n",
    "        self.leader = self\n",
    "        self.members = [self]\n",
    "    def __repr__(self):\n",
    "        return '<UnionFind {}>'.format(self.node)\n",
    "    \n",
    "\n",
    "def union(uf1, uf2, s):  # s: remove node from set\n",
    "    assert isinstance(uf1, UnionFind) and isinstance(uf2, UnionFind), 'Not instance of UnionFind' \n",
    "    # cluster that has more members will keep leader point\n",
    "    # whereas cluster with fewer members will update leader point\n",
    "    # if number of members eqal\n",
    "    # the node with smaller value keep leader point\n",
    "    \n",
    "    if uf1.leader is uf2.leader:\n",
    "        return \n",
    "\n",
    "    if len(uf1.leader.members) <= len(uf2.leader.members):\n",
    "        s.remove(uf1.leader.node)\n",
    "        uf2.leader.members.extend(uf1.leader.members)\n",
    "        for uf in uf1.leader.members:\n",
    "            uf.leader = uf2.leader\n",
    "            uf.members = []\n",
    "    else:\n",
    "        s.remove(uf2.leader.node)\n",
    "        uf1.leader.members.extend(uf2.leader.members)\n",
    "        for uf in uf2.leader.members:\n",
    "            uf.leader = uf1.leader\n",
    "            uf.members = []\n",
    "                \n",
    "\n",
    "def cluster(lst, k):\n",
    "    graph = convert_graph(lst)\n",
    "    nodes = set(graph.keys())\n",
    "    \n",
    "    lst.sort(key=lambda x: x[2])\n",
    "    ufs = {n: UnionFind(n) for n in nodes}\n",
    "    \n",
    "    i = 0\n",
    "    cur_space = 99999\n",
    "    while len(nodes) > k:\n",
    "        edge = lst[i]\n",
    "        print(edge)\n",
    "        cur_space = edge[2]  # cost of edge\n",
    "        union(ufs[edge[0]], ufs[edge[1]], nodes)\n",
    "        i += 1\n",
    "\n",
    "    return ufs, nodes, lst[i:]\n",
    "\n",
    "\n",
    "def max_space():\n",
    "    pass"
   ]
  },
  {
   "cell_type": "code",
   "execution_count": 76,
   "metadata": {},
   "outputs": [
    {
     "name": "stdout",
     "output_type": "stream",
     "text": [
      "(1, 2, 1)\n",
      "(3, 4, 1)\n",
      "(1, 3, 4)\n"
     ]
    },
    {
     "data": {
      "text/plain": [
       "({1: <UnionFind 1>,\n",
       "  2: <UnionFind 2>,\n",
       "  3: <UnionFind 3>,\n",
       "  4: <UnionFind 4>,\n",
       "  5: <UnionFind 5>},\n",
       " {4, 5},\n",
       " [(2, 4, 4),\n",
       "  (1, 4, 5),\n",
       "  (2, 3, 5),\n",
       "  (2, 5, 8),\n",
       "  (1, 5, 10),\n",
       "  (4, 5, 11),\n",
       "  (3, 5, 12)])"
      ]
     },
     "execution_count": 76,
     "metadata": {},
     "output_type": "execute_result"
    }
   ],
   "source": [
    "ufs, nodes, lst = cluster(test1, 2)\n",
    "ufs, nodes, lst \n"
   ]
  },
  {
   "cell_type": "code",
   "execution_count": 67,
   "metadata": {},
   "outputs": [
    {
     "data": {
      "text/plain": [
       "<UnionFind 2>"
      ]
     },
     "execution_count": 67,
     "metadata": {},
     "output_type": "execute_result"
    }
   ],
   "source": [
    "ufs[2].leader"
   ]
  },
  {
   "cell_type": "code",
   "execution_count": null,
   "metadata": {
    "collapsed": true
   },
   "outputs": [],
   "source": []
  },
  {
   "cell_type": "code",
   "execution_count": null,
   "metadata": {
    "collapsed": true
   },
   "outputs": [],
   "source": []
  },
  {
   "cell_type": "code",
   "execution_count": 31,
   "metadata": {},
   "outputs": [
    {
     "data": {
      "text/plain": [
       "[(1, 2, 1),\n",
       " (3, 4, 1),\n",
       " (1, 3, 4),\n",
       " (2, 4, 4),\n",
       " (1, 4, 5),\n",
       " (2, 3, 5),\n",
       " (2, 5, 8),\n",
       " (1, 5, 10),\n",
       " (4, 5, 11),\n",
       " (3, 5, 12)]"
      ]
     },
     "execution_count": 31,
     "metadata": {},
     "output_type": "execute_result"
    }
   ],
   "source": [
    "sorted(test1, key=lambda x: x[2])"
   ]
  },
  {
   "cell_type": "code",
   "execution_count": null,
   "metadata": {
    "collapsed": true
   },
   "outputs": [],
   "source": []
  },
  {
   "cell_type": "code",
   "execution_count": null,
   "metadata": {
    "collapsed": true
   },
   "outputs": [],
   "source": []
  },
  {
   "cell_type": "code",
   "execution_count": null,
   "metadata": {
    "collapsed": true
   },
   "outputs": [],
   "source": []
  },
  {
   "cell_type": "code",
   "execution_count": null,
   "metadata": {
    "collapsed": true
   },
   "outputs": [],
   "source": []
  },
  {
   "cell_type": "code",
   "execution_count": null,
   "metadata": {
    "collapsed": true
   },
   "outputs": [],
   "source": []
  },
  {
   "cell_type": "code",
   "execution_count": null,
   "metadata": {
    "collapsed": true
   },
   "outputs": [],
   "source": []
  },
  {
   "cell_type": "code",
   "execution_count": 63,
   "metadata": {
    "collapsed": true
   },
   "outputs": [],
   "source": [
    "# 5, 5\n",
    "# Expected result: 2\n",
    "\n",
    "test2 = [\n",
    "    (0, 0, 0, 0, 0),\n",
    "    (1, 1, 1, 1, 1),\n",
    "    (0, 0, 0, 0, 1),\n",
    "    (1, 1, 1, 0, 0),\n",
    "    (0, 0, 0, 1, 0)\n",
    "]"
   ]
  },
  {
   "cell_type": "code",
   "execution_count": null,
   "metadata": {
    "collapsed": true
   },
   "outputs": [],
   "source": []
  },
  {
   "cell_type": "code",
   "execution_count": null,
   "metadata": {
    "collapsed": true
   },
   "outputs": [],
   "source": []
  }
 ],
 "metadata": {
  "kernelspec": {
   "display_name": "Python 3",
   "language": "python",
   "name": "python3"
  },
  "language_info": {
   "codemirror_mode": {
    "name": "ipython",
    "version": 3
   },
   "file_extension": ".py",
   "mimetype": "text/x-python",
   "name": "python",
   "nbconvert_exporter": "python",
   "pygments_lexer": "ipython3",
   "version": "3.6.2"
  }
 },
 "nbformat": 4,
 "nbformat_minor": 2
}

{
 "cells": [
  {
   "cell_type": "code",
   "execution_count": 1,
   "metadata": {
    "collapsed": true
   },
   "outputs": [],
   "source": [
    "# cyclic example\n",
    "graph_c = {\n",
    "    \"a\": [\"b\", \"c\", \"d\"],\n",
    "    \"b\": [],\n",
    "    \"c\": [\"d\", \"e\"],\n",
    "    \"d\": [],\n",
    "    \"e\": [\"g\", \"f\", \"q\"],\n",
    "    \"g\": [\"c\"],\n",
    "    \"f\": [],\n",
    "    \"q\": []\n",
    "}"
   ]
  },
  {
   "cell_type": "code",
   "execution_count": 2,
   "metadata": {
    "collapsed": true
   },
   "outputs": [],
   "source": [
    "# acyclic example\n",
    "graph_a = {\n",
    "    \"a\": [\"b\", \"c\", \"d\"],\n",
    "    \"b\": [\"f\"],\n",
    "    \"c\": [\"f\", \"e\"],\n",
    "    \"d\": [\"e\"],\n",
    "    \"e\": [\"g\", \"q\"],\n",
    "    \"g\": [],\n",
    "    \"f\": [],\n",
    "    \"q\": []\n",
    "}"
   ]
  },
  {
   "cell_type": "code",
   "execution_count": 3,
   "metadata": {
    "collapsed": true
   },
   "outputs": [],
   "source": [
    "from collections import deque\n",
    "\n",
    "GRAY, BLACK = 0, 1\n",
    "\n",
    "def topological(graph):\n",
    "    order, enter, state = deque(), set(graph), {}\n",
    "\n",
    "    def dfs(node):\n",
    "        state[node] = GRAY\n",
    "        for k in graph.get(node, ()):\n",
    "            sk = state.get(k, None)\n",
    "            if sk == GRAY: raise ValueError(\"cycle\")\n",
    "            if sk == BLACK: continue\n",
    "            enter.discard(k)\n",
    "            dfs(k)\n",
    "        order.appendleft(node)\n",
    "        state[node] = BLACK\n",
    "\n",
    "    while enter: dfs(enter.pop())\n",
    "    return order"
   ]
  },
  {
   "cell_type": "code",
   "execution_count": 4,
   "metadata": {},
   "outputs": [
    {
     "data": {
      "text/plain": [
       "deque(['a', 'd', 'b', 'c', 'e', 'g', 'f', 'q'])"
      ]
     },
     "execution_count": 4,
     "metadata": {},
     "output_type": "execute_result"
    }
   ],
   "source": [
    "topological(graph_a)"
   ]
  },
  {
   "cell_type": "code",
   "execution_count": 5,
   "metadata": {},
   "outputs": [
    {
     "name": "stdout",
     "output_type": "stream",
     "text": [
      "cycle\n"
     ]
    }
   ],
   "source": [
    "try:\n",
    "    topological(graph_c)\n",
    "except ValueError as e:\n",
    "    print(e)"
   ]
  },
  {
   "cell_type": "code",
   "execution_count": null,
   "metadata": {
    "collapsed": true
   },
   "outputs": [],
   "source": []
  },
  {
   "cell_type": "code",
   "execution_count": 6,
   "metadata": {
    "collapsed": true
   },
   "outputs": [],
   "source": [
    "def dfs_topsort(graph):         # recursive dfs with \n",
    "    L = []                      # additional list for order of nodes\n",
    "    color = { u : \"white\" for u in graph }\n",
    "    found_cycle = [False]\n",
    "    for u in graph:\n",
    "        if color[u] == \"white\":\n",
    "            dfs_visit(graph, u, color, L, found_cycle)\n",
    "        if found_cycle[0]:\n",
    "            break\n",
    " \n",
    "    if found_cycle[0]:           # if there is a cycle, \n",
    "        L = []                   # then return an empty list  \n",
    " \n",
    "    L.reverse()                  # reverse the list\n",
    "    return L                     # L contains the topological sort"
   ]
  },
  {
   "cell_type": "code",
   "execution_count": 7,
   "metadata": {
    "collapsed": true
   },
   "outputs": [],
   "source": [
    "def dfs_visit(graph, u, color, L, found_cycle):\n",
    "    if found_cycle[0]:\n",
    "        return\n",
    "    color[u] = \"gray\"\n",
    "    for v in graph[u]:\n",
    "        if color[v] == \"gray\":\n",
    "            found_cycle[0] = True\n",
    "            return\n",
    "        if color[v] == \"white\":\n",
    "            dfs_visit(graph, v, color, L, found_cycle)\n",
    "    color[u] = \"black\"      # when we're done with u,\n",
    "    L.append(u)             # add u to list (reverse it later!)"
   ]
  },
  {
   "cell_type": "code",
   "execution_count": 8,
   "metadata": {},
   "outputs": [
    {
     "data": {
      "text/plain": [
       "['a', 'd', 'c', 'e', 'q', 'g', 'b', 'f']"
      ]
     },
     "execution_count": 8,
     "metadata": {},
     "output_type": "execute_result"
    }
   ],
   "source": [
    "dfs_topsort(graph_a)"
   ]
  },
  {
   "cell_type": "code",
   "execution_count": null,
   "metadata": {
    "collapsed": true
   },
   "outputs": [],
   "source": []
  },
  {
   "cell_type": "markdown",
   "metadata": {},
   "source": [
    "<img src='images/11_Toplogical sort.png' width=500>"
   ]
  },
  {
   "cell_type": "code",
   "execution_count": 9,
   "metadata": {
    "collapsed": true
   },
   "outputs": [],
   "source": [
    "graph_tasks = { \"wash the dishes\" : [\"have lunch\"],\n",
    "                \"cook food\" : [\"have lunch\"],\n",
    "                \"have lunch\" : [],\n",
    "                \"wash laundry\" : [\"dry laundry\"],\n",
    "                \"dry laundry\" : [\"fold laundry\"],\n",
    "                \"fold laundry\" : [] }"
   ]
  },
  {
   "cell_type": "code",
   "execution_count": 10,
   "metadata": {},
   "outputs": [
    {
     "data": {
      "text/plain": [
       "['wash laundry',\n",
       " 'dry laundry',\n",
       " 'fold laundry',\n",
       " 'cook food',\n",
       " 'wash the dishes',\n",
       " 'have lunch']"
      ]
     },
     "execution_count": 10,
     "metadata": {},
     "output_type": "execute_result"
    }
   ],
   "source": [
    "dfs_topsort(graph_tasks)"
   ]
  },
  {
   "cell_type": "code",
   "execution_count": 11,
   "metadata": {},
   "outputs": [
    {
     "data": {
      "text/plain": [
       "[]"
      ]
     },
     "execution_count": 11,
     "metadata": {},
     "output_type": "execute_result"
    }
   ],
   "source": [
    "dfs_topsort({'a':'b', 'b':'c', 'c':'a'})"
   ]
  },
  {
   "cell_type": "code",
   "execution_count": null,
   "metadata": {
    "collapsed": true
   },
   "outputs": [],
   "source": []
  }
 ],
 "metadata": {
  "kernelspec": {
   "display_name": "Python 3",
   "language": "python",
   "name": "python3"
  },
  "language_info": {
   "codemirror_mode": {
    "name": "ipython",
    "version": 3
   },
   "file_extension": ".py",
   "mimetype": "text/x-python",
   "name": "python",
   "nbconvert_exporter": "python",
   "pygments_lexer": "ipython3",
   "version": "3.6.2"
  }
 },
 "nbformat": 4,
 "nbformat_minor": 2
}

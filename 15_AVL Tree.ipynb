{
 "cells": [
  {
   "cell_type": "code",
   "execution_count": 50,
   "metadata": {
    "collapsed": true
   },
   "outputs": [],
   "source": [
    "class Node:\n",
    "    def __init__(self, val):\n",
    "        assert(isinstance(val, (int, float))), 'Invalid value'\n",
    "        self.val = val\n",
    "        self.left_child = None\n",
    "        self.right_child = None\n",
    "        self.parent = None\n",
    "        self.height = None\n",
    "        self.level = None\n",
    "        \n",
    "    def __repr__(self):\n",
    "        return f'<{self.val}>'"
   ]
  },
  {
   "cell_type": "code",
   "execution_count": 51,
   "metadata": {
    "collapsed": true
   },
   "outputs": [],
   "source": [
    "node1 = Node(5)\n",
    "node2 = Node(3)\n",
    "node3 = Node(7)\n",
    "node4 = Node(2)"
   ]
  },
  {
   "cell_type": "code",
   "execution_count": 52,
   "metadata": {
    "collapsed": true
   },
   "outputs": [],
   "source": [
    "node1.left_child = node2\n",
    "node2.parent = node1\n",
    "node1.right_child = node3\n",
    "node3.parent = node1\n",
    "node4.parent = node2\n",
    "node2.left_child = node4"
   ]
  },
  {
   "cell_type": "code",
   "execution_count": 53,
   "metadata": {
    "collapsed": true
   },
   "outputs": [],
   "source": [
    "import math\n",
    "from collections import defaultdict\n",
    "\n",
    "class Tree:\n",
    "\n",
    "    def __init__(self, root=None):\n",
    "        if root is None:\n",
    "            self.root = None\n",
    "            self.height = 0\n",
    "        else:\n",
    "            self.root = root\n",
    "            self.height = self.get_height()\n",
    "    \n",
    "    @staticmethod\n",
    "    def _set_level(node):  # set level property for a specific node and in line parents\n",
    "        if not node.parent:\n",
    "            node.level = 1\n",
    "        else:\n",
    "            _set_level(node.parent)\n",
    "            node.level = node.parent.level + 1\n",
    "            \n",
    "    @staticmethod\n",
    "    def _get_height(node):  # get a specfic node height and set height to node and all offspring nodes\n",
    "        left_height = 1\n",
    "        right_height = 1\n",
    "        if node.left_child:\n",
    "            left_height = _get_height(node.left_child) + 1\n",
    "        if node.right_child:\n",
    "            right_height = _get_height(node.right_child) + 1\n",
    "        height = max(left_height, right_height)\n",
    "        node.height = height\n",
    "        return height\n",
    "    \n",
    "    def get_height(self):  # get total height and set height to all nodes in a tree\n",
    "        if not self.root:\n",
    "            return 0\n",
    "        else:\n",
    "            return self._get_height(self.root)\n",
    "        \n",
    "    @staticmethod\n",
    "    def _get_nodes(output: defaultdict(list), node):  # get defaultdict with node height as key, list of nodes as value\n",
    "        assert(isinstance(node, Node) and node.val), 'Invalid node'\n",
    "        assert(isinstance(output, defaultdict)), 'output must be of type defaultdict(list)'\n",
    "        if not node.level:\n",
    "            _set_level(node)  # This will set level for every node in a tree\n",
    "        output[node.level].append(node)\n",
    "        if node.left_child:\n",
    "            _get_nodes(output, node.left_child)\n",
    "        if node.right_child:\n",
    "            _get_nodes(output, node.right_child)\n",
    "        \n",
    "    def get_nodes(self):  # return a dict of level:list of nodes as key:value pair\n",
    "        output = defaultdict(list)\n",
    "        if self.root:\n",
    "            self._get_nodes(output, self.root)\n",
    "        return dict(output)\n",
    "    \n",
    "    @staticmethod\n",
    "    def get_pos(node):  # set pos property in node\n",
    "        if node.parent is None:\n",
    "            node.ho_pos = 2 * node.height  # horizontal position for root\n",
    "        else:  # horizontal position for node relative to parent node\n",
    "            if node is node.parent.left_child:\n",
    "                node.ho_pos = node.parent.ho_pos - 2\n",
    "            else:\n",
    "                node.ho_pos = node.parent.ho_pos + 2\n",
    "        \n",
    "    def draw_tree(self):\n",
    "        nodes = self.get_nodes()\n",
    "        content = '\\n'\n",
    "        while nodes:\n",
    "            cur_level = min(nodes.keys())\n",
    "            for node in nodes[cur_level]:\n",
    "                self.get_pos(node)\n",
    "            cur_line = sorted(nodes[cur_level], key=lambda n: n.ho_pos)  # sorted line of nodes by horizontal position\n",
    "            cur_line_str_lst = list(' ' * (cur_line[-1].ho_pos + 1)) # string does not support item assignment\n",
    "            below_line_mark_lst = cur_line_str_lst.copy()\n",
    "            mark_count = 0\n",
    "            for node in cur_line:\n",
    "                cur_line_str_lst[node.ho_pos] = str(node.val)\n",
    "                below_line_mark_lst[node.ho_pos-1 - mark_count*2] = '/ \\\\'  # '/ \\' takes three space      \n",
    "                mark_count += 1\n",
    "            cur_line_str = ''.join(cur_line_str_lst) + '\\n'\n",
    "            below_line_mark = ''.join(below_line_mark_lst) + '\\n'\n",
    "            content += cur_line_str\n",
    "            content += below_line_mark\n",
    "            del nodes[cur_level]\n",
    "        print(content)\n",
    "    \n",
    "    def _insert(self, root, node):\n",
    "        if node.val <= root.val:\n",
    "            if not root.left_child:\n",
    "                root.left_child = node\n",
    "                node.parent = root\n",
    "            else:\n",
    "                self._insert(root.left_child, node)\n",
    "        else:\n",
    "            if not root.right_child:\n",
    "                root.right_child = node\n",
    "                node.parent = root\n",
    "            else:\n",
    "                self._insert(root.right_child, node)\n",
    "                \n",
    "    def insert(self, node):\n",
    "        if not self.root:\n",
    "            self.root = node\n",
    "        else:\n",
    "            self._insert(self.root, node)\n",
    "            \n",
    "      "
   ]
  },
  {
   "cell_type": "code",
   "execution_count": 54,
   "metadata": {
    "collapsed": true
   },
   "outputs": [],
   "source": [
    "tree = Tree(node1)"
   ]
  },
  {
   "cell_type": "code",
   "execution_count": 55,
   "metadata": {},
   "outputs": [
    {
     "name": "stdout",
     "output_type": "stream",
     "text": [
      "\n",
      "      5\n",
      "     / \\ \n",
      "    3   7\n",
      "   / \\ / \\   \n",
      "  2\n",
      " / \\ \n",
      "\n"
     ]
    }
   ],
   "source": [
    "tree.draw_tree()"
   ]
  },
  {
   "cell_type": "code",
   "execution_count": null,
   "metadata": {
    "collapsed": true
   },
   "outputs": [],
   "source": [
    "# https://github.com/bfaure/Python3_Data_Structures/blob/master/AVL_Tree/main.py"
   ]
  }
 ],
 "metadata": {
  "kernelspec": {
   "display_name": "Python 3",
   "language": "python",
   "name": "python3"
  },
  "language_info": {
   "codemirror_mode": {
    "name": "ipython",
    "version": 3
   },
   "file_extension": ".py",
   "mimetype": "text/x-python",
   "name": "python",
   "nbconvert_exporter": "python",
   "pygments_lexer": "ipython3",
   "version": "3.7.0"
  }
 },
 "nbformat": 4,
 "nbformat_minor": 2
}

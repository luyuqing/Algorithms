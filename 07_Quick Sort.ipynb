{
 "cells": [
  {
   "cell_type": "markdown",
   "metadata": {},
   "source": [
    "Choose random pivot, average running time O(nlogn)\n",
    "<br>\n",
    "Partition takes O(n) and require no extra memory"
   ]
  },
  {
   "cell_type": "code",
   "execution_count": 2,
   "metadata": {
    "collapsed": true
   },
   "outputs": [],
   "source": [
    "import numpy as np\n",
    "import random"
   ]
  },
  {
   "cell_type": "code",
   "execution_count": 14,
   "metadata": {
    "collapsed": true
   },
   "outputs": [],
   "source": [
    "def quicksort(arr):\n",
    "    if len(arr) == 1 or len(arr) == 0:\n",
    "        return arr\n",
    "    \n",
    "    else:\n",
    "        (arr, p, p_value) = partition(arr, 0, len(arr)-1)\n",
    "        left = quicksort(arr[0:p])\n",
    "        right = quicksort(arr[p+1:])\n",
    "        return left + [p_value] + right\n",
    "    \n",
    "def partition(arr, l, r):\n",
    "    pivot = random.randint(l, r)\n",
    "    pivot_value = arr[pivot]\n",
    "    \n",
    "    if pivot != l:\n",
    "        temp = arr[l]\n",
    "        arr[l] = pivot_value\n",
    "        arr[pivot] = temp\n",
    "    \n",
    "    i = l+1\n",
    "    for j in range(l+1, r+1):\n",
    "        if arr[j] < pivot_value:\n",
    "            temp = arr[i]\n",
    "            arr[i] = arr[j]\n",
    "            arr[j] = temp\n",
    "            i += 1\n",
    "            \n",
    "    arr[l] = arr[i-1]\n",
    "    arr[i-1] = pivot_value\n",
    "    \n",
    "    return (arr[l:r+1], i-1, pivot_value)\n",
    "    "
   ]
  },
  {
   "cell_type": "code",
   "execution_count": 15,
   "metadata": {},
   "outputs": [
    {
     "data": {
      "text/plain": [
       "[1, 2, 3, 4, 4, 5, 6, 7, 11, 12]"
      ]
     },
     "execution_count": 15,
     "metadata": {},
     "output_type": "execute_result"
    }
   ],
   "source": [
    "quicksort([2,5,4,6,7,3,1,4,12,11])"
   ]
  },
  {
   "cell_type": "code",
   "execution_count": null,
   "metadata": {
    "collapsed": true
   },
   "outputs": [],
   "source": []
  },
  {
   "cell_type": "markdown",
   "metadata": {},
   "source": [
    "Assignment\n",
    "<br>\n",
    "<br>\n",
    "Your task is to compute the total number of comparisons used to sort the given input file by QuickSort. As you know, the number of comparisons depends on which elements are chosen as pivots, so we'll ask you to explore three different pivoting rules.\n",
    "<br>\n",
    "You should not count comparisons one-by-one. Rather, when there is a recursive call on a subarray of length m, you should simply add m−1 to your running total of comparisons. (This is because the pivot element is compared to each of the other m−1 elements in the subarray in this recursive call.)"
   ]
  },
  {
   "cell_type": "code",
   "execution_count": 154,
   "metadata": {
    "collapsed": true
   },
   "outputs": [],
   "source": [
    "f = open('datasets/QuickSort.txt', 'r')"
   ]
  },
  {
   "cell_type": "code",
   "execution_count": 155,
   "metadata": {},
   "outputs": [],
   "source": [
    "array = [int(line.strip()) for line in f]"
   ]
  },
  {
   "cell_type": "code",
   "execution_count": 104,
   "metadata": {},
   "outputs": [],
   "source": [
    "# the first element of the array as the pivot element.\n",
    "\n",
    "def partition_a(arr, l, r): # the first element of the array as the pivot element.\n",
    "    pivot = l\n",
    "    pivot_value = arr[pivot]\n",
    "    \n",
    "    i = l+1\n",
    "    for j in range(l+1, r+1):\n",
    "        if arr[j] < pivot_value:\n",
    "            temp = arr[i]\n",
    "            arr[i] = arr[j]\n",
    "            arr[j] = temp\n",
    "            i += 1\n",
    "            \n",
    "    arr[l] = arr[i-1]\n",
    "    arr[i-1] = pivot_value\n",
    "    \n",
    "    return (arr[l:r+1], i-1, pivot_value)\n",
    "\n",
    "\n",
    "def quicksort_a(arr):\n",
    "    if len(arr) == 1 or len(arr) == 0:\n",
    "        return (arr, 0)\n",
    "    \n",
    "    else:\n",
    "        (arr, p, p_value) = partition_a(arr, 0, len(arr)-1)\n",
    "        left, c_l = quicksort_a(arr[0:p])\n",
    "        right, c_r = quicksort_a(arr[p+1:])\n",
    "        count = len(arr)-1 + c_l + c_r\n",
    "        return (left + [p_value] + right, count)\n",
    "    "
   ]
  },
  {
   "cell_type": "code",
   "execution_count": 105,
   "metadata": {},
   "outputs": [],
   "source": [
    "_, c_a = quicksort_a(array)"
   ]
  },
  {
   "cell_type": "code",
   "execution_count": 106,
   "metadata": {},
   "outputs": [
    {
     "data": {
      "text/plain": [
       "162085"
      ]
     },
     "execution_count": 106,
     "metadata": {},
     "output_type": "execute_result"
    }
   ],
   "source": [
    "c_a"
   ]
  },
  {
   "cell_type": "code",
   "execution_count": 110,
   "metadata": {
    "collapsed": true
   },
   "outputs": [],
   "source": [
    "# always using the final element of the given array as the pivot element\n",
    "\n",
    "def partition_b(arr, l, r): # the final element of the array as the pivot element.\n",
    "    pivot = r\n",
    "    pivot_value = arr[pivot]\n",
    "    \n",
    "    temp = arr[l]\n",
    "    arr[l] = pivot_value\n",
    "    arr[pivot] = temp\n",
    "    \n",
    "    i = l+1\n",
    "    for j in range(l+1, r+1):\n",
    "        if arr[j] < pivot_value:\n",
    "            temp = arr[i]\n",
    "            arr[i] = arr[j]\n",
    "            arr[j] = temp\n",
    "            i += 1\n",
    "            \n",
    "    arr[l] = arr[i-1]\n",
    "    arr[i-1] = pivot_value\n",
    "    \n",
    "    return (arr[l:r+1], i-1, pivot_value)\n",
    "\n",
    "def quicksort_b(arr):\n",
    "    if len(arr) == 1 or len(arr) == 0:\n",
    "        return (arr, 0)\n",
    "    \n",
    "    else:\n",
    "        (arr, p, p_value) = partition_b(arr, 0, len(arr)-1)\n",
    "        left, c_l = quicksort_b(arr[0:p])\n",
    "        right, c_r = quicksort_b(arr[p+1:])\n",
    "        count = len(arr)-1 + c_l + c_r\n",
    "        return (left + [p_value] + right, count)"
   ]
  },
  {
   "cell_type": "code",
   "execution_count": 114,
   "metadata": {},
   "outputs": [
    {
     "data": {
      "text/plain": [
       "164123"
      ]
     },
     "execution_count": 114,
     "metadata": {},
     "output_type": "execute_result"
    }
   ],
   "source": [
    "_, c_b = quicksort_b(array)\n",
    "c_b"
   ]
  },
  {
   "cell_type": "code",
   "execution_count": 156,
   "metadata": {},
   "outputs": [],
   "source": [
    "# using the \"median-of-three\" pivot rule\n",
    "\n",
    "def partition_c(arr, l, r): # \"median-of-three\"\n",
    "    if (r-l) % 2 == 0:\n",
    "        mid = l+int((r-l)/2)\n",
    "    else:\n",
    "        mid = l+int((r-l-1)/2)\n",
    "    \n",
    "    dic = {arr[l]:l, arr[mid]:mid, arr[r]:r}\n",
    "    pivot_value = sorted([arr[l], arr[mid], arr[r]])[1]\n",
    "    pivot = dic[pivot_value]\n",
    "    \n",
    "    if pivot != l:\n",
    "        temp = arr[l]\n",
    "        arr[l] = pivot_value\n",
    "        arr[pivot] = temp\n",
    "    \n",
    "    i = l+1\n",
    "    for j in range(l+1, r+1):\n",
    "        if arr[j] < pivot_value:\n",
    "            temp = arr[i]\n",
    "            arr[i] = arr[j]\n",
    "            arr[j] = temp\n",
    "            i += 1\n",
    "            \n",
    "    arr[l] = arr[i-1]\n",
    "    arr[i-1] = pivot_value\n",
    "    \n",
    "    return (arr[l:r+1], i-1, pivot_value)\n",
    "\n",
    "def quicksort_c(arr):\n",
    "    if len(arr) == 1 or len(arr) == 0:\n",
    "        return (arr, 0)\n",
    "    \n",
    "    else:\n",
    "        (arr, p, p_value) = partition_c(arr, 0, len(arr)-1)\n",
    "        left, c_l = quicksort_c(arr[0:p])\n",
    "        right, c_r = quicksort_c(arr[p+1:])\n",
    "        count = len(arr)-1 + c_l + c_r\n",
    "        return (left + [p_value] + right, count)"
   ]
  },
  {
   "cell_type": "code",
   "execution_count": 157,
   "metadata": {},
   "outputs": [
    {
     "data": {
      "text/plain": [
       "138382"
      ]
     },
     "execution_count": 157,
     "metadata": {},
     "output_type": "execute_result"
    }
   ],
   "source": [
    "_, c_c = quicksort_c(array)\n",
    "c_c"
   ]
  },
  {
   "cell_type": "code",
   "execution_count": null,
   "metadata": {
    "collapsed": true
   },
   "outputs": [],
   "source": []
  }
 ],
 "metadata": {
  "kernelspec": {
   "display_name": "Python 3",
   "language": "python",
   "name": "python3"
  },
  "language_info": {
   "codemirror_mode": {
    "name": "ipython",
    "version": 3
   },
   "file_extension": ".py",
   "mimetype": "text/x-python",
   "name": "python",
   "nbconvert_exporter": "python",
   "pygments_lexer": "ipython3",
   "version": "3.6.2"
  }
 },
 "nbformat": 4,
 "nbformat_minor": 2
}

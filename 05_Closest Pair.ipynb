{
 "cells": [
  {
   "cell_type": "markdown",
   "metadata": {},
   "source": [
    "For more analysis <br>\n",
    "http://people.csail.mit.edu/indyk/6.838-old/handouts/lec17.pdf"
   ]
  },
  {
   "cell_type": "code",
   "execution_count": 11,
   "metadata": {
    "collapsed": true
   },
   "outputs": [],
   "source": [
    "import numpy as np\n",
    "import pandas as pd"
   ]
  },
  {
   "cell_type": "code",
   "execution_count": 20,
   "metadata": {},
   "outputs": [],
   "source": [
    "# below is 1D \n",
    "# assume all values are distinct\n",
    "\n",
    "def closest_pair_split(arr1, arr2): # sorted arrays in advance with mergesort\n",
    "    out = []\n",
    "    delta = None\n",
    "    c_pair = None\n",
    "    i = 0\n",
    "    j = 0\n",
    "    \n",
    "    while i < len(arr1) and j < len(arr2):\n",
    "        delta_c = np.abs(arr1[i] - arr2[j])\n",
    "        if delta == None or delta > delta_c:\n",
    "            delta = delta_c\n",
    "            c_pair = (arr1[i], arr2[j])\n",
    "        \n",
    "        if arr1[i] < arr2[j]:\n",
    "            out.append(arr1[i])\n",
    "            i += 1\n",
    "        else:\n",
    "            out.append(arr2[j])\n",
    "            j += 1\n",
    "    \n",
    "    while i < len(arr1):\n",
    "        out.append(arr1[i])\n",
    "        i += 1\n",
    "    \n",
    "    while j < len(arr2):\n",
    "        out.append(arr2[j])\n",
    "        j += 1\n",
    "    \n",
    "    return (out, delta, c_pair)\n",
    "    \n",
    "\n",
    "\n",
    "def closest_pair_1D(arr):  # assume len(arr) is power of 2\n",
    "    if len(arr) == 2:\n",
    "        if arr[0] < arr[1]:\n",
    "            out = arr\n",
    "            delta = np.abs(arr[0] - arr[1])\n",
    "            c_pair = (arr[0], arr[1])\n",
    "        \n",
    "        elif arr[0] > arr[1]:\n",
    "            out = [arr[1], arr[0]]\n",
    "            delta = np.abs(arr[0] - arr[1])\n",
    "            c_pair = (arr[0], arr[1])\n",
    "            \n",
    "        return (out, delta, c_pair)\n",
    "    \n",
    "    if len(arr) > 2:\n",
    "        mid = len(arr) // 2\n",
    "        lefthalf = arr[:mid]\n",
    "        righthalf = arr[mid:]\n",
    "        out_l, delta_l, c_pair_l = closest_pair_1D(lefthalf)\n",
    "        out_r, delta_r, c_pair_r = closest_pair_1D(righthalf)\n",
    "        out, delta_m, c_pair_split = closest_pair_split(out_l, out_r)\n",
    "        \n",
    "        if delta_l <= delta_r:\n",
    "            if delta_l <= delta_m:\n",
    "                delta = delta_l\n",
    "                c_pair = c_pair_l\n",
    "            else:\n",
    "                delta = delta_m\n",
    "                c_pair = c_pair_split\n",
    "        \n",
    "        else:\n",
    "            if delta_r <= delta_m:\n",
    "                delta = delta_r\n",
    "                c_pair = c_pair_r\n",
    "            else:\n",
    "                delta = delta_m\n",
    "                c_pair = c_pair_split\n",
    "        \n",
    "        return (out, delta, c_pair)"
   ]
  },
  {
   "cell_type": "code",
   "execution_count": 21,
   "metadata": {},
   "outputs": [
    {
     "data": {
      "text/plain": [
       "([2, 4, 6, 8, 9, 12, 14, 16], 1, (8, 9))"
      ]
     },
     "execution_count": 21,
     "metadata": {},
     "output_type": "execute_result"
    }
   ],
   "source": [
    "#closest_pair_1D([4,2])\n",
    "closest_pair_1D([2,4,6,8,9,12,14,16])"
   ]
  },
  {
   "cell_type": "code",
   "execution_count": 14,
   "metadata": {
    "collapsed": true
   },
   "outputs": [],
   "source": [
    "# below is 2D\n",
    "# assume (for convenience) all points have distinct x-coordinates, distinct y-coordinates(closest_pair_2D)\n",
    "# point is tuple (..,..)\n",
    "# out is list [...]\n",
    "# c_distance is float\n",
    "# c_pair is ((..,..), (..,..))\n",
    "\n",
    "def distance(point1, point2): # assume point is a tuple\n",
    "    distance = np.sqrt((point1[0] - point2[0])**2 + (point1[1] - point2[1])**2)\n",
    "    return distance"
   ]
  },
  {
   "cell_type": "code",
   "execution_count": 15,
   "metadata": {
    "collapsed": true
   },
   "outputs": [],
   "source": [
    "def brute_force(arr): # arr is a list of tuples representing points, len(arr) <= 3\n",
    "    out_x = [] # sorted array according to x-coordinates\n",
    "    out_y = [] # sorted array according to y-coordinates\n",
    "    c_dist = None\n",
    "    c_pair = None\n",
    "    \n",
    "    for i in range(len(arr)):\n",
    "        for j in range(i+1, len(arr)):\n",
    "            d = distance(arr[i], arr[j])\n",
    "            if c_dist == None or c_dist > d:\n",
    "                c_dist = d\n",
    "                c_pair = (arr[i], arr[j])\n",
    "    \n",
    "    out_x = sorted(arr)\n",
    "    out_y = sorted(arr, key=lambda x:x[1])\n",
    "    \n",
    "    return (out_x, out_y, c_dist, c_pair)"
   ]
  },
  {
   "cell_type": "code",
   "execution_count": null,
   "metadata": {
    "collapsed": true
   },
   "outputs": [],
   "source": [
    "def closest_pair_2d(arr): # arr is a list of tuples representing points\n",
    "    if len(arr) <= 3:\n",
    "        out_x, out_y, d, pair = brute_force(arr)\n",
    "        return (out_x, out_y, d, pair)\n",
    "    \n",
    "    elif len(arr) > 3:\n",
    "        mid = len(arr) // 2\n",
    "        lefthalf = arr[:mid]\n",
    "        righthalf = arr[mid:]\n",
    "        out_x_l, out_y_l, dl, pair_l = closest_pair_2d(lefthalf)\n",
    "        out_x_r, out_y_r, dr, pair_r = closest_pair_2d(righthalf)\n",
    "        \n",
    "        out_x = sorted(out_x_l + out_y_l)\n",
    "        out_y = sorted(out_y_l+out_y_r, key=lambda x:x[1])\n",
    "        \n",
    "        d = min(dl, dr)\n",
    "        strip_points = []\n",
    "        d_strip = None\n",
    "        pair_strip = None\n",
    "       \n",
    "        mean_x = np.mean(list(zip(*(out_x)))[0])\n",
    "        \n",
    "        for point in out_y:\n",
    "            if point[0] > mean_x - d and point[0] < mean_x + d:\n",
    "                strip_points.append(point)\n",
    "        \n",
    "        for \n",
    "    \n",
    "         "
   ]
  }
 ],
 "metadata": {
  "kernelspec": {
   "display_name": "Python 3",
   "language": "python",
   "name": "python3"
  },
  "language_info": {
   "codemirror_mode": {
    "name": "ipython",
    "version": 3
   },
   "file_extension": ".py",
   "mimetype": "text/x-python",
   "name": "python",
   "nbconvert_exporter": "python",
   "pygments_lexer": "ipython3",
   "version": "3.6.2"
  }
 },
 "nbformat": 4,
 "nbformat_minor": 2
}

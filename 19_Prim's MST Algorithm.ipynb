{
 "cells": [
  {
   "cell_type": "code",
   "execution_count": 1,
   "metadata": {
    "collapsed": true
   },
   "outputs": [],
   "source": [
    "# cost 7\n",
    "test_1 = [\n",
    "    (1,2,1),\n",
    "    (2,4,2),\n",
    "    (3,1,4),\n",
    "    (4,3,5),\n",
    "    (4,1,3)\n",
    "]\n",
    "\n",
    "# cost 14\n",
    "test_2 = [\n",
    "    (1, 2, 6),\n",
    "    (1, 4, 5),\n",
    "    (1, 5, 4),\n",
    "    (2, 4, 1),\n",
    "    (2, 5, 2),\n",
    "    (2, 3, 5),\n",
    "    (2, 6, 3),\n",
    "    (3, 6, 4),\n",
    "    (4, 5, 2),\n",
    "    (5, 6, 4)\n",
    "]"
   ]
  },
  {
   "cell_type": "code",
   "execution_count": 22,
   "metadata": {
    "collapsed": true
   },
   "outputs": [],
   "source": [
    "import re\n",
    "\n",
    "with open('datasets/edges.txt') as f:\n",
    "    content = [c.split('\\n')[0] for c in f.readlines()]\n",
    "\n",
    "pattern = re.compile(\"-?\\d+\")\n",
    "def intify(line):\n",
    "    return [int(x) for x in re.findall(pattern, line)]\n",
    "\n",
    "int_content = [intify(c) for c in content]"
   ]
  },
  {
   "cell_type": "code",
   "execution_count": 24,
   "metadata": {
    "collapsed": true
   },
   "outputs": [],
   "source": [
    "from collections import defaultdict\n",
    "\n",
    "def convert_to_graph(lst):\n",
    "    graph = defaultdict(dict)\n",
    "    for x in lst:\n",
    "        graph[x[0]][x[1]] = x[2]\n",
    "        graph[x[1]][x[0]] = x[2]\n",
    "    return graph\n",
    "\n",
    "test_1_graph = convert_to_graph(test_1)\n",
    "test_2_graph = convert_to_graph(test_2)\n",
    "\n",
    "num_of_nodes, num_of_edges = int_content[0]\n",
    "my_graph = convert_to_graph(int_content[1:])"
   ]
  },
  {
   "cell_type": "code",
   "execution_count": 25,
   "metadata": {},
   "outputs": [],
   "source": [
    "from collections import namedtuple\n",
    "from heapq import heappush, heappop\n",
    "\n",
    "\n",
    "def prim(graph):    \n",
    "    Node = namedtuple('Node', 'cost node')\n",
    "\n",
    "    T = set()\n",
    "    T.add(1)\n",
    "\n",
    "    H = []\n",
    "    for n, c in graph[1].items():\n",
    "        heappush(H, Node(cost=c, node=n))\n",
    "\n",
    "    total_cost = 0\n",
    "\n",
    "    while len(T) < len(graph):\n",
    "        cost, node = heappop(H)\n",
    "        if node not in T:     \n",
    "            T.add(node)\n",
    "            total_cost += cost\n",
    "            for n, c in graph[node].items():\n",
    "                if n not in T:\n",
    "                    heappush(H, Node(cost=c, node=n))\n",
    "    \n",
    "    return T, total_cost"
   ]
  },
  {
   "cell_type": "code",
   "execution_count": 28,
   "metadata": {},
   "outputs": [],
   "source": [
    "_, total_cost = prim(my_graph)"
   ]
  },
  {
   "cell_type": "code",
   "execution_count": 29,
   "metadata": {},
   "outputs": [
    {
     "data": {
      "text/plain": [
       "-3612829"
      ]
     },
     "execution_count": 29,
     "metadata": {},
     "output_type": "execute_result"
    }
   ],
   "source": [
    "total_cost"
   ]
  },
  {
   "cell_type": "code",
   "execution_count": null,
   "metadata": {
    "collapsed": true
   },
   "outputs": [],
   "source": []
  }
 ],
 "metadata": {
  "kernelspec": {
   "display_name": "Python 3",
   "language": "python",
   "name": "python3"
  },
  "language_info": {
   "codemirror_mode": {
    "name": "ipython",
    "version": 3
   },
   "file_extension": ".py",
   "mimetype": "text/x-python",
   "name": "python",
   "nbconvert_exporter": "python",
   "pygments_lexer": "ipython3",
   "version": "3.6.2"
  }
 },
 "nbformat": 4,
 "nbformat_minor": 2
}

{
 "cells": [
  {
   "cell_type": "markdown",
   "metadata": {},
   "source": [
    "<img src=\"images/07_Randomized Selection.png\" style=\"width:650px\"> "
   ]
  },
  {
   "cell_type": "code",
   "execution_count": 22,
   "metadata": {
    "collapsed": true
   },
   "outputs": [],
   "source": [
    "import random \n",
    "\n",
    "def rand_select(arr, i): # ith value ordered\n",
    "    if len(arr) == 1:\n",
    "        return arr[0]\n",
    "    \n",
    "    else:\n",
    "        arr, j = partition(arr, 0, len(arr)-1)\n",
    "        if j == i-1:\n",
    "            return arr[j]\n",
    "    \n",
    "        elif j < i-1:\n",
    "            return rand_select(arr[j+1:], i-j-1)\n",
    "    \n",
    "        else:\n",
    "            return rand_select(arr[0:j], i)\n",
    "            \n",
    "\n",
    "def partition(arr, l, r): # assume all distinct values\n",
    "    pivot = random.randint(l, r)\n",
    "    pivot_value = arr[pivot]\n",
    "    \n",
    "    if pivot != l:\n",
    "        arr[pivot] = arr[l]\n",
    "        arr[l] = pivot_value\n",
    "        \n",
    "    i = l+1\n",
    "    for j in range(l+1, r+1):\n",
    "        if arr[j] < pivot_value:\n",
    "            temp = arr[i]\n",
    "            arr[i] = arr[j]\n",
    "            arr[j] = temp\n",
    "            i += 1\n",
    "            \n",
    "    arr[l] = arr[i-1]\n",
    "    arr[i-1] = pivot_value\n",
    "    \n",
    "    return (arr, i-1)"
   ]
  },
  {
   "cell_type": "code",
   "execution_count": 25,
   "metadata": {},
   "outputs": [
    {
     "data": {
      "text/plain": [
       "7"
      ]
     },
     "execution_count": 25,
     "metadata": {},
     "output_type": "execute_result"
    }
   ],
   "source": [
    "rand_select([8,9,4,3,2,1,7],5)"
   ]
  },
  {
   "cell_type": "code",
   "execution_count": 40,
   "metadata": {
    "collapsed": true
   },
   "outputs": [],
   "source": [
    "# 2018-10-07\n",
    "\n",
    "import random\n",
    "# ith include 0\n",
    "\n",
    "def rand_select(arr, i):\n",
    "    if len(arr) <= i:\n",
    "        return 'ith value out of bound'\n",
    "    else:\n",
    "        p = partition(arr)\n",
    "        if p == i:\n",
    "            return arr[p]\n",
    "        elif p > i:\n",
    "            return rand_select(arr[:p], i)\n",
    "        else:\n",
    "            return rand_select(arr[p:], i-p)\n",
    "        \n",
    "        \n",
    "def partition(arr):\n",
    "    pivot = random.randint(0, len(arr) - 1)\n",
    "    pv = arr[pivot]\n",
    "    \n",
    "    arr[0], arr[pivot] = arr[pivot], arr[0]\n",
    "    i = 1\n",
    "    j = 1\n",
    "    while j < len(arr):\n",
    "        if arr[j] >= pv:\n",
    "            j += 1\n",
    "        else:\n",
    "            arr[i], arr[j] = arr[j], arr[i]\n",
    "            i += 1\n",
    "            j += 1\n",
    "    split_point = i - 1\n",
    "    arr[0], arr[split_point] = arr[split_point], arr[0]\n",
    "    return split_point"
   ]
  },
  {
   "cell_type": "code",
   "execution_count": 41,
   "metadata": {},
   "outputs": [
    {
     "data": {
      "text/plain": [
       "8"
      ]
     },
     "execution_count": 41,
     "metadata": {},
     "output_type": "execute_result"
    }
   ],
   "source": [
    "rand_select([8,9,4,3,2,1,7],5)"
   ]
  },
  {
   "cell_type": "code",
   "execution_count": 43,
   "metadata": {
    "collapsed": true
   },
   "outputs": [],
   "source": [
    "# ith not include 0\n",
    "\n",
    "def rand_select(arr, i):\n",
    "    if len(arr) <= i:\n",
    "        return 'ith value out of bound'\n",
    "    else:\n",
    "        p = partition(arr)\n",
    "        if p == i - 1:\n",
    "            return arr[p]\n",
    "        elif p > i - 1:\n",
    "            return rand_select(arr[:p], i)\n",
    "        else:\n",
    "            return rand_select(arr[p:], i-p)\n",
    "        \n",
    "        \n",
    "def partition(arr):\n",
    "    pivot = random.randint(0, len(arr) - 1)\n",
    "    pv = arr[pivot]\n",
    "    \n",
    "    arr[0], arr[pivot] = arr[pivot], arr[0]\n",
    "    i = 1\n",
    "    j = 1\n",
    "    while j < len(arr):\n",
    "        if arr[j] >= pv:\n",
    "            j += 1\n",
    "        else:\n",
    "            arr[i], arr[j] = arr[j], arr[i]\n",
    "            i += 1\n",
    "            j += 1\n",
    "    split_point = i - 1\n",
    "    arr[0], arr[split_point] = arr[split_point], arr[0]\n",
    "    return split_point"
   ]
  },
  {
   "cell_type": "code",
   "execution_count": 44,
   "metadata": {},
   "outputs": [
    {
     "data": {
      "text/plain": [
       "7"
      ]
     },
     "execution_count": 44,
     "metadata": {},
     "output_type": "execute_result"
    }
   ],
   "source": [
    "rand_select([8,9,4,3,2,1,7],5)"
   ]
  },
  {
   "cell_type": "code",
   "execution_count": null,
   "metadata": {
    "collapsed": true
   },
   "outputs": [],
   "source": []
  }
 ],
 "metadata": {
  "kernelspec": {
   "display_name": "Python 3",
   "language": "python",
   "name": "python3"
  },
  "language_info": {
   "codemirror_mode": {
    "name": "ipython",
    "version": 3
   },
   "file_extension": ".py",
   "mimetype": "text/x-python",
   "name": "python",
   "nbconvert_exporter": "python",
   "pygments_lexer": "ipython3",
   "version": "3.6.2"
  }
 },
 "nbformat": 4,
 "nbformat_minor": 2
}

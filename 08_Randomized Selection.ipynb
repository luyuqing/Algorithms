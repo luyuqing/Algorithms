{
 "cells": [
  {
   "cell_type": "markdown",
   "metadata": {},
   "source": [
    "<img src=\"images/07_Randomized Selection.png\" style=\"width:650px\"> "
   ]
  },
  {
   "cell_type": "code",
   "execution_count": 22,
   "metadata": {
    "collapsed": true
   },
   "outputs": [],
   "source": [
    "import random \n",
    "\n",
    "def rand_select(arr, i): # ith value ordered\n",
    "    if len(arr) == 1:\n",
    "        return arr[0]\n",
    "    \n",
    "    else:\n",
    "        arr, j = partition(arr, 0, len(arr)-1)\n",
    "        if j == i-1:\n",
    "            return arr[j]\n",
    "    \n",
    "        elif j < i-1:\n",
    "            return rand_select(arr[j+1:], i-j-1)\n",
    "    \n",
    "        else:\n",
    "            return rand_select(arr[0:j], i)\n",
    "            \n",
    "\n",
    "def partition(arr, l, r): # assume all distinct values\n",
    "    pivot = random.randint(l, r)\n",
    "    pivot_value = arr[pivot]\n",
    "    \n",
    "    if pivot != l:\n",
    "        arr[pivot] = arr[l]\n",
    "        arr[l] = pivot_value\n",
    "        \n",
    "    i = l+1\n",
    "    for j in range(l+1, r+1):\n",
    "        if arr[j] < pivot_value:\n",
    "            temp = arr[i]\n",
    "            arr[i] = arr[j]\n",
    "            arr[j] = temp\n",
    "            i += 1\n",
    "            \n",
    "    arr[l] = arr[i-1]\n",
    "    arr[i-1] = pivot_value\n",
    "    \n",
    "    return (arr, i-1)"
   ]
  },
  {
   "cell_type": "code",
   "execution_count": 25,
   "metadata": {},
   "outputs": [
    {
     "data": {
      "text/plain": [
       "7"
      ]
     },
     "execution_count": 25,
     "metadata": {},
     "output_type": "execute_result"
    }
   ],
   "source": [
    "rand_select([8,9,4,3,2,1,7],5)"
   ]
  },
  {
   "cell_type": "code",
   "execution_count": null,
   "metadata": {
    "collapsed": true
   },
   "outputs": [],
   "source": []
  }
 ],
 "metadata": {
  "kernelspec": {
   "display_name": "Python 3",
   "language": "python",
   "name": "python3"
  },
  "language_info": {
   "codemirror_mode": {
    "name": "ipython",
    "version": 3
   },
   "file_extension": ".py",
   "mimetype": "text/x-python",
   "name": "python",
   "nbconvert_exporter": "python",
   "pygments_lexer": "ipython3",
   "version": "3.6.2"
  }
 },
 "nbformat": 4,
 "nbformat_minor": 2
}

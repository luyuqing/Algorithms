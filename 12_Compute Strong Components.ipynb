{
 "cells": [
  {
   "cell_type": "code",
   "execution_count": 1,
   "metadata": {
    "collapsed": true
   },
   "outputs": [],
   "source": [
    "# kosaraju´s two pass algorithm"
   ]
  },
  {
   "cell_type": "code",
   "execution_count": 2,
   "metadata": {
    "collapsed": true
   },
   "outputs": [],
   "source": [
    "from collections import defaultdict\n",
    "\n",
    "def gr(graph):  # reverse a graph\n",
    "    new_graph = defaultdict(list)\n",
    "    \n",
    "    for u in graph:\n",
    "        for v in graph[u]:\n",
    "            new_graph[v].append(u)\n",
    "            \n",
    "    return new_graph       "
   ]
  },
  {
   "cell_type": "code",
   "execution_count": 3,
   "metadata": {
    "collapsed": true
   },
   "outputs": [],
   "source": [
    "def fill_order(graph, u, explored, stack):\n",
    "    explored.append(u)\n",
    "    \n",
    "    for v in graph[u]:\n",
    "        if v not in explored:\n",
    "            fill_order(graph, v, explored, stack)\n",
    "    \n",
    "    stack.append(u)\n",
    "    return (explored, stack)"
   ]
  },
  {
   "cell_type": "code",
   "execution_count": 4,
   "metadata": {
    "collapsed": true
   },
   "outputs": [],
   "source": [
    "from collections import deque\n",
    "\n",
    "def fill_order_nonrec(graph, u, explored, deq):\n",
    "    stack = [u]\n",
    "    \n",
    "    while stack:\n",
    "        v = stack.pop()\n",
    "        if v not in explored:\n",
    "            explored.append(v)\n",
    "            stack.extend(set(graph[v]) - set(explored))\n",
    "            deq.appendleft(v)\n",
    "                  \n",
    "    return (explored, deq)                "
   ]
  },
  {
   "cell_type": "code",
   "execution_count": 5,
   "metadata": {
    "collapsed": true
   },
   "outputs": [],
   "source": [
    "def dfs(graph, u, explored):\n",
    "    explored.append(u)\n",
    "    \n",
    "    for v in graph[u]:\n",
    "        if v not in explored:\n",
    "            dfs(graph, v, explored)\n",
    "    \n",
    "    return explored"
   ]
  },
  {
   "cell_type": "code",
   "execution_count": 6,
   "metadata": {
    "collapsed": true
   },
   "outputs": [],
   "source": [
    "def dfs_nonrec(graph, u, explored):\n",
    "    stack = [u]\n",
    "    \n",
    "    while stack:\n",
    "        v = stack.pop()\n",
    "        if v not in explored:\n",
    "            explored.append(v)\n",
    "            stack.extend(set(graph[v]) - set(explored))\n",
    "    \n",
    "    return explored"
   ]
  },
  {
   "cell_type": "code",
   "execution_count": 7,
   "metadata": {
    "collapsed": true
   },
   "outputs": [],
   "source": [
    "import random\n",
    "\n",
    "def find_SCCs(graph): # function to find strongly computed components\n",
    "    nodes = set(graph)\n",
    "    graph_r = gr(graph)\n",
    "    explored = []\n",
    "    stack = []\n",
    "    \n",
    "    for u in graph_r:\n",
    "        if u not in explored:\n",
    "            fill_order(graph_r, u, explored, stack)\n",
    "    \n",
    "    visited = []\n",
    "    while len(stack) > 0:\n",
    "        node = stack.pop()\n",
    "        if node not in visited:\n",
    "            visited = dfs(graph, node, visited)\n",
    "            visited.append('S') # set a mark between group of SCCs\n",
    "\n",
    "    return visited  "
   ]
  },
  {
   "cell_type": "code",
   "execution_count": 8,
   "metadata": {
    "collapsed": true
   },
   "outputs": [],
   "source": [
    "graph = {\n",
    "    1:[2],\n",
    "    2:[3, 4],\n",
    "    3:[1],\n",
    "    4:[5],\n",
    "    5:[6],\n",
    "    6:[4]\n",
    "}"
   ]
  },
  {
   "cell_type": "code",
   "execution_count": 9,
   "metadata": {},
   "outputs": [
    {
     "data": {
      "text/plain": [
       "[4, 5, 6, 'S', 2, 3, 1, 'S']"
      ]
     },
     "execution_count": 9,
     "metadata": {},
     "output_type": "execute_result"
    }
   ],
   "source": [
    "find_SCCs(graph)"
   ]
  },
  {
   "cell_type": "code",
   "execution_count": null,
   "metadata": {
    "collapsed": true
   },
   "outputs": [],
   "source": []
  },
  {
   "cell_type": "code",
   "execution_count": 10,
   "metadata": {},
   "outputs": [
    {
     "name": "stdout",
     "output_type": "stream",
     "text": [
      "Following are strongly connected components \n",
      "\n",
      "0\n",
      "1\n",
      "2\n",
      "\n",
      "3\n",
      "\n",
      "4\n",
      "\n"
     ]
    }
   ],
   "source": [
    "from collections import defaultdict # Solution from GeekforGeek\n",
    "  \n",
    "#This class represents a directed graph using adjacency list representation\n",
    "class Graph:\n",
    "  \n",
    "    def __init__(self,vertices):\n",
    "        self.V= vertices #No. of vertices\n",
    "        self.graph = defaultdict(list) # default dictionary to store graph\n",
    "  \n",
    "    # function to add an edge to graph\n",
    "    def addEdge(self,u,v):\n",
    "        self.graph[u].append(v)\n",
    "  \n",
    "    # A function used by DFS\n",
    "    def DFSUtil(self,v,visited):\n",
    "        # Mark the current node as visited and print it\n",
    "        visited[v]= True\n",
    "        print(v)\n",
    "        #Recur for all the vertices adjacent to this vertex\n",
    "        for i in self.graph[v]:\n",
    "            if visited[i]==False:\n",
    "                self.DFSUtil(i,visited)\n",
    " \n",
    " \n",
    "    def fillOrder(self,v,visited, stack):\n",
    "        # Mark the current node as visited \n",
    "        visited[v]= True\n",
    "        #Recur for all the vertices adjacent to this vertex\n",
    "        for i in self.graph[v]:\n",
    "            if visited[i]==False:\n",
    "                self.fillOrder(i, visited, stack)\n",
    "        stack = stack.append(v)\n",
    "     \n",
    " \n",
    "    # Function that returns reverse (or transpose) of this graph\n",
    "    def getTranspose(self):\n",
    "        g = Graph(self.V)\n",
    " \n",
    "        # Recur for all the vertices adjacent to this vertex\n",
    "        for i in self.graph:\n",
    "            for j in self.graph[i]:\n",
    "                g.addEdge(j,i)\n",
    "        return g\n",
    " \n",
    "  \n",
    "  \n",
    "    # The main function that finds and prints all strongly\n",
    "    # connected components\n",
    "    def printSCCs(self):\n",
    "         \n",
    "        stack = []\n",
    "        # Mark all the vertices as not visited (For first DFS)\n",
    "        visited =[False]*(self.V)\n",
    "        # Fill vertices in stack according to their finishing\n",
    "        # times\n",
    "        for i in range(self.V):\n",
    "            if visited[i]==False:\n",
    "                self.fillOrder(i, visited, stack)\n",
    " \n",
    "        # Create a reversed graph\n",
    "        gr = self.getTranspose()\n",
    "         \n",
    "        # Mark all the vertices as not visited (For second DFS)\n",
    "        visited =[False]*(self.V)\n",
    " \n",
    "        # Now process all vertices in order defined by Stack\n",
    "        while stack:\n",
    "            i = stack.pop()\n",
    "            if visited[i]==False:\n",
    "                gr.DFSUtil(i, visited)\n",
    "                print(\"\")\n",
    "  \n",
    "# Create a graph given in the above diagram\n",
    "g = Graph(5)\n",
    "g.addEdge(1, 0)\n",
    "g.addEdge(0, 2)\n",
    "g.addEdge(2, 1)\n",
    "g.addEdge(0, 3)\n",
    "g.addEdge(3, 4)\n",
    " \n",
    "  \n",
    "print(\"Following are strongly connected components \")\n",
    "print()\n",
    "g.printSCCs()"
   ]
  },
  {
   "cell_type": "code",
   "execution_count": 11,
   "metadata": {},
   "outputs": [
    {
     "data": {
      "text/plain": [
       "[['1', '2'],\n",
       " ['2', '3'],\n",
       " ['3', '1'],\n",
       " ['3', '4'],\n",
       " ['5', '4'],\n",
       " ['6', '4'],\n",
       " ['8', '6'],\n",
       " ['6', '7'],\n",
       " ['7', '8'],\n",
       " ['4', '3'],\n",
       " ['4', '6']]"
      ]
     },
     "execution_count": 11,
     "metadata": {},
     "output_type": "execute_result"
    }
   ],
   "source": [
    "with open('datasets/SCC_test2.txt', 'r') as f:\n",
    "    line = [line.strip() for line in f if line != '\\n']\n",
    "    edge = [edge.split() for edge in line]\n",
    "\n",
    "edge"
   ]
  },
  {
   "cell_type": "code",
   "execution_count": 12,
   "metadata": {},
   "outputs": [
    {
     "data": {
      "text/plain": [
       "defaultdict(list,\n",
       "            {1: [2],\n",
       "             2: [3],\n",
       "             3: [1, 4],\n",
       "             4: [3, 6],\n",
       "             5: [4],\n",
       "             6: [4, 7],\n",
       "             7: [8],\n",
       "             8: [6]})"
      ]
     },
     "execution_count": 12,
     "metadata": {},
     "output_type": "execute_result"
    }
   ],
   "source": [
    "from collections import defaultdict\n",
    "\n",
    "graph_t = defaultdict(list)\n",
    "for e in edge:\n",
    "    graph_t[int(e[0])].append(int(e[1]))\n",
    "\n",
    "graph_t"
   ]
  },
  {
   "cell_type": "code",
   "execution_count": 13,
   "metadata": {
    "collapsed": true
   },
   "outputs": [],
   "source": [
    "def final_SCC(graph):\n",
    "    nodes = set(graph)\n",
    "    graph_r = gr(graph)\n",
    "    explored = []\n",
    "    stack = []\n",
    "    \n",
    "    for u in list(graph_r):\n",
    "        if u not in explored:\n",
    "            fill_order(graph_r, u, explored, stack)\n",
    "    \n",
    "    explored = []\n",
    "    count = 0\n",
    "    prev_len = 0\n",
    "    scc_dict = {}\n",
    "    while stack:\n",
    "        node = stack.pop()\n",
    "        if node not in explored:\n",
    "            explored = dfs(graph, node, explored)\n",
    "            scc_dict[count] = len(explored) - prev_len\n",
    "            prev_len = len(explored)\n",
    "            count += 1\n",
    "\n",
    "    return scc_dict\n",
    "\n"
   ]
  },
  {
   "cell_type": "code",
   "execution_count": 14,
   "metadata": {
    "scrolled": true
   },
   "outputs": [
    {
     "data": {
      "text/plain": [
       "{0: 7, 1: 1}"
      ]
     },
     "execution_count": 14,
     "metadata": {},
     "output_type": "execute_result"
    }
   ],
   "source": [
    "final_SCC(graph_t)"
   ]
  },
  {
   "cell_type": "code",
   "execution_count": 15,
   "metadata": {},
   "outputs": [
    {
     "data": {
      "text/plain": [
       "([1, 2, 3, 4, 6, 7, 8], [8, 7, 6, 4, 3, 2, 1])"
      ]
     },
     "execution_count": 15,
     "metadata": {},
     "output_type": "execute_result"
    }
   ],
   "source": [
    "fill_order(graph_t, 1, [], [])"
   ]
  },
  {
   "cell_type": "code",
   "execution_count": 16,
   "metadata": {},
   "outputs": [
    {
     "data": {
      "text/plain": [
       "([1, 2, 3, 4, 6, 7, 8], deque([8, 7, 6, 4, 3, 2, 1]))"
      ]
     },
     "execution_count": 16,
     "metadata": {},
     "output_type": "execute_result"
    }
   ],
   "source": [
    "fill_order_nonrec(graph_t, 1, [], deque())"
   ]
  },
  {
   "cell_type": "code",
   "execution_count": 17,
   "metadata": {
    "collapsed": true
   },
   "outputs": [],
   "source": [
    "from collections import deque\n",
    "\n",
    "def final_SCC_nonrec(graph):\n",
    "    nodes = set(graph)\n",
    "    graph_r = gr(graph)\n",
    "    explored = []\n",
    "    deq = deque()\n",
    "    \n",
    "    for u in list(graph_r):\n",
    "        if u not in explored:\n",
    "            fill_order_nonrec(graph_r, u, explored, deq)\n",
    "    \n",
    "    explored = []\n",
    "    count = 0\n",
    "    prev_len = 0\n",
    "    scc_dict = {}\n",
    "    while deq:\n",
    "        node = deq.pop()\n",
    "        if node not in explored:\n",
    "            explored = dfs_nonrec(graph, node, explored)\n",
    "            scc_dict[count] = len(explored) - prev_len\n",
    "            prev_len = len(explored)\n",
    "            count += 1\n",
    "\n",
    "    return scc_dict"
   ]
  },
  {
   "cell_type": "code",
   "execution_count": 18,
   "metadata": {},
   "outputs": [
    {
     "data": {
      "text/plain": [
       "{0: 7, 1: 1}"
      ]
     },
     "execution_count": 18,
     "metadata": {},
     "output_type": "execute_result"
    }
   ],
   "source": [
    "final_SCC_nonrec(graph_t)"
   ]
  },
  {
   "cell_type": "code",
   "execution_count": null,
   "metadata": {
    "collapsed": true
   },
   "outputs": [],
   "source": []
  },
  {
   "cell_type": "code",
   "execution_count": null,
   "metadata": {
    "collapsed": true
   },
   "outputs": [],
   "source": [
    "# run_SCC.py  recursive \n",
    "\n",
    "from collections import defaultdict\n",
    "\n",
    "def gr(graph):  # reverse a graph\n",
    "    new_graph = defaultdict(list)\n",
    "\n",
    "    for u in graph:\n",
    "        for v in graph[u]:\n",
    "            new_graph[v].append(u)\n",
    "\n",
    "    return new_graph\n",
    "\n",
    "def fill_order(graph, u, explored, stack):\n",
    "    explored.append(u)\n",
    "\n",
    "    for v in graph[u]:\n",
    "        if v not in explored:\n",
    "            fill_order(graph, v, explored, stack)\n",
    "\n",
    "    stack.append(u)\n",
    "\n",
    "def dfs(graph, u, explored):\n",
    "    explored.append(u)\n",
    "\n",
    "    for v in graph[u]:\n",
    "        if v not in explored:\n",
    "            dfs(graph, v, explored)\n",
    "\n",
    "    return explored\n",
    "\n",
    "def final_SCC(graph):\n",
    "    nodes = set(graph)\n",
    "    graph_r = gr(graph)\n",
    "    explored = []\n",
    "    stack = []\n",
    "\n",
    "    for u in list(graph_r):\n",
    "        if u not in explored:\n",
    "            fill_order(graph_r, u, explored, stack)\n",
    "\n",
    "    explored = []\n",
    "    count = 0\n",
    "    prev_len = 0\n",
    "    scc_dict = {}\n",
    "    while stack:\n",
    "        node = stack.pop()\n",
    "        if node not in explored:\n",
    "            explored = dfs(graph, node, explored)\n",
    "            scc_dict[count] = len(explored) - prev_len\n",
    "            prev_len = len(explored)\n",
    "            count += 1\n",
    "\n",
    "    return scc_dict\n",
    "\n",
    "with open('SCC_test2.txt', 'r') as f:\n",
    "    line = [line.strip() for line in f]\n",
    "    edge = [edge.split() for edge in line]\n",
    "\n",
    "graph_t = defaultdict(list)\n",
    "for e in edge:\n",
    "    graph_t[int(e[0])].append(int(e[1]))\n",
    "\n",
    "final = final_SCC(graph_t)\n",
    "print(final)"
   ]
  },
  {
   "cell_type": "code",
   "execution_count": null,
   "metadata": {
    "collapsed": true
   },
   "outputs": [],
   "source": [
    "from collections import defaultdict\n",
    "from collections import deque\n",
    "\n",
    "def gr(graph):  # reverse a graph\n",
    "    new_graph = defaultdict(list)\n",
    "\n",
    "    for u in graph:\n",
    "        for v in graph[u]:\n",
    "            new_graph[v].append(u)\n",
    "\n",
    "    return new_graph\n",
    "\n",
    "def fill_order_nonrec(graph, u, explored, deq):\n",
    "    stack = [u]\n",
    "\n",
    "    while stack:\n",
    "        v = stack.pop()\n",
    "        if v not in explored:\n",
    "            explored.append(v)\n",
    "            stack.extend(set(graph[v]) - set(explored))\n",
    "            deq.appendleft(v)\n",
    "\n",
    "    return (explored, deq)\n",
    "\n",
    "def dfs_nonrec(graph, u, explored):\n",
    "    stack = [u]\n",
    "\n",
    "    while stack:\n",
    "        v = stack.pop()\n",
    "        if v not in explored:\n",
    "            explored.append(v)\n",
    "            stack.extend(set(graph[v]) - set(explored))\n",
    "\n",
    "    return explored\n",
    "\n",
    "def final_SCC_nonrec(graph):\n",
    "    nodes = set(graph)\n",
    "    graph_r = gr(graph)\n",
    "    explored = []\n",
    "    deq = deque()\n",
    "\n",
    "    for u in list(graph_r):\n",
    "        if u not in explored:\n",
    "            fill_order_nonrec(graph_r, u, explored, deq)\n",
    "\n",
    "    explored = []\n",
    "    count = 0\n",
    "    prev_len = 0\n",
    "    scc_dict = {}\n",
    "    while deq:\n",
    "        node = deq.pop()\n",
    "        if node not in explored:\n",
    "            explored = dfs_nonrec(graph, node, explored)\n",
    "            scc_dict[count] = len(explored) - prev_len\n",
    "            prev_len = len(explored)\n",
    "            count += 1\n",
    "\n",
    "    return scc_dict\n",
    "\n",
    "with open('SCC_test1.txt', 'r') as f:\n",
    "    line = [line.strip() for line in f]\n",
    "    edge = [edge.split() for edge in line]\n",
    "\n",
    "graph_t = defaultdict(list)\n",
    "for e in edge:\n",
    "    graph_t[int(e[0])].append(int(e[1]))\n",
    "\n",
    "final = final_SCC_nonrec(graph_t)\n",
    "print(final)"
   ]
  },
  {
   "cell_type": "code",
   "execution_count": null,
   "metadata": {
    "collapsed": true
   },
   "outputs": [],
   "source": [
    "from collections import defaultdict\n",
    "from collections import deque\n",
    "import operator\n",
    "\n",
    "def gr(graph):  # reverse a graph\n",
    "    new_graph = defaultdict(list)\n",
    "\n",
    "    for u in graph:\n",
    "        for v in graph[u]:\n",
    "            new_graph[v].append(u)\n",
    "\n",
    "    return new_graph\n",
    "\n",
    "def fill_order_nonrec(graph, u, explored, deq):\n",
    "    stack = [u]\n",
    "\n",
    "    while stack:\n",
    "        v = stack.pop()\n",
    "        if v not in explored:\n",
    "            explored.append(v)\n",
    "            for n in graph[v]:\n",
    "                if n not in explored:\n",
    "                    stack.append(n)\n",
    "            deq.appendleft(v)\n",
    "\n",
    "    return (explored, deq)\n",
    "\n",
    "def dfs_nonrec(graph, u, explored):\n",
    "    stack = [u]\n",
    "\n",
    "    while stack:\n",
    "        v = stack.pop()\n",
    "        if v not in explored:\n",
    "            explored.append(v)\n",
    "            for n in graph[v]:\n",
    "                if n not in explored:\n",
    "                    stack.append(n)\n",
    "\n",
    "    return explored\n",
    "\n",
    "def final_SCC_nonrec(graph):\n",
    "    nodes = set(graph)\n",
    "    graph_r = gr(graph)\n",
    "    explored = []\n",
    "    deq = deque()\n",
    "\n",
    "    for u in list(graph_r):\n",
    "        if u not in explored:\n",
    "            fill_order_nonrec(graph_r, u, explored, deq)\n",
    "\n",
    "    explored = []\n",
    "    count = 0\n",
    "    prev_len = 0\n",
    "    scc_dict = {}\n",
    "    while deq:\n",
    "        node = deq.pop()\n",
    "        if node not in explored:\n",
    "            explored = dfs_nonrec(graph, node, explored)\n",
    "            scc_dict[count] = len(explored) - prev_len\n",
    "            prev_len = len(explored)\n",
    "            count += 1\n",
    "\n",
    "    return scc_dict\n",
    "\n",
    "with open('SCC_test2.txt', 'r') as f:\n",
    "    line = [line.strip() for line in f]\n",
    "    edge = [edge.split() for edge in line]\n",
    "\n",
    "graph_t = defaultdict(list)\n",
    "for e in edge:\n",
    "    graph_t[int(e[0])].append(int(e[1]))\n",
    "\n",
    "final = final_SCC_nonrec(graph_t)\n",
    "\n",
    "if len(final) <= 5:\n",
    "    print(final)\n",
    "\n",
    "else:\n",
    "    final_dic = sorted(final.items(), key=operator.itemgetter(1), reverse=True)[:5]\n",
    "    print(final_dic)\n"
   ]
  },
  {
   "cell_type": "markdown",
   "metadata": {},
   "source": [
    "## Here Comes Final Solution, Works Under One Minute"
   ]
  },
  {
   "cell_type": "code",
   "execution_count": null,
   "metadata": {
    "collapsed": true
   },
   "outputs": [],
   "source": [
    "from collections import defaultdict\n",
    "import sys\n",
    "import threading\n",
    "import operator\n",
    "\n",
    "def gr(graph):  # reverse a graph\n",
    "    new_graph = defaultdict(list)\n",
    "\n",
    "    for u in graph:\n",
    "        for v in graph[u]:\n",
    "            new_graph[v].append(u)\n",
    "\n",
    "    return new_graph\n",
    "\n",
    "def fill_order(graph, u, explored, stack):\n",
    "    explored.add(u)\n",
    "\n",
    "    for v in graph[u]:\n",
    "        if v not in explored:\n",
    "            fill_order(graph, v, explored, stack)\n",
    "\n",
    "    stack.append(u)\n",
    "\n",
    "def dfs(graph, u, explored):\n",
    "    explored.add(u)\n",
    "\n",
    "    for v in graph[u]:\n",
    "        if v not in explored:\n",
    "            dfs(graph, v, explored)\n",
    "\n",
    "    return explored\n",
    "\n",
    "def final_SCC(graph):\n",
    "    nodes = set(graph)\n",
    "    graph_r = gr(graph)\n",
    "    explored = set()\n",
    "    stack = []\n",
    "\n",
    "    for u in list(graph_r):\n",
    "        if u not in explored:\n",
    "            fill_order(graph_r, u, explored, stack)\n",
    "\n",
    "    explored = set()\n",
    "    count = 0\n",
    "    prev_len = 0\n",
    "    scc_dict = {}\n",
    "    while stack:\n",
    "        node = stack.pop()\n",
    "        if node not in explored:\n",
    "            explored = dfs(graph, node, explored)\n",
    "            scc_dict[count] = len(explored) - prev_len\n",
    "            prev_len = len(explored)\n",
    "            count += 1\n",
    "\n",
    "    return scc_dict\n",
    "\n",
    "with open('SCC.txt', 'r') as f:\n",
    "    line = [line.strip() for line in f]\n",
    "    edge = [edge.split() for edge in line]\n",
    "\n",
    "graph_t = defaultdict(list)\n",
    "for e in edge:\n",
    "    graph_t[int(e[0])].append(int(e[1]))\n",
    "\n",
    "def main():\n",
    "    final = final_SCC(graph_t)\n",
    "    if len(final) <= 5:\n",
    "        print(final)\n",
    "\n",
    "    else:\n",
    "        final_dic = sorted(final.items(), key=operator.itemgetter(1), reverse=True)[:5]\n",
    "        print(final_dic)\n",
    "\n",
    "if __name__ == '__main__':\n",
    "    threading.stack_size(67108864)\n",
    "    sys.setrecursionlimit(2 ** 20)\n",
    "    thread = threading.Thread(target=main)\n",
    "    thread.start()"
   ]
  }
 ],
 "metadata": {
  "kernelspec": {
   "display_name": "Python 3",
   "language": "python",
   "name": "python3"
  },
  "language_info": {
   "codemirror_mode": {
    "name": "ipython",
    "version": 3
   },
   "file_extension": ".py",
   "mimetype": "text/x-python",
   "name": "python",
   "nbconvert_exporter": "python",
   "pygments_lexer": "ipython3",
   "version": "3.6.2"
  }
 },
 "nbformat": 4,
 "nbformat_minor": 2
}

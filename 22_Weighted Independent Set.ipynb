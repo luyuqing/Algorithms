{
 "cells": [
  {
   "cell_type": "code",
   "execution_count": 4,
   "metadata": {
    "collapsed": true
   },
   "outputs": [],
   "source": [
    "# compute a maximum weighted independent set in path graphs\n",
    "# https://wincent.com/wiki/Computing_the_Maximum_Weighted_Independent_Set_of_a_graph_path\n",
    "\n",
    "# calculate the number of maximum WIS\n",
    "# let's say S- is the max wis for n-1 nums, S is the max wis for the first n nums, S' is the max wis for the n+1 s\n",
    "# if S does not include nth number, then S' must be S + n+1th number\n",
    "# if S includes nth number, S' must be S or S- + n+1th number (which bigger goes which)\n",
    "\n",
    "# test = [1, 3, 4, 9, 5, 7, 11]\n",
    "# test = [10, 280, 618, 762, 908, 409, 34, 59, 277, 246, 779]\n",
    "test =[10, 460, 250, 730, 63, 379, 638, 122, 435, 705, 84]\n",
    "\n",
    "def calc_max(lst):\n",
    "    output = {}\n",
    "    for i, n in enumerate(lst):\n",
    "        if i == 0:\n",
    "            output[i] = n\n",
    "        elif i == 1:\n",
    "            output[i] = max(lst[0], lst[1])\n",
    "        else:\n",
    "            output[i] = max(output[i-1], output[i-2] + n)\n",
    "            \n",
    "    output_lst = [v for v in output.values()]\n",
    "    return output, output_lst       "
   ]
  },
  {
   "cell_type": "code",
   "execution_count": 5,
   "metadata": {},
   "outputs": [
    {
     "data": {
      "text/plain": [
       "[10, 460, 460, 1190, 1190, 1569, 1828, 1828, 2263, 2533, 2533]"
      ]
     },
     "execution_count": 5,
     "metadata": {},
     "output_type": "execute_result"
    }
   ],
   "source": [
    "test_out_dict, test_out_lst = calc_max(test)\n",
    "test_out_lst"
   ]
  },
  {
   "cell_type": "code",
   "execution_count": 6,
   "metadata": {
    "scrolled": true
   },
   "outputs": [
    {
     "data": {
      "text/plain": [
       "{460, 638, 705, 730}"
      ]
     },
     "execution_count": 6,
     "metadata": {},
     "output_type": "execute_result"
    }
   ],
   "source": [
    "# reconstruct\n",
    "\n",
    "# test_l = [1, 3, 4, 9, 5, 7, 11]\n",
    "# test_s = [1, 3, 5, 12, 12, 19, 23]\n",
    "# test_l = [10, 280, 618, 762, 908, 409, 34, 59, 277, 246, 779]\n",
    "# test_s = [10, 280, 628, 1042, 1536, 1536, 1570, 1595, 1847, 1847, 2626]\n",
    "test_l = [10, 460, 250, 730, 63, 379, 638, 122, 435, 705, 84]\n",
    "test_s = [10, 460, 460, 1190, 1190, 1569, 1828, 1828, 2263, 2533, 2533]\n",
    "\n",
    "\n",
    "def recon(lst, sum_lst):\n",
    "    wis_set = set()\n",
    "    while lst:\n",
    "        if len(lst) == 1:\n",
    "            n = lst.pop()\n",
    "            wis_set.add(n)\n",
    "        else:\n",
    "            n1 = lst.pop()\n",
    "            s1 = sum_lst.pop()\n",
    "            n2 = lst.pop()\n",
    "            s2 = sum_lst.pop()\n",
    "            if s1 == s2:\n",
    "                wis_set.add(n2)\n",
    "                lst.pop()\n",
    "                sum_lst.pop()\n",
    "            else:\n",
    "                wis_set.add(n1)\n",
    "    \n",
    "    return wis_set\n",
    "    \n",
    "recon(test_l, test_s)"
   ]
  },
  {
   "cell_type": "code",
   "execution_count": null,
   "metadata": {
    "collapsed": true
   },
   "outputs": [],
   "source": []
  }
 ],
 "metadata": {
  "kernelspec": {
   "display_name": "Python 3",
   "language": "python",
   "name": "python3"
  },
  "language_info": {
   "codemirror_mode": {
    "name": "ipython",
    "version": 3
   },
   "file_extension": ".py",
   "mimetype": "text/x-python",
   "name": "python",
   "nbconvert_exporter": "python",
   "pygments_lexer": "ipython3",
   "version": "3.6.2"
  }
 },
 "nbformat": 4,
 "nbformat_minor": 2
}

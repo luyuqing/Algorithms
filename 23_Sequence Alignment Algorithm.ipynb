{
 "cells": [
  {
   "cell_type": "code",
   "execution_count": 8,
   "metadata": {},
   "outputs": [
    {
     "name": "stdout",
     "output_type": "stream",
     "text": [
      "ACCGT\n",
      "| || \n",
      "A-CG-\n",
      "  Score=3\n",
      "\n",
      "ACCGT\n",
      "|| | \n",
      "AC-G-\n",
      "  Score=3\n",
      "\n"
     ]
    }
   ],
   "source": [
    "# http://biopython.org/DIST/docs/api/Bio.pairwise2-module.html\n",
    "\n",
    "from Bio import pairwise2\n",
    "from Bio.pairwise2 import format_alignment\n",
    "\n",
    "for a in pairwise2.align.globalxx(\"ACCGT\", \"ACG\"):\n",
    "    print(format_alignment(*a))\n",
    "\n"
   ]
  },
  {
   "cell_type": "code",
   "execution_count": 15,
   "metadata": {},
   "outputs": [
    {
     "name": "stdout",
     "output_type": "stream",
     "text": [
      "ACCGT\n",
      "| || \n",
      "A-CG-\n",
      "  Score=6\n",
      "\n",
      "ACCGT\n",
      "|| | \n",
      "AC-G-\n",
      "  Score=6\n",
      "\n"
     ]
    }
   ],
   "source": [
    "# Identical given 2 points, deducted 1 for mismatch. Don't penalize gaps.\n",
    "\n",
    "for a in pairwise2.align.globalmx(\"ACCGT\", \"ACG\", 2, -1):\n",
    "    print(format_alignment(*a))"
   ]
  },
  {
   "cell_type": "code",
   "execution_count": 19,
   "metadata": {},
   "outputs": [
    {
     "name": "stdout",
     "output_type": "stream",
     "text": [
      "ACCGT\n",
      "| || \n",
      "A-CG-\n",
      "  Score=5\n",
      "\n",
      "ACCGT\n",
      "|| | \n",
      "AC-G-\n",
      "  Score=5\n",
      "\n"
     ]
    }
   ],
   "source": [
    "# Save as above, and 0.5 points deducted opening a gap, 0.1 points are deducted when extending it\n",
    "\n",
    "for a in pairwise2.align.globalms(\"ACCGT\", \"ACG\", 2, -1, -.5, -.1):\n",
    "    print(format_alignment(*a))"
   ]
  },
  {
   "cell_type": "code",
   "execution_count": null,
   "metadata": {},
   "outputs": [],
   "source": []
  }
 ],
 "metadata": {
  "kernelspec": {
   "display_name": "Python 3",
   "language": "python",
   "name": "python3"
  },
  "language_info": {
   "codemirror_mode": {
    "name": "ipython",
    "version": 3
   },
   "file_extension": ".py",
   "mimetype": "text/x-python",
   "name": "python",
   "nbconvert_exporter": "python",
   "pygments_lexer": "ipython3",
   "version": "3.7.0"
  }
 },
 "nbformat": 4,
 "nbformat_minor": 2
}
